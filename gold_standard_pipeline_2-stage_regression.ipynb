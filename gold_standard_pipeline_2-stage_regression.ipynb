{
 "cells": [
  {
   "cell_type": "markdown",
   "source": [],
   "metadata": {
    "id": "f4BBvIFlDTn4"
   }
  },
  {
   "cell_type": "code",
   "execution_count": 1,
   "outputs": [
    {
     "name": "stdout",
     "output_type": "stream",
     "text": [
      "Studied question: What are the genetic factors related to Epilepsy when considering the influence of Obesity?\n"
     ]
    }
   ],
   "source": [
    "TRAIT = \"Epilepsy\"\n",
    "CONDITION = 'Obesity'\n",
    "QUESTION = f'What are the genetic factors related to {TRAIT} when considering the influence of {CONDITION}?'\n",
    "print(f\"Studied question: {QUESTION}\")\n",
    "\n",
    "# Gene symbol normalization may take a few minutes. Set to True for the final run after debugging.\n",
    "NORMALIZE_GENE = True"
   ],
   "metadata": {
    "collapsed": false,
    "ExecuteTime": {
     "end_time": "2023-12-26T00:50:28.903846205Z",
     "start_time": "2023-12-26T00:50:28.903502685Z"
    }
   }
  },
  {
   "cell_type": "markdown",
   "source": [
    "# 1. Basic setups"
   ],
   "metadata": {
    "collapsed": false
   }
  },
  {
   "cell_type": "code",
   "execution_count": 2,
   "metadata": {
    "colab": {
     "base_uri": "https://localhost:8080/"
    },
    "id": "RfZyGy24gG1e",
    "outputId": "19099e6d-e949-4a85-b731-53af1efe8d4d",
    "ExecuteTime": {
     "end_time": "2023-12-26T00:50:28.904091626Z",
     "start_time": "2023-12-26T00:50:28.903793624Z"
    }
   },
   "outputs": [
    {
     "data": {
      "text/plain": "\"import os\\nfrom google.colab import drive\\n\\ndrive.mount('/content/drive', force_remount=True)\\nproj_dir = '/content/drive/MyDrive/AI4Science_Public'\\nos.chdir(proj_dir)\""
     },
     "execution_count": 2,
     "metadata": {},
     "output_type": "execute_result"
    }
   ],
   "source": [
    "# This cell is only for use on Google Colab. Skip it if you run your code in other environments\n",
    "\n",
    "\"\"\"import os\n",
    "from google.colab import drive\n",
    "\n",
    "drive.mount('/content/drive', force_remount=True)\n",
    "proj_dir = '/content/drive/MyDrive/AI4Science_Public'\n",
    "os.chdir(proj_dir)\"\"\""
   ]
  },
  {
   "cell_type": "code",
   "source": [
    "import os\n",
    "from utils import *\n",
    "\n",
    "# data_root = './data'\n",
    "data_root = '/media/techt/DATA'\n",
    "dataset = 'GEO'\n",
    "trait_subdir = \"Epilepsy\"\n",
    "condition_subdir = \"Obesity\"\n",
    "trait_accession_num = \"GSE205661\"\n",
    "condition_accession_num = \"GSE181339\"\n",
    "output_dir = './output'\n",
    "\n",
    "trait_cohort_dir = os.path.join(data_root, dataset, trait_subdir, trait_accession_num)\n",
    "condition_cohort_dir = os.path.join(data_root, dataset, condition_subdir, condition_accession_num)"
   ],
   "metadata": {
    "id": "talksi0WITUr",
    "ExecuteTime": {
     "end_time": "2023-12-26T00:50:29.014553149Z",
     "start_time": "2023-12-26T00:50:28.903957208Z"
    }
   },
   "execution_count": 3,
   "outputs": []
  },
  {
   "cell_type": "code",
   "execution_count": 4,
   "outputs": [],
   "source": [
    "trait_soft_file, trait_matrix_file = get_relevant_filepaths(trait_cohort_dir)\n",
    "condition_soft_file, condition_matrix_file = get_relevant_filepaths(condition_cohort_dir)"
   ],
   "metadata": {
    "collapsed": false,
    "ExecuteTime": {
     "end_time": "2023-12-26T00:50:29.017302278Z",
     "start_time": "2023-12-26T00:50:29.015277540Z"
    }
   }
  },
  {
   "cell_type": "code",
   "execution_count": 5,
   "outputs": [
    {
     "data": {
      "text/plain": "('/media/techt/DATA/GEO/Epilepsy/GSE205661/GSE205661_family.soft.gz',\n '/media/techt/DATA/GEO/Epilepsy/GSE205661/GSE205661-GPL13534_series_matrix.txt.gz')"
     },
     "execution_count": 5,
     "metadata": {},
     "output_type": "execute_result"
    }
   ],
   "source": [
    "trait_soft_file, trait_matrix_file"
   ],
   "metadata": {
    "collapsed": false,
    "ExecuteTime": {
     "end_time": "2023-12-26T00:50:29.059455439Z",
     "start_time": "2023-12-26T00:50:29.018537700Z"
    }
   }
  },
  {
   "cell_type": "markdown",
   "source": [
    "# 2. Data proprocessing"
   ],
   "metadata": {
    "collapsed": false
   }
  },
  {
   "cell_type": "markdown",
   "source": [
    "## 2.1 Preparing the trait dataset"
   ],
   "metadata": {
    "collapsed": false
   }
  },
  {
   "cell_type": "markdown",
   "source": [
    "We are studying the association between some human traits and gene expression. Please read the below background information and decide whether this dataset is relevant, by answering the below questions:\n",
    "\n",
    "(1) Does it contain gene expression data? Pure miRNA data are not usable.\n",
    "(2) Does it contain human data about the trait '{TRAIT}'? If so, can we quantify this trait as a binary or continuous variable?\n",
    "(3) Does it contain human data about the trait '{CONDITION}'? If so, can we quantify this trait as a binary or continuous variable?"
   ],
   "metadata": {
    "collapsed": false
   }
  },
  {
   "cell_type": "code",
   "execution_count": 6,
   "outputs": [
    {
     "name": "stdout",
     "output_type": "stream",
     "text": [
      "!Series_title\t\"Integrated analysis of expression profile and potential pathogenic mechanism of temporal lobe epilepsy with hippocampal sclerosis\"\n",
      "!Series_summary\t\"To investigate the potential pathogenic mechanism of temporal lobe epilepsy with hippocampal sclerosis (TLE+HS), we have employed analyzing of the expression profiles of microRNA/ mRNA/ lncRNA/ DNA methylation in brain tissues of hippocampal sclerosis (TLE+HS) patients. Brain tissues of six patients with TLE+HS and nine of normal temporal or parietal cortices (NTP) of patients undergoing internal decompression for traumatic brain injury (TBI) were collected. The total RNA was dephosphorylated, labeled, and hybridized to the Agilent Human miRNA Microarray, Release 19.0, 8x60K. The cDNA was labeled and hybridized to the Agilent LncRNA+mRNA Human Gene Expression Microarray V3.0，4x180K. For methylation detection, the DNA was labeled and hybridized to the Illumina 450K Infinium Methylation BeadChip. The raw data was extracted from hybridized images using Agilent Feature Extraction, and quantile normalization was performed using the Agilent GeneSpring. We found that the disorder of FGFR3, hsa-miR-486-5p, and lnc-KCNH5-1 plays a key vital role in developing TLE+HS.\"\n",
      "!Series_overall_design\t\"Brain tissues of six patients with TLE+HS and nine of normal temporal or parietal cortices (NTP) of patients undergoing internal decompression for traumatic brain injury (TBI) were collected.\"\n",
      "!Sample_geo_accession\t\"GSM6216198\"\t\"GSM6216199\"\t\"GSM6216200\"\t\"GSM6216201\"\t\"GSM6216202\"\t\"GSM6216203\"\t\"GSM6216204\"\t\"GSM6216205\"\t\"GSM6216206\"\t\"GSM6216207\"\t\"GSM6216208\"\t\"GSM6216209\"\t\"GSM6216210\"\t\"GSM6216211\"\t\"GSM6216212\"\n",
      "!Sample_characteristics_ch1\t\"tissue: Hippocampus\"\t\"tissue: Hippocampus\"\t\"tissue: Hippocampus\"\t\"tissue: Hippocampus\"\t\"tissue: Hippocampus\"\t\"tissue: Hippocampus\"\t\"tissue: Temporal lobe\"\t\"tissue: Temporal lobe\"\t\"tissue: Temporal lobe\"\t\"tissue: Temporal lobe\"\t\"tissue: Temporal lobe\"\t\"tissue: Temporal lobe\"\t\"tissue: Parietal lobe\"\t\"tissue: Temporal lobe\"\t\"tissue: Parietal lobe\"\n",
      "!Sample_characteristics_ch1\t\"gender: Female\"\t\"gender: Male\"\t\"gender: Male\"\t\"gender: Female\"\t\"gender: Female\"\t\"gender: Male\"\t\"gender: Female\"\t\"gender: Male\"\t\"gender: Female\"\t\"gender: Male\"\t\"gender: Male\"\t\"gender: Male\"\t\"gender: Male\"\t\"gender: Male\"\t\"gender: Male\"\n",
      "!Sample_characteristics_ch1\t\"age: 23y\"\t\"age: 29y\"\t\"age: 37y\"\t\"age: 26y\"\t\"age: 16y\"\t\"age: 13y\"\t\"age: 62y\"\t\"age: 58y\"\t\"age: 63y\"\t\"age: 68y\"\t\"age: 77y\"\t\"age: 59y\"\t\"age: 50y\"\t\"age: 39y\"\t\"age: 23y\"\n"
     ]
    }
   ],
   "source": [
    "background_prefixes = ['!Sample_geo_accession', '!Series_title', '!Series_summary', '!Series_overall_design', '!Sample_characteristics_ch1']\n",
    "\n",
    "trait_background_info = get_background_info(trait_matrix_file, background_prefixes)\n",
    "print(trait_background_info)"
   ],
   "metadata": {
    "collapsed": false,
    "ExecuteTime": {
     "end_time": "2023-12-26T00:50:29.468763958Z",
     "start_time": "2023-12-26T00:50:29.059399391Z"
    }
   }
  },
  {
   "cell_type": "markdown",
   "source": [
    "Focus on the clinical traits of the samples."
   ],
   "metadata": {
    "collapsed": false
   }
  },
  {
   "cell_type": "code",
   "execution_count": 7,
   "outputs": [],
   "source": [
    "clinical_prefixes = ['!Sample_geo_accession', '!Sample_characteristics_ch1']\n",
    "trait_clinical_data = get_clinical_data(trait_background_info, clinical_prefixes)"
   ],
   "metadata": {
    "collapsed": false,
    "ExecuteTime": {
     "end_time": "2023-12-26T00:50:29.472857368Z",
     "start_time": "2023-12-26T00:50:29.470042102Z"
    }
   }
  },
  {
   "cell_type": "code",
   "execution_count": 8,
   "outputs": [
    {
     "data": {
      "text/plain": "         !Sample_geo_accession           GSM6216198           GSM6216199  \\\n0  !Sample_characteristics_ch1  tissue: Hippocampus  tissue: Hippocampus   \n1  !Sample_characteristics_ch1       gender: Female         gender: Male   \n2  !Sample_characteristics_ch1             age: 23y             age: 29y   \n\n            GSM6216200           GSM6216201           GSM6216202  \\\n0  tissue: Hippocampus  tissue: Hippocampus  tissue: Hippocampus   \n1         gender: Male       gender: Female       gender: Female   \n2             age: 37y             age: 26y             age: 16y   \n\n            GSM6216203             GSM6216204             GSM6216205  \\\n0  tissue: Hippocampus  tissue: Temporal lobe  tissue: Temporal lobe   \n1         gender: Male         gender: Female           gender: Male   \n2             age: 13y               age: 62y               age: 58y   \n\n              GSM6216206             GSM6216207             GSM6216208  \\\n0  tissue: Temporal lobe  tissue: Temporal lobe  tissue: Temporal lobe   \n1         gender: Female           gender: Male           gender: Male   \n2               age: 63y               age: 68y               age: 77y   \n\n              GSM6216209             GSM6216210             GSM6216211  \\\n0  tissue: Temporal lobe  tissue: Parietal lobe  tissue: Temporal lobe   \n1           gender: Male           gender: Male           gender: Male   \n2               age: 59y               age: 50y               age: 39y   \n\n              GSM6216212  \n0  tissue: Parietal lobe  \n1           gender: Male  \n2               age: 23y  ",
      "text/html": "<div>\n<style scoped>\n    .dataframe tbody tr th:only-of-type {\n        vertical-align: middle;\n    }\n\n    .dataframe tbody tr th {\n        vertical-align: top;\n    }\n\n    .dataframe thead th {\n        text-align: right;\n    }\n</style>\n<table border=\"1\" class=\"dataframe\">\n  <thead>\n    <tr style=\"text-align: right;\">\n      <th></th>\n      <th>!Sample_geo_accession</th>\n      <th>GSM6216198</th>\n      <th>GSM6216199</th>\n      <th>GSM6216200</th>\n      <th>GSM6216201</th>\n      <th>GSM6216202</th>\n      <th>GSM6216203</th>\n      <th>GSM6216204</th>\n      <th>GSM6216205</th>\n      <th>GSM6216206</th>\n      <th>GSM6216207</th>\n      <th>GSM6216208</th>\n      <th>GSM6216209</th>\n      <th>GSM6216210</th>\n      <th>GSM6216211</th>\n      <th>GSM6216212</th>\n    </tr>\n  </thead>\n  <tbody>\n    <tr>\n      <th>0</th>\n      <td>!Sample_characteristics_ch1</td>\n      <td>tissue: Hippocampus</td>\n      <td>tissue: Hippocampus</td>\n      <td>tissue: Hippocampus</td>\n      <td>tissue: Hippocampus</td>\n      <td>tissue: Hippocampus</td>\n      <td>tissue: Hippocampus</td>\n      <td>tissue: Temporal lobe</td>\n      <td>tissue: Temporal lobe</td>\n      <td>tissue: Temporal lobe</td>\n      <td>tissue: Temporal lobe</td>\n      <td>tissue: Temporal lobe</td>\n      <td>tissue: Temporal lobe</td>\n      <td>tissue: Parietal lobe</td>\n      <td>tissue: Temporal lobe</td>\n      <td>tissue: Parietal lobe</td>\n    </tr>\n    <tr>\n      <th>1</th>\n      <td>!Sample_characteristics_ch1</td>\n      <td>gender: Female</td>\n      <td>gender: Male</td>\n      <td>gender: Male</td>\n      <td>gender: Female</td>\n      <td>gender: Female</td>\n      <td>gender: Male</td>\n      <td>gender: Female</td>\n      <td>gender: Male</td>\n      <td>gender: Female</td>\n      <td>gender: Male</td>\n      <td>gender: Male</td>\n      <td>gender: Male</td>\n      <td>gender: Male</td>\n      <td>gender: Male</td>\n      <td>gender: Male</td>\n    </tr>\n    <tr>\n      <th>2</th>\n      <td>!Sample_characteristics_ch1</td>\n      <td>age: 23y</td>\n      <td>age: 29y</td>\n      <td>age: 37y</td>\n      <td>age: 26y</td>\n      <td>age: 16y</td>\n      <td>age: 13y</td>\n      <td>age: 62y</td>\n      <td>age: 58y</td>\n      <td>age: 63y</td>\n      <td>age: 68y</td>\n      <td>age: 77y</td>\n      <td>age: 59y</td>\n      <td>age: 50y</td>\n      <td>age: 39y</td>\n      <td>age: 23y</td>\n    </tr>\n  </tbody>\n</table>\n</div>"
     },
     "execution_count": 8,
     "metadata": {},
     "output_type": "execute_result"
    }
   ],
   "source": [
    "trait_clinical_data"
   ],
   "metadata": {
    "collapsed": false,
    "ExecuteTime": {
     "end_time": "2023-12-26T00:50:29.519212158Z",
     "start_time": "2023-12-26T00:50:29.473593121Z"
    }
   }
  },
  {
   "cell_type": "markdown",
   "source": [
    "Find the index of the row that records data about '{TRAIT}'. The index should start with 0. Choose a proper data type for the trait between 'binary' and 'continuous', and write a function that converts a value in the cell into that data type."
   ],
   "metadata": {
    "collapsed": false
   }
  },
  {
   "cell_type": "code",
   "execution_count": 9,
   "outputs": [],
   "source": [
    "trait_row_id = 0\n",
    "\n",
    "def decode_trait_var(value):\n",
    "    if value == 'tissue: Hippocampus':\n",
    "        return 1\n",
    "    else:\n",
    "        return 0"
   ],
   "metadata": {
    "collapsed": false,
    "ExecuteTime": {
     "end_time": "2023-12-26T00:50:29.519301911Z",
     "start_time": "2023-12-26T00:50:29.515409235Z"
    }
   }
  },
  {
   "cell_type": "code",
   "execution_count": 10,
   "outputs": [],
   "source": [
    "trait_feature_data = get_feature_data(trait_clinical_data, trait_row_id, TRAIT, decode_trait_var)"
   ],
   "metadata": {
    "collapsed": false,
    "ExecuteTime": {
     "end_time": "2023-12-26T00:50:29.519356405Z",
     "start_time": "2023-12-26T00:50:29.515452117Z"
    }
   }
  },
  {
   "cell_type": "code",
   "execution_count": 11,
   "outputs": [],
   "source": [
    "trait_gene_annotation = get_gene_annotation(trait_soft_file)"
   ],
   "metadata": {
    "collapsed": false,
    "ExecuteTime": {
     "end_time": "2023-12-26T00:50:54.123756733Z",
     "start_time": "2023-12-26T00:50:29.515485120Z"
    }
   }
  },
  {
   "cell_type": "markdown",
   "source": [
    "Read the gene annotation dataframe, to get the name of the column that records gene symbols."
   ],
   "metadata": {
    "collapsed": false
   }
  },
  {
   "cell_type": "code",
   "execution_count": 12,
   "outputs": [
    {
     "data": {
      "text/plain": "           ID        Name AddressA_ID  \\\n0  cg00035864  cg00035864    31729416   \n1  cg00050873  cg00050873    32735311   \n2  cg00061679  cg00061679    28780415   \n3  cg00063477  cg00063477    16712347   \n4  cg00121626  cg00121626    19779393   \n\n                                    AlleleA_ProbeSeq AddressB_ID  \\\n0  AAAACACTAACAATCTTATCCACATAAACCCTTAAATTTATCTCAA...         NaN   \n1  ACAAAAAAACAACACACAACTATAATAATTTTTAAAATAAATAAAC...    31717405   \n2  AAAACATTAAAAAACTAATTCACTACTATTTAATTACTTTATTTTC...         NaN   \n3  TATTCTTCCACACAAAATACTAAACRTATATTTACAAAAATACTTC...         NaN   \n4  AAAACTAATAAAAATAACTTACAAACCAAATACTATACCCTACAAC...         NaN   \n\n                                    AlleleB_ProbeSeq Infinium_Design_Type  \\\n0                                                NaN                   II   \n1  ACGAAAAAACAACGCACAACTATAATAATTTTTAAAATAAATAAAC...                    I   \n2                                                NaN                   II   \n3                                                NaN                   II   \n4                                                NaN                   II   \n\n  Next_Base Color_Channel                                   Forward_Sequence  \\\n0       NaN           NaN  AATCCAAAGATGATGGAGGAGTGCCCGCTCATGATGTGAAGTACCT...   \n1         A           Red  TATCTCTGTCTGGCGAGGAGGCAACGCACAACTGTGGTGGTTTTTG...   \n2       NaN           NaN  TCAACAAATGAGAGACATTGAAGAACTAATTCACTACTATTTGGTT...   \n3       NaN           NaN  CTCCTGTACTTGTTCATTAAATAATGATTCCTTGGATATACCAAGT...   \n4       NaN           NaN  AGGTGAATGAAGAGACTAATGGGAGTGGCTTGCAAGCCAGGTACTG...   \n\n   ...  DMR Enhancer         HMM_Island Regulatory_Feature_Name  \\\n0  ...  NaN      NaN                NaN                     NaN   \n1  ...  NaN      NaN  Y:9973136-9976273                     NaN   \n2  ...  NaN      NaN                NaN                     NaN   \n3  ...  NaN      NaN                NaN                     NaN   \n4  ...  NaN      NaN                NaN                     NaN   \n\n  Regulatory_Feature_Group  DHS RANGE_START   RANGE_END     RANGE_GB SPOT_ID  \n0                      NaN  NaN   8553009.0   8553132.0  NC_000024.9     NaN  \n1                      NaN  NaN   9363356.0   9363479.0  NC_000024.9     NaN  \n2                      NaN  NaN  25314171.0  25314294.0  NC_000024.9     NaN  \n3                      NaN  NaN  22741795.0  22741918.0  NC_000024.9     NaN  \n4                      NaN  NaN  21664296.0  21664419.0  NC_000024.9     NaN  \n\n[5 rows x 37 columns]",
      "text/html": "<div>\n<style scoped>\n    .dataframe tbody tr th:only-of-type {\n        vertical-align: middle;\n    }\n\n    .dataframe tbody tr th {\n        vertical-align: top;\n    }\n\n    .dataframe thead th {\n        text-align: right;\n    }\n</style>\n<table border=\"1\" class=\"dataframe\">\n  <thead>\n    <tr style=\"text-align: right;\">\n      <th></th>\n      <th>ID</th>\n      <th>Name</th>\n      <th>AddressA_ID</th>\n      <th>AlleleA_ProbeSeq</th>\n      <th>AddressB_ID</th>\n      <th>AlleleB_ProbeSeq</th>\n      <th>Infinium_Design_Type</th>\n      <th>Next_Base</th>\n      <th>Color_Channel</th>\n      <th>Forward_Sequence</th>\n      <th>...</th>\n      <th>DMR</th>\n      <th>Enhancer</th>\n      <th>HMM_Island</th>\n      <th>Regulatory_Feature_Name</th>\n      <th>Regulatory_Feature_Group</th>\n      <th>DHS</th>\n      <th>RANGE_START</th>\n      <th>RANGE_END</th>\n      <th>RANGE_GB</th>\n      <th>SPOT_ID</th>\n    </tr>\n  </thead>\n  <tbody>\n    <tr>\n      <th>0</th>\n      <td>cg00035864</td>\n      <td>cg00035864</td>\n      <td>31729416</td>\n      <td>AAAACACTAACAATCTTATCCACATAAACCCTTAAATTTATCTCAA...</td>\n      <td>NaN</td>\n      <td>NaN</td>\n      <td>II</td>\n      <td>NaN</td>\n      <td>NaN</td>\n      <td>AATCCAAAGATGATGGAGGAGTGCCCGCTCATGATGTGAAGTACCT...</td>\n      <td>...</td>\n      <td>NaN</td>\n      <td>NaN</td>\n      <td>NaN</td>\n      <td>NaN</td>\n      <td>NaN</td>\n      <td>NaN</td>\n      <td>8553009.0</td>\n      <td>8553132.0</td>\n      <td>NC_000024.9</td>\n      <td>NaN</td>\n    </tr>\n    <tr>\n      <th>1</th>\n      <td>cg00050873</td>\n      <td>cg00050873</td>\n      <td>32735311</td>\n      <td>ACAAAAAAACAACACACAACTATAATAATTTTTAAAATAAATAAAC...</td>\n      <td>31717405</td>\n      <td>ACGAAAAAACAACGCACAACTATAATAATTTTTAAAATAAATAAAC...</td>\n      <td>I</td>\n      <td>A</td>\n      <td>Red</td>\n      <td>TATCTCTGTCTGGCGAGGAGGCAACGCACAACTGTGGTGGTTTTTG...</td>\n      <td>...</td>\n      <td>NaN</td>\n      <td>NaN</td>\n      <td>Y:9973136-9976273</td>\n      <td>NaN</td>\n      <td>NaN</td>\n      <td>NaN</td>\n      <td>9363356.0</td>\n      <td>9363479.0</td>\n      <td>NC_000024.9</td>\n      <td>NaN</td>\n    </tr>\n    <tr>\n      <th>2</th>\n      <td>cg00061679</td>\n      <td>cg00061679</td>\n      <td>28780415</td>\n      <td>AAAACATTAAAAAACTAATTCACTACTATTTAATTACTTTATTTTC...</td>\n      <td>NaN</td>\n      <td>NaN</td>\n      <td>II</td>\n      <td>NaN</td>\n      <td>NaN</td>\n      <td>TCAACAAATGAGAGACATTGAAGAACTAATTCACTACTATTTGGTT...</td>\n      <td>...</td>\n      <td>NaN</td>\n      <td>NaN</td>\n      <td>NaN</td>\n      <td>NaN</td>\n      <td>NaN</td>\n      <td>NaN</td>\n      <td>25314171.0</td>\n      <td>25314294.0</td>\n      <td>NC_000024.9</td>\n      <td>NaN</td>\n    </tr>\n    <tr>\n      <th>3</th>\n      <td>cg00063477</td>\n      <td>cg00063477</td>\n      <td>16712347</td>\n      <td>TATTCTTCCACACAAAATACTAAACRTATATTTACAAAAATACTTC...</td>\n      <td>NaN</td>\n      <td>NaN</td>\n      <td>II</td>\n      <td>NaN</td>\n      <td>NaN</td>\n      <td>CTCCTGTACTTGTTCATTAAATAATGATTCCTTGGATATACCAAGT...</td>\n      <td>...</td>\n      <td>NaN</td>\n      <td>NaN</td>\n      <td>NaN</td>\n      <td>NaN</td>\n      <td>NaN</td>\n      <td>NaN</td>\n      <td>22741795.0</td>\n      <td>22741918.0</td>\n      <td>NC_000024.9</td>\n      <td>NaN</td>\n    </tr>\n    <tr>\n      <th>4</th>\n      <td>cg00121626</td>\n      <td>cg00121626</td>\n      <td>19779393</td>\n      <td>AAAACTAATAAAAATAACTTACAAACCAAATACTATACCCTACAAC...</td>\n      <td>NaN</td>\n      <td>NaN</td>\n      <td>II</td>\n      <td>NaN</td>\n      <td>NaN</td>\n      <td>AGGTGAATGAAGAGACTAATGGGAGTGGCTTGCAAGCCAGGTACTG...</td>\n      <td>...</td>\n      <td>NaN</td>\n      <td>NaN</td>\n      <td>NaN</td>\n      <td>NaN</td>\n      <td>NaN</td>\n      <td>NaN</td>\n      <td>21664296.0</td>\n      <td>21664419.0</td>\n      <td>NC_000024.9</td>\n      <td>NaN</td>\n    </tr>\n  </tbody>\n</table>\n<p>5 rows × 37 columns</p>\n</div>"
     },
     "execution_count": 12,
     "metadata": {},
     "output_type": "execute_result"
    }
   ],
   "source": [
    "trait_gene_annotation.head()"
   ],
   "metadata": {
    "collapsed": false,
    "ExecuteTime": {
     "end_time": "2023-12-26T00:50:54.175623711Z",
     "start_time": "2023-12-26T00:50:54.131944118Z"
    }
   }
  },
  {
   "cell_type": "code",
   "execution_count": 13,
   "outputs": [],
   "source": [
    "trait_gene_name_col = 'UCSC_RefGene_Name'"
   ],
   "metadata": {
    "collapsed": false,
    "ExecuteTime": {
     "end_time": "2023-12-26T00:50:54.175720897Z",
     "start_time": "2023-12-26T00:50:54.175535011Z"
    }
   }
  },
  {
   "cell_type": "code",
   "execution_count": 14,
   "outputs": [],
   "source": [
    "trait_gene_mapping = get_gene_mapping(trait_gene_annotation, trait_gene_name_col)"
   ],
   "metadata": {
    "collapsed": false,
    "ExecuteTime": {
     "end_time": "2023-12-26T00:50:54.617930138Z",
     "start_time": "2023-12-26T00:50:54.175689076Z"
    }
   }
  },
  {
   "cell_type": "markdown",
   "source": [
    "Load tabular gene expression data"
   ],
   "metadata": {
    "collapsed": false
   }
  },
  {
   "cell_type": "code",
   "execution_count": 15,
   "outputs": [],
   "source": [
    "trait_genetic_data = get_genetic_data(trait_matrix_file)"
   ],
   "metadata": {
    "collapsed": false,
    "ExecuteTime": {
     "end_time": "2023-12-26T00:50:55.149151125Z",
     "start_time": "2023-12-26T00:50:54.616309018Z"
    }
   }
  },
  {
   "cell_type": "code",
   "execution_count": 16,
   "outputs": [],
   "source": [
    "trait_genetic_data = apply_gene_mapping(trait_genetic_data, trait_gene_mapping)"
   ],
   "metadata": {
    "collapsed": false,
    "ExecuteTime": {
     "end_time": "2023-12-26T00:50:56.086990773Z",
     "start_time": "2023-12-26T00:50:55.159731980Z"
    }
   }
  },
  {
   "cell_type": "code",
   "execution_count": 17,
   "outputs": [
    {
     "name": "stderr",
     "output_type": "stream",
     "text": [
      "15 input query terms found dup hits:\t[('ABCC13', 2), ('ABCC6P1', 2), ('ABCC6P2', 3), ('ADAM6', 3), ('AGAP11', 2), ('ALOX12P2', 2), ('ANKR\n",
      "71 input query terms found no hit:\t['A2BP1', 'A2LD1', 'AACSL', 'AARS', 'ABP1', 'ACCN1', 'ACCN2', 'ACCN3', 'ACCN4', 'ACCN5', 'ACN9', 'AC\n",
      "6 input query terms found dup hits:\t[('ATP6AP1L', 2), ('ATXN8OS', 2), ('BAGE2', 2), ('BMS1P1', 2), ('BMS1P4', 2), ('BRD7P3', 2)]\n",
      "364 input query terms found no hit:\t['ARNTL2', 'ARPM1', 'ARPP-21', 'ARSE', 'ASAM', 'ASAP1IT1', 'ASFMR1', 'ASNA1', 'ATHL1', 'ATP5A1', 'AT\n",
      "4 input query terms found dup hits:\t[('C2orf27A', 2), ('C2orf83', 2), ('C3P1', 2), ('C5orf60', 2)]\n",
      "642 input query terms found no hit:\t['C17orf56', 'C17orf57', 'C17orf59', 'C17orf60', 'C17orf61', 'C17orf62', 'C17orf63', 'C17orf64', 'C1\n",
      "9 input query terms found dup hits:\t[('CATSPER2P1', 2), ('CCDC144NL', 2), ('CCT6P1', 2), ('CDR1', 2), ('CECR7', 2), ('CELP', 2), ('CHKB-\n",
      "98 input query terms found no hit:\t['CBARA1', 'CBWD1', 'CBWD2', 'CBWD3', 'CBWD5', 'CBWD6', 'CCBL1', 'CCBL2', 'CCBP2', 'CCDC101', 'CCDC1\n",
      "9 input query terms found dup hits:\t[('COL6A4P2', 2), ('CXADRP2', 3), ('CXADRP3', 2), ('CYP4Z2P', 2), ('DEFB122', 2), ('DHRS4L1', 3), ('\n",
      "94 input query terms found no hit:\t['COL29A1', 'COL4A3BP', 'COPG', 'COX4NB', 'CP110', 'CPSF3L', 'CRAMP1L', 'CRIPAK', 'CROCCL1', 'CROCCL\n",
      "12 input query terms found dup hits:\t[('DNM1P35', 2), ('DPRXP4', 3), ('DPY19L2P1', 2), ('DPY19L2P2', 3), ('DPY19L2P4', 2), ('ECEL1P2', 2)\n",
      "151 input query terms found no hit:\t['DOM3Z', 'DOPEY1', 'DOPEY2', 'DPCR1', 'DPH3B', 'DSCR3', 'DSCR6', 'DULLARD', 'DUPD1', 'DUS2L', 'DUSP\n",
      "15 input query terms found dup hits:\t[('FAM27B', 2), ('FAM66A', 2), ('FAM66B', 3), ('FAM66C', 2), ('FAM66D', 2), ('FAM74A3', 2), ('FCGR2C\n",
      "195 input query terms found no hit:\t['FAM21A', 'FAM21B', 'FAM21C', 'FAM22A', 'FAM22D', 'FAM22F', 'FAM22G', 'FAM23A', 'FAM25B', 'FAM26D',\n",
      "13 input query terms found dup hits:\t[('GLRA4', 2), ('GTF2IP1', 2), ('HAR1A', 2), ('HBBP1', 2), ('HBD', 2), ('HCG4', 9), ('HERC2P2', 3), \n",
      "189 input query terms found no hit:\t['GIYD1', 'GIYD2', 'GK3P', 'GLT25D1', 'GLT25D2', 'GLTPD1', 'GLTSCR1', 'GLTSCR2', 'GMCL1L', 'GNASAS',\n",
      "7 input query terms found dup hits:\t[('HSD17B7P2', 2), ('HSP90AB2P', 2), ('HSP90AB4P', 2), ('HSP90B3P', 2), ('HSPA7', 2), ('ID2B', 2), (\n",
      "162 input query terms found no hit:\t['HPVC1', 'HRASLS', 'HRASLS2', 'HRASLS5', 'HRNBP3', 'HRSP12', 'HSFYP1', 'HSN2', 'HSPB11', 'HSPC072',\n",
      "3 input query terms found dup hits:\t[('KIR3DP1', 10), ('KIR3DX1', 5), ('KLKP1', 2)]\n",
      "361 input query terms found no hit:\t['KIAA1967', 'KIAA1984', 'KIAA2018', 'KIAA2022', 'KIAA2026', 'KILLIN', 'KIRREL', 'KLHDC5', 'KLKBL4',\n",
      "7 input query terms found dup hits:\t[('LPAL2', 2), ('LRP5L', 2), ('LY6G6E', 8), ('LYPLA2P1', 6), ('MALAT1', 2), ('MEG8', 2), ('MEIS3P1',\n",
      "300 input query terms found no hit:\t['LOC388955', 'LOC388965', 'LOC389033', 'LOC389332', 'LOC389333', 'LOC389458', 'LOC389493', 'LOC3896\n",
      "18 input query terms found dup hits:\t[('MIR320A', 2), ('MIR320B1', 2), ('MIR320B2', 2), ('MIR320C1', 2), ('MIR320C2', 2), ('MIR320D1', 2)\n",
      "83 input query terms found no hit:\t['MINA', 'MIR103-1', 'MIR103-1AS', 'MIR103-2', 'MIR103-2AS', 'MIR1201', 'MIR1259', 'MIR1260', 'MIR12\n",
      "10 input query terms found dup hits:\t[('MYH16', 2), ('NAPSB', 2), ('NAT8B', 3), ('NBPF22P', 2), ('NCF1B', 2), ('NF1P1', 2), ('NME2P1', 2)\n",
      "111 input query terms found no hit:\t['MTP18', 'MTSS1L', 'MUDENG', 'MUM1', 'MUM1L1', 'MUPCDH', 'MURC', 'MUT', 'MUTED', 'MYCL1', 'MYEOV2',\n",
      "13 input query terms found dup hits:\t[('OR10J3', 3), ('OR5E1P', 4), ('OR6W1P', 3), ('OR7E156P', 2), ('OR7E37P', 2), ('OR7E5P', 2), ('OR7E\n",
      "50 input query terms found no hit:\t['OR2W5', 'OR3A4', 'OR52A4', 'OR5R1', 'OR8G2', 'ORAOV1', 'ORC1L', 'ORC2L', 'ORC3L', 'ORC4L', 'ORC5L'\n",
      "16 input query terms found dup hits:\t[('PI4KAP1', 2), ('PI4KAP2', 2), ('PIPSL', 2), ('PLGLA', 2), ('PMCHL1', 2), ('PMS2CL', 2), ('POLR2J3\n",
      "72 input query terms found no hit:\t['PIN1L', 'PION', 'PKM2', 'PL-5283', 'PLA2G16', 'PLAC1L', 'PLAC2', 'PLDN', 'PLEC1', 'PLEKHA9', 'PLEK\n",
      "31 input query terms found dup hits:\t[('PTTG3P', 2), ('PVT1', 2), ('PYY2', 2), ('RAET1K', 2), ('RBMY1A3P', 3), ('RBMY2FP', 2), ('REXO1L2P\n",
      "57 input query terms found no hit:\t['PTPN20A', 'PTPN20B', 'PTPRV', 'PTRF', 'PVRL1', 'PVRL2', 'PVRL3', 'PVRL4', 'PXMP3', 'PYCRL', 'ProSA\n",
      "10 input query terms found dup hits:\t[('S100A7L2', 2), ('SAA3P', 2), ('SCARNA17', 2), ('SCARNA4', 2), ('SDC4P', 2), ('SDHAP1', 2), ('SDHA\n",
      "86 input query terms found no hit:\t['RRP7B', 'RTCD1', 'RTDR1', 'RUNDC2A', 'RUNDC2C', 'RWDD4A', 'SAPS1', 'SAPS2', 'SAPS3', 'SARS', 'SBDS\n",
      "85 input query terms found dup hits:\t[('SLC6A10P', 2), ('SLC7A5P1', 2), ('SLC7A5P2', 2), ('SNHG5', 2), ('SNHG6', 2), ('SNHG8', 2), ('SNHG\n",
      "50 input query terms found no hit:\t['SLC9A10', 'SLC9A11', 'SLC9A3R1', 'SLC9A3R2', 'SLMO1', 'SLMO2', 'SMAD5OS', 'SMCR7', 'SMCR7L', 'SMEK\n",
      "14 input query terms found dup hits:\t[('STAG3L1', 2), ('STAG3L2', 2), ('STAG3L3', 2), ('STAG3L4', 2), ('SUGT1P1', 2), ('SUMO1P1', 2), ('S\n",
      "75 input query terms found no hit:\t['ST5', 'ST7OT1', 'ST7OT2', 'ST7OT3', 'ST7OT4', 'STL', 'STRA13', 'SUGT1L1', 'SUNC1', 'SUV420H1', 'SU\n",
      "13 input query terms found dup hits:\t[('TNXA', 5), ('TOP1P1', 2), ('TP53TG1', 2), ('TRIM16L', 2), ('TRPC2', 2), ('TSNAX-DISC1', 2), ('TTT\n",
      "65 input query terms found no hit:\t['TMEM55A', 'TMEM55B', 'TMEM56', 'TMEM57', 'TMEM66', 'TMEM84', 'TMEM85', 'TMEM8A', 'TMEM8C', 'TMEM90\n",
      "6 input query terms found dup hits:\t[('VENTXP7', 2), ('WASH2P', 2), ('WASH3P', 3), ('ZFP91-CNTF', 2), ('ZNF204P', 2), ('ZNF286B', 2)]\n",
      "86 input query terms found no hit:\t['VARS', 'VNN3', 'VPRBP', 'VPS24', 'WAPAL', 'WARS', 'WBP5', 'WBSCR16', 'WBSCR17', 'WBSCR22', 'WBSCR2\n",
      "2 input query terms found dup hits:\t[('ZNF781', 2), ('ZNF876P', 2)]\n",
      "14 input query terms found no hit:\t['ZNF673', 'ZNF720', 'ZNF767', 'ZNF788', 'ZNF815', 'ZNF816A', 'ZNF826', 'ZNF828', 'ZNF833', 'ZNRD1',\n"
     ]
    }
   ],
   "source": [
    "if NORMALIZE_GENE:\n",
    "    trait_genetic_data = normalize_gene_symbols_in_index(trait_genetic_data)"
   ],
   "metadata": {
    "collapsed": false,
    "ExecuteTime": {
     "end_time": "2023-12-26T00:51:46.023078683Z",
     "start_time": "2023-12-26T00:50:56.088556656Z"
    }
   }
  },
  {
   "cell_type": "code",
   "execution_count": 18,
   "outputs": [
    {
     "data": {
      "text/plain": "                A1BG      A1CF       A2M     A2ML1    A4GALT     A4GNT  \\\nGSM6216198  0.498235  0.909286  0.803357  0.881167  0.454591  0.887167   \nGSM6216199  0.479765  0.900571  0.831571  0.874278  0.437136  0.895333   \nGSM6216200  0.490882  0.900000  0.814643  0.844056  0.437409  0.872500   \nGSM6216201  0.527765  0.900857  0.771929  0.903000  0.440500  0.804333   \nGSM6216202  0.485706  0.895857  0.776429  0.838000  0.438864  0.842500   \nGSM6216203  0.464529  0.896857  0.788929  0.863778  0.444364  0.863500   \nGSM6216204  0.543765  0.905286  0.796500  0.889667  0.452727  0.876833   \nGSM6216205  0.530529  0.895000  0.821571  0.890611  0.449409  0.875167   \nGSM6216206  0.541882  0.920143  0.805357  0.851278  0.459182  0.860833   \nGSM6216207  0.558471  0.877429  0.852857  0.864000  0.434091  0.912667   \nGSM6216208  0.476412  0.923143  0.802286  0.875444  0.458727  0.859500   \nGSM6216209  0.501294  0.889286  0.829857  0.853667  0.458227  0.878167   \nGSM6216210  0.538529  0.901143  0.840714  0.884611  0.448136  0.886333   \nGSM6216211  0.491588  0.911286  0.809357  0.887444  0.454500  0.877667   \nGSM6216212  0.561706  0.924571  0.828786  0.905944  0.456045  0.863667   \n\n              AAA1      AAAS      AACS    AADAC  ...     ZWINT      ZXDA  \\\nGSM6216198  0.9117  0.157538  0.706483  0.92025  ...  0.039643  0.460750   \nGSM6216199  0.9172  0.157769  0.702603  0.91275  ...  0.041286  0.236667   \nGSM6216200  0.9123  0.153846  0.703810  0.91425  ...  0.041214  0.229333   \nGSM6216201  0.8902  0.164000  0.725345  0.92125  ...  0.041000  0.448167   \nGSM6216202  0.8885  0.161385  0.705621  0.88225  ...  0.047000  0.398750   \nGSM6216203  0.9017  0.153462  0.685948  0.92375  ...  0.038929  0.239417   \nGSM6216204  0.9155  0.175077  0.650776  0.94700  ...  0.037857  0.435333   \nGSM6216205  0.9178  0.157308  0.665466  0.92750  ...  0.038071  0.243833   \nGSM6216206  0.9167  0.158615  0.658121  0.91650  ...  0.039143  0.461500   \nGSM6216207  0.9123  0.156769  0.709310  0.92175  ...  0.035643  0.257000   \nGSM6216208  0.9000  0.172077  0.629362  0.89600  ...  0.042929  0.253833   \nGSM6216209  0.9207  0.172769  0.672690  0.92000  ...  0.039143  0.271667   \nGSM6216210  0.9113  0.162385  0.682259  0.93100  ...  0.041143  0.267750   \nGSM6216211  0.9149  0.164000  0.674810  0.91800  ...  0.042857  0.260333   \nGSM6216212  0.9242  0.177308  0.671328  0.92550  ...  0.039857  0.288667   \n\n              ZXDB      ZXDC    ZYG11A    ZYG11B       ZYX     ZZEF1  \\\nGSM6216198  0.5251  0.332605  0.554000  0.519077  0.365947  0.522561   \nGSM6216199  0.2783  0.323442  0.559333  0.517308  0.375368  0.512585   \nGSM6216200  0.3173  0.331791  0.558600  0.508000  0.368316  0.517439   \nGSM6216201  0.6069  0.332116  0.560267  0.528846  0.317737  0.517293   \nGSM6216202  0.4872  0.325698  0.546733  0.519769  0.356000  0.514829   \nGSM6216203  0.2949  0.322256  0.548467  0.514000  0.364158  0.513976   \nGSM6216204  0.4943  0.327953  0.554667  0.507000  0.332474  0.512585   \nGSM6216205  0.2748  0.323163  0.553467  0.500308  0.347474  0.516390   \nGSM6216206  0.5138  0.336093  0.566867  0.526615  0.327684  0.525683   \nGSM6216207  0.2312  0.346721  0.576800  0.506615  0.386579  0.515854   \nGSM6216208  0.3280  0.325977  0.561333  0.500000  0.337632  0.508488   \nGSM6216209  0.3379  0.310116  0.564667  0.505538  0.343053  0.518878   \nGSM6216210  0.2945  0.330674  0.551600  0.495692  0.359895  0.521488   \nGSM6216211  0.3454  0.344326  0.561067  0.513385  0.356947  0.514780   \nGSM6216212  0.3608  0.336767  0.544867  0.528462  0.332947  0.520976   \n\n                ZZZ3  Epilepsy  \nGSM6216198  0.162056       1.0  \nGSM6216199  0.139722       1.0  \nGSM6216200  0.149056       1.0  \nGSM6216201  0.157000       1.0  \nGSM6216202  0.158444       1.0  \nGSM6216203  0.133444       1.0  \nGSM6216204  0.152444       0.0  \nGSM6216205  0.150389       0.0  \nGSM6216206  0.160889       0.0  \nGSM6216207  0.128111       0.0  \nGSM6216208  0.168667       0.0  \nGSM6216209  0.151000       0.0  \nGSM6216210  0.143611       0.0  \nGSM6216211  0.143611       0.0  \nGSM6216212  0.155500       0.0  \n\n[15 rows x 17839 columns]",
      "text/html": "<div>\n<style scoped>\n    .dataframe tbody tr th:only-of-type {\n        vertical-align: middle;\n    }\n\n    .dataframe tbody tr th {\n        vertical-align: top;\n    }\n\n    .dataframe thead th {\n        text-align: right;\n    }\n</style>\n<table border=\"1\" class=\"dataframe\">\n  <thead>\n    <tr style=\"text-align: right;\">\n      <th></th>\n      <th>A1BG</th>\n      <th>A1CF</th>\n      <th>A2M</th>\n      <th>A2ML1</th>\n      <th>A4GALT</th>\n      <th>A4GNT</th>\n      <th>AAA1</th>\n      <th>AAAS</th>\n      <th>AACS</th>\n      <th>AADAC</th>\n      <th>...</th>\n      <th>ZWINT</th>\n      <th>ZXDA</th>\n      <th>ZXDB</th>\n      <th>ZXDC</th>\n      <th>ZYG11A</th>\n      <th>ZYG11B</th>\n      <th>ZYX</th>\n      <th>ZZEF1</th>\n      <th>ZZZ3</th>\n      <th>Epilepsy</th>\n    </tr>\n  </thead>\n  <tbody>\n    <tr>\n      <th>GSM6216198</th>\n      <td>0.498235</td>\n      <td>0.909286</td>\n      <td>0.803357</td>\n      <td>0.881167</td>\n      <td>0.454591</td>\n      <td>0.887167</td>\n      <td>0.9117</td>\n      <td>0.157538</td>\n      <td>0.706483</td>\n      <td>0.92025</td>\n      <td>...</td>\n      <td>0.039643</td>\n      <td>0.460750</td>\n      <td>0.5251</td>\n      <td>0.332605</td>\n      <td>0.554000</td>\n      <td>0.519077</td>\n      <td>0.365947</td>\n      <td>0.522561</td>\n      <td>0.162056</td>\n      <td>1.0</td>\n    </tr>\n    <tr>\n      <th>GSM6216199</th>\n      <td>0.479765</td>\n      <td>0.900571</td>\n      <td>0.831571</td>\n      <td>0.874278</td>\n      <td>0.437136</td>\n      <td>0.895333</td>\n      <td>0.9172</td>\n      <td>0.157769</td>\n      <td>0.702603</td>\n      <td>0.91275</td>\n      <td>...</td>\n      <td>0.041286</td>\n      <td>0.236667</td>\n      <td>0.2783</td>\n      <td>0.323442</td>\n      <td>0.559333</td>\n      <td>0.517308</td>\n      <td>0.375368</td>\n      <td>0.512585</td>\n      <td>0.139722</td>\n      <td>1.0</td>\n    </tr>\n    <tr>\n      <th>GSM6216200</th>\n      <td>0.490882</td>\n      <td>0.900000</td>\n      <td>0.814643</td>\n      <td>0.844056</td>\n      <td>0.437409</td>\n      <td>0.872500</td>\n      <td>0.9123</td>\n      <td>0.153846</td>\n      <td>0.703810</td>\n      <td>0.91425</td>\n      <td>...</td>\n      <td>0.041214</td>\n      <td>0.229333</td>\n      <td>0.3173</td>\n      <td>0.331791</td>\n      <td>0.558600</td>\n      <td>0.508000</td>\n      <td>0.368316</td>\n      <td>0.517439</td>\n      <td>0.149056</td>\n      <td>1.0</td>\n    </tr>\n    <tr>\n      <th>GSM6216201</th>\n      <td>0.527765</td>\n      <td>0.900857</td>\n      <td>0.771929</td>\n      <td>0.903000</td>\n      <td>0.440500</td>\n      <td>0.804333</td>\n      <td>0.8902</td>\n      <td>0.164000</td>\n      <td>0.725345</td>\n      <td>0.92125</td>\n      <td>...</td>\n      <td>0.041000</td>\n      <td>0.448167</td>\n      <td>0.6069</td>\n      <td>0.332116</td>\n      <td>0.560267</td>\n      <td>0.528846</td>\n      <td>0.317737</td>\n      <td>0.517293</td>\n      <td>0.157000</td>\n      <td>1.0</td>\n    </tr>\n    <tr>\n      <th>GSM6216202</th>\n      <td>0.485706</td>\n      <td>0.895857</td>\n      <td>0.776429</td>\n      <td>0.838000</td>\n      <td>0.438864</td>\n      <td>0.842500</td>\n      <td>0.8885</td>\n      <td>0.161385</td>\n      <td>0.705621</td>\n      <td>0.88225</td>\n      <td>...</td>\n      <td>0.047000</td>\n      <td>0.398750</td>\n      <td>0.4872</td>\n      <td>0.325698</td>\n      <td>0.546733</td>\n      <td>0.519769</td>\n      <td>0.356000</td>\n      <td>0.514829</td>\n      <td>0.158444</td>\n      <td>1.0</td>\n    </tr>\n    <tr>\n      <th>GSM6216203</th>\n      <td>0.464529</td>\n      <td>0.896857</td>\n      <td>0.788929</td>\n      <td>0.863778</td>\n      <td>0.444364</td>\n      <td>0.863500</td>\n      <td>0.9017</td>\n      <td>0.153462</td>\n      <td>0.685948</td>\n      <td>0.92375</td>\n      <td>...</td>\n      <td>0.038929</td>\n      <td>0.239417</td>\n      <td>0.2949</td>\n      <td>0.322256</td>\n      <td>0.548467</td>\n      <td>0.514000</td>\n      <td>0.364158</td>\n      <td>0.513976</td>\n      <td>0.133444</td>\n      <td>1.0</td>\n    </tr>\n    <tr>\n      <th>GSM6216204</th>\n      <td>0.543765</td>\n      <td>0.905286</td>\n      <td>0.796500</td>\n      <td>0.889667</td>\n      <td>0.452727</td>\n      <td>0.876833</td>\n      <td>0.9155</td>\n      <td>0.175077</td>\n      <td>0.650776</td>\n      <td>0.94700</td>\n      <td>...</td>\n      <td>0.037857</td>\n      <td>0.435333</td>\n      <td>0.4943</td>\n      <td>0.327953</td>\n      <td>0.554667</td>\n      <td>0.507000</td>\n      <td>0.332474</td>\n      <td>0.512585</td>\n      <td>0.152444</td>\n      <td>0.0</td>\n    </tr>\n    <tr>\n      <th>GSM6216205</th>\n      <td>0.530529</td>\n      <td>0.895000</td>\n      <td>0.821571</td>\n      <td>0.890611</td>\n      <td>0.449409</td>\n      <td>0.875167</td>\n      <td>0.9178</td>\n      <td>0.157308</td>\n      <td>0.665466</td>\n      <td>0.92750</td>\n      <td>...</td>\n      <td>0.038071</td>\n      <td>0.243833</td>\n      <td>0.2748</td>\n      <td>0.323163</td>\n      <td>0.553467</td>\n      <td>0.500308</td>\n      <td>0.347474</td>\n      <td>0.516390</td>\n      <td>0.150389</td>\n      <td>0.0</td>\n    </tr>\n    <tr>\n      <th>GSM6216206</th>\n      <td>0.541882</td>\n      <td>0.920143</td>\n      <td>0.805357</td>\n      <td>0.851278</td>\n      <td>0.459182</td>\n      <td>0.860833</td>\n      <td>0.9167</td>\n      <td>0.158615</td>\n      <td>0.658121</td>\n      <td>0.91650</td>\n      <td>...</td>\n      <td>0.039143</td>\n      <td>0.461500</td>\n      <td>0.5138</td>\n      <td>0.336093</td>\n      <td>0.566867</td>\n      <td>0.526615</td>\n      <td>0.327684</td>\n      <td>0.525683</td>\n      <td>0.160889</td>\n      <td>0.0</td>\n    </tr>\n    <tr>\n      <th>GSM6216207</th>\n      <td>0.558471</td>\n      <td>0.877429</td>\n      <td>0.852857</td>\n      <td>0.864000</td>\n      <td>0.434091</td>\n      <td>0.912667</td>\n      <td>0.9123</td>\n      <td>0.156769</td>\n      <td>0.709310</td>\n      <td>0.92175</td>\n      <td>...</td>\n      <td>0.035643</td>\n      <td>0.257000</td>\n      <td>0.2312</td>\n      <td>0.346721</td>\n      <td>0.576800</td>\n      <td>0.506615</td>\n      <td>0.386579</td>\n      <td>0.515854</td>\n      <td>0.128111</td>\n      <td>0.0</td>\n    </tr>\n    <tr>\n      <th>GSM6216208</th>\n      <td>0.476412</td>\n      <td>0.923143</td>\n      <td>0.802286</td>\n      <td>0.875444</td>\n      <td>0.458727</td>\n      <td>0.859500</td>\n      <td>0.9000</td>\n      <td>0.172077</td>\n      <td>0.629362</td>\n      <td>0.89600</td>\n      <td>...</td>\n      <td>0.042929</td>\n      <td>0.253833</td>\n      <td>0.3280</td>\n      <td>0.325977</td>\n      <td>0.561333</td>\n      <td>0.500000</td>\n      <td>0.337632</td>\n      <td>0.508488</td>\n      <td>0.168667</td>\n      <td>0.0</td>\n    </tr>\n    <tr>\n      <th>GSM6216209</th>\n      <td>0.501294</td>\n      <td>0.889286</td>\n      <td>0.829857</td>\n      <td>0.853667</td>\n      <td>0.458227</td>\n      <td>0.878167</td>\n      <td>0.9207</td>\n      <td>0.172769</td>\n      <td>0.672690</td>\n      <td>0.92000</td>\n      <td>...</td>\n      <td>0.039143</td>\n      <td>0.271667</td>\n      <td>0.3379</td>\n      <td>0.310116</td>\n      <td>0.564667</td>\n      <td>0.505538</td>\n      <td>0.343053</td>\n      <td>0.518878</td>\n      <td>0.151000</td>\n      <td>0.0</td>\n    </tr>\n    <tr>\n      <th>GSM6216210</th>\n      <td>0.538529</td>\n      <td>0.901143</td>\n      <td>0.840714</td>\n      <td>0.884611</td>\n      <td>0.448136</td>\n      <td>0.886333</td>\n      <td>0.9113</td>\n      <td>0.162385</td>\n      <td>0.682259</td>\n      <td>0.93100</td>\n      <td>...</td>\n      <td>0.041143</td>\n      <td>0.267750</td>\n      <td>0.2945</td>\n      <td>0.330674</td>\n      <td>0.551600</td>\n      <td>0.495692</td>\n      <td>0.359895</td>\n      <td>0.521488</td>\n      <td>0.143611</td>\n      <td>0.0</td>\n    </tr>\n    <tr>\n      <th>GSM6216211</th>\n      <td>0.491588</td>\n      <td>0.911286</td>\n      <td>0.809357</td>\n      <td>0.887444</td>\n      <td>0.454500</td>\n      <td>0.877667</td>\n      <td>0.9149</td>\n      <td>0.164000</td>\n      <td>0.674810</td>\n      <td>0.91800</td>\n      <td>...</td>\n      <td>0.042857</td>\n      <td>0.260333</td>\n      <td>0.3454</td>\n      <td>0.344326</td>\n      <td>0.561067</td>\n      <td>0.513385</td>\n      <td>0.356947</td>\n      <td>0.514780</td>\n      <td>0.143611</td>\n      <td>0.0</td>\n    </tr>\n    <tr>\n      <th>GSM6216212</th>\n      <td>0.561706</td>\n      <td>0.924571</td>\n      <td>0.828786</td>\n      <td>0.905944</td>\n      <td>0.456045</td>\n      <td>0.863667</td>\n      <td>0.9242</td>\n      <td>0.177308</td>\n      <td>0.671328</td>\n      <td>0.92550</td>\n      <td>...</td>\n      <td>0.039857</td>\n      <td>0.288667</td>\n      <td>0.3608</td>\n      <td>0.336767</td>\n      <td>0.544867</td>\n      <td>0.528462</td>\n      <td>0.332947</td>\n      <td>0.520976</td>\n      <td>0.155500</td>\n      <td>0.0</td>\n    </tr>\n  </tbody>\n</table>\n<p>15 rows × 17839 columns</p>\n</div>"
     },
     "execution_count": 18,
     "metadata": {},
     "output_type": "execute_result"
    }
   ],
   "source": [
    "trait_merged_data = add_binary_feature(trait_genetic_data, trait_feature_data, TRAIT)\n",
    "trait_merged_data = trait_merged_data.T\n",
    "trait_merged_data"
   ],
   "metadata": {
    "collapsed": false,
    "ExecuteTime": {
     "end_time": "2023-12-26T00:51:46.053381349Z",
     "start_time": "2023-12-26T00:51:46.035054007Z"
    }
   }
  },
  {
   "cell_type": "code",
   "execution_count": 19,
   "outputs": [
    {
     "name": "stdout",
     "output_type": "stream",
     "text": [
      "The least common label is '1.0' with 6 occurrences. This represents 40.00% of the dataset.\n",
      "The distribution of the trait 'Epilepsy' in this dataset is fine.\n"
     ]
    }
   ],
   "source": [
    "biased = judge_binary_variable_biased(trait_merged_data, TRAIT, 0.1, 10)\n",
    "if biased:\n",
    "    print(f\"The distribution of the trait \\'{TRAIT}\\' in this dataset is severely biased.\")\n",
    "else:\n",
    "    print(f\"The distribution of the trait \\'{TRAIT}\\' in this dataset is fine.\")"
   ],
   "metadata": {
    "collapsed": false,
    "ExecuteTime": {
     "end_time": "2023-12-26T00:51:46.053506829Z",
     "start_time": "2023-12-26T00:51:46.049965150Z"
    }
   }
  },
  {
   "cell_type": "markdown",
   "source": [
    "## 2.2 Preparing the condition dataset"
   ],
   "metadata": {
    "collapsed": false
   }
  },
  {
   "cell_type": "markdown",
   "source": [
    "We are studying the association between some human traits and gene expression. Please read the below background information and decide whether this dataset is relevant, by answering the below questions:\n",
    "\n",
    "(1) Does it contain gene expression data? Pure miRNA data are not usable.\n",
    "(2) Does it contain human data about the trait '{CONDITION}'? If so, can we quantify this trait as a binary or continuous variable?\n",
    "(3) Does it contain human data about the trait '{TRAIT}'? If so, can we quantify this trait as a binary or continuous variable?"
   ],
   "metadata": {
    "collapsed": false
   }
  },
  {
   "cell_type": "code",
   "execution_count": 20,
   "outputs": [
    {
     "name": "stdout",
     "output_type": "stream",
     "text": [
      "!Series_title\t\"Study of the usefulness of human peripheral blood mononuclear cells for the analysis of metabolic recovery after weight loss (METAHEALTH-TEST)\"\n",
      "!Series_summary\t\"The aim of this study is to design and validate a test, METAHEALTH-TEST, based on gene expression analysis in blood cells, to quickly and easily analyse metabolic health. This test will be used to analyse metabolic improvement in overweight/obese individuals and in metabolically obese normal-weight (MONW) individuals after undergoing a weight loss intervention and/or an intervention for improvement in eating habits and lifestyle. Obesity and its medical complications are a serious health problem today. Using peripheral blood mononuclear cells (PBMC) as an easily obtainable source of transcriptomic biomarkers would allow to deepen into the knowledge of adaptations in response to increased adiposity that occur in internal homeostatic tissues, without the need of using invasive biopsies. Moreover, if PBMC were able to reflect lipid metabolism gene expression pattern recovery as a result of weight loss, it would provide valuable information to know the efficacy of therapies aimed at weight loss and, in any case, it would allow to personalize them according to the evolution of obese patients until the desired metabolic recovery is achieved.\"\n",
      "!Series_overall_design\t\"Apparently healthy subjects aged 18 to 45 years old, including men and women were recruited and classified into two groups depending on their body mass index (BMI). Normal-weight (NW) group (BMI <25 kg/m2) was composed of 20 subjects and overweight-obese (OW-OB) group (BMI ≥25 kg/m2) of 27 subjects. The inclusion criteria were: subjects with no chronic disease who did not take regular medication or drugs. To avoid potential bias, both groups include approx. 50% men/women and there was no difference in their average age. We recruited 6 additional NW individuals presenting 1 metabolic alteration related to MetS (high plasma total or LDL-cholesterol, plasma triglycerides, or plasma C-reactive protein (CRP) concentrations, or hypertension). They were classified as  metabolically obese normal-weight (MONW) individuals. Subjects from the OW-OB group followed a 6-month weight loss program which included a low-calorie food plan (30% reduction in the individual energy requirements) with dietary sessions and exercise counselling. Dietary sessions were offered by a nutritionist every fifteen days who provided face-to-face counselling that was individually adjusted to each subject with the aim of reducing 5% to 10% of initial body weight. Neither dietary supplements nor vitamins were provided and all participants consumed self-selected foods. 20 out of the 27 OW-OB subjects who started the study completed the 6-month weight loss program. All the volunteers underwent what we called the fasting test which consisted of collecting blood samples after 4 and after 6 hours after having had a standard breakfast. The blood extractions were performed by skilled health personnel; once in the NW and MONW groups,and three times (at the baseline point, and after 3 and 6 months of nutritional intervention) in the OW-OB group. Blood was collected using Vacutainer® EDTA tubes. After blood collection, the samples were processed immediately to obtain the PBMC fraction. PBMC were isolated using Ficoll-Paque Plus density gradient media. Total RNA from PBMC samples was extracted using Tripure Reagent and then purified with E.Z.N.A. Total RNA Kit I and precipitated with isopropanol. Isolated RNA was quantified using a NanoDrop ND 1000 spectrophotometer. Its integrity was confirmed using agarose gel electrophoresis and the RIN tool using the Agilent 2100 Bioanalyzer System. For the microarray experiment the following samples were selected: 12 paired samples from the NW group after both 4h and 6h of fasting, 12 paired samples from the OW-OB group after both 4h and 6h of fasting, 12 paired samples from the OW-OB group after the 6-month weight loss programm after both 4h and 6h of fasting, and 6 samples from the MONW group after 6h of fasting at the beginning of the study. For final data analysis, 2 duplicate RNA samples were taken along and confirmed for reproducibility but excluded for overall analyses thereafter: US22502548_257236338304_S01_GE2_1200_Dec17_2_2.txt and US22502548_257236338312_S01_GE2_1200_Dec17_1_2.txt.\"\n",
      "!Sample_geo_accession\t\"GSM5494930\"\t\"GSM5494931\"\t\"GSM5494932\"\t\"GSM5494933\"\t\"GSM5494934\"\t\"GSM5494935\"\t\"GSM5494936\"\t\"GSM5494937\"\t\"GSM5494938\"\t\"GSM5494939\"\t\"GSM5494940\"\t\"GSM5494941\"\t\"GSM5494942\"\t\"GSM5494943\"\t\"GSM5494944\"\t\"GSM5494945\"\t\"GSM5494946\"\t\"GSM5494947\"\t\"GSM5494948\"\t\"GSM5494949\"\t\"GSM5494950\"\t\"GSM5494951\"\t\"GSM5494952\"\t\"GSM5494953\"\t\"GSM5494954\"\t\"GSM5494955\"\t\"GSM5494956\"\t\"GSM5494957\"\t\"GSM5494958\"\t\"GSM5494959\"\t\"GSM5494960\"\t\"GSM5494961\"\t\"GSM5494962\"\t\"GSM5494963\"\t\"GSM5494964\"\t\"GSM5494965\"\t\"GSM5494966\"\t\"GSM5494967\"\t\"GSM5494968\"\t\"GSM5494969\"\t\"GSM5494970\"\t\"GSM5494971\"\t\"GSM5494972\"\t\"GSM5494973\"\t\"GSM5494974\"\t\"GSM5494975\"\t\"GSM5494976\"\t\"GSM5494977\"\t\"GSM5494978\"\t\"GSM5494979\"\t\"GSM5494980\"\t\"GSM5494981\"\t\"GSM5494982\"\t\"GSM5494983\"\t\"GSM5494984\"\t\"GSM5494985\"\t\"GSM5494986\"\t\"GSM5494987\"\t\"GSM5494988\"\t\"GSM5494989\"\t\"GSM5494990\"\t\"GSM5494991\"\t\"GSM5494992\"\t\"GSM5494993\"\t\"GSM5494994\"\t\"GSM5494995\"\t\"GSM5494996\"\t\"GSM5494997\"\t\"GSM5494998\"\t\"GSM5494999\"\t\"GSM5495000\"\t\"GSM5495001\"\t\"GSM5495002\"\t\"GSM5495003\"\t\"GSM5495004\"\t\"GSM5495005\"\t\"GSM5495006\"\t\"GSM5495007\"\n",
      "!Sample_characteristics_ch1\t\"gender: Man\"\t\"gender: Man\"\t\"gender: Woman\"\t\"gender: Woman\"\t\"gender: Woman\"\t\"gender: Man\"\t\"gender: Woman\"\t\"gender: Woman\"\t\"gender: Woman\"\t\"gender: Man\"\t\"gender: Man\"\t\"gender: Man\"\t\"gender: Woman\"\t\"gender: Woman\"\t\"gender: Woman\"\t\"gender: Woman\"\t\"gender: Woman\"\t\"gender: Woman\"\t\"gender: Man\"\t\"gender: Man\"\t\"gender: Woman\"\t\"gender: Man\"\t\"gender: Man\"\t\"gender: Woman\"\t\"gender: Woman\"\t\"gender: Man\"\t\"gender: Man\"\t\"gender: Woman\"\t\"gender: Man\"\t\"gender: Man\"\t\"gender: Man\"\t\"gender: Woman\"\t\"gender: Woman\"\t\"gender: Woman\"\t\"gender: Woman\"\t\"gender: Man\"\t\"gender: Man\"\t\"gender: Man\"\t\"gender: Man\"\t\"gender: Woman\"\t\"gender: Woman\"\t\"gender: Woman\"\t\"gender: Man\"\t\"gender: Woman\"\t\"gender: Man\"\t\"gender: Man\"\t\"gender: Woman\"\t\"gender: Woman\"\t\"gender: Man\"\t\"gender: Woman\"\t\"gender: Man\"\t\"gender: Man\"\t\"gender: Man\"\t\"gender: Woman\"\t\"gender: Woman\"\t\"gender: Woman\"\t\"gender: Woman\"\t\"gender: Woman\"\t\"gender: Woman\"\t\"gender: Woman\"\t\"gender: Woman\"\t\"gender: Man\"\t\"gender: Man\"\t\"gender: Man\"\t\"gender: Man\"\t\"gender: Man\"\t\"gender: Man\"\t\"gender: Woman\"\t\"gender: Woman\"\t\"gender: Woman\"\t\"gender: Man\"\t\"gender: Man\"\t\"gender: Man\"\t\"gender: Man\"\t\"gender: Man\"\t\"gender: Woman\"\t\"gender: Man\"\t\"gender: Man\"\n",
      "!Sample_characteristics_ch1\t\"group: NW\"\t\"group: OW/OB\"\t\"group: MONW\"\t\"group: OW/OB\"\t\"group: NW\"\t\"group: OW/OB\"\t\"group: OW/OB\"\t\"group: OW/OB\"\t\"group: NW\"\t\"group: OW/OB\"\t\"group: OW/OB\"\t\"group: MONW\"\t\"group: OW/OB\"\t\"group: OW/OB\"\t\"group: OW/OB\"\t\"group: MONW\"\t\"group: NW\"\t\"group: NW\"\t\"group: OW/OB\"\t\"group: OW/OB\"\t\"group: OW/OB\"\t\"group: OW/OB\"\t\"group: NW\"\t\"group: OW/OB\"\t\"group: NW\"\t\"group: OW/OB\"\t\"group: OW/OB\"\t\"group: OW/OB\"\t\"group: OW/OB\"\t\"group: NW\"\t\"group: NW\"\t\"group: OW/OB\"\t\"group: OW/OB\"\t\"group: NW\"\t\"group: NW\"\t\"group: OW/OB\"\t\"group: MONW\"\t\"group: NW\"\t\"group: OW/OB\"\t\"group: NW\"\t\"group: OW/OB\"\t\"group: OW/OB\"\t\"group: OW/OB\"\t\"group: NW\"\t\"group: MONW\"\t\"group: OW/OB\"\t\"group: OW/OB\"\t\"group: MONW\"\t\"group: OW/OB\"\t\"group: OW/OB\"\t\"group: OW/OB\"\t\"group: OW/OB\"\t\"group: NW\"\t\"group: OW/OB\"\t\"group: NW\"\t\"group: NW\"\t\"group: OW/OB\"\t\"group: OW/OB\"\t\"group: OW/OB\"\t\"group: OW/OB\"\t\"group: NW\"\t\"group: OW/OB\"\t\"group: NW\"\t\"group: NW\"\t\"group: OW/OB\"\t\"group: NW\"\t\"group: OW/OB\"\t\"group: OW/OB\"\t\"group: OW/OB\"\t\"group: OW/OB\"\t\"group: OW/OB\"\t\"group: NW\"\t\"group: OW/OB\"\t\"group: NW\"\t\"group: OW/OB\"\t\"group: OW/OB\"\t\"group: OW/OB\"\t\"group: NW\"\n",
      "!Sample_characteristics_ch1\t\"age: 21\"\t\"age: 23\"\t\"age: 10\"\t\"age: 17\"\t\"age: 11\"\t\"age: 1\"\t\"age: 18\"\t\"age: 10\"\t\"age: 12\"\t\"age: 23\"\t\"age: 23\"\t\"age: 8\"\t\"age: 11\"\t\"age: 17\"\t\"age: 11\"\t\"age: 1\"\t\"age: 14\"\t\"age: 12\"\t\"age: 21\"\t\"age: 8\"\t\"age: 26\"\t\"age: 8\"\t\"age: 21\"\t\"age: 26\"\t\"age: 14\"\t\"age: 8\"\t\"age: 1\"\t\"age: 10\"\t\"age: 4\"\t\"age: 8\"\t\"age: 10\"\t\"age: 2\"\t\"age: 26\"\t\"age: 2\"\t\"age: 11\"\t\"age: 1\"\t\"age: 3\"\t\"age: 7\"\t\"age: 23\"\t\"age: 13\"\t\"age: 17\"\t\"age: 11\"\t\"age: 4\"\t\"age: 15\"\t\"age: 9\"\t\"age: 4\"\t\"age: 18\"\t\"age: 2\"\t\"age: 21\"\t\"age: 17\"\t\"age: 21\"\t\"age: 1\"\t\"age: 10\"\t\"age: 18\"\t\"age: 13\"\t\"age: 2\"\t\"age: 11\"\t\"age: 10\"\t\"age: 18\"\t\"age: 26\"\t\"age: 15\"\t\"age: 30\"\t\"age: 8\"\t\"age: 17\"\t\"age: 21\"\t\"age: 7\"\t\"age: 8\"\t\"age: 10\"\t\"age: 2\"\t\"age: 2\"\t\"age: 30\"\t\"age: 17\"\t\"age: 30\"\t\"age: 19\"\t\"age: 30\"\t\"age: 2\"\t\"age: 4\"\t\"age: 19\"\n",
      "!Sample_characteristics_ch1\t\"fasting time: 6hr\"\t\"fasting time: 4hr\"\t\"fasting time: 6hr\"\t\"fasting time: 4hr\"\t\"fasting time: 4hr\"\t\"fasting time: 6hr\"\t\"fasting time: 4hr\"\t\"fasting time: 6hr\"\t\"fasting time: 4hr\"\t\"fasting time: 6hr\"\t\"fasting time: 4hr\"\t\"fasting time: 6hr\"\t\"fasting time: 6hr\"\t\"fasting time: 6hr\"\t\"fasting time: 4hr\"\t\"fasting time: 6hr\"\t\"fasting time: 4hr\"\t\"fasting time: 6hr\"\t\"fasting time: 6hr\"\t\"fasting time: 4hr\"\t\"fasting time: 6hr\"\t\"fasting time: 4hr\"\t\"fasting time: 4hr\"\t\"fasting time: 6hr\"\t\"fasting time: 6hr\"\t\"fasting time: 6hr\"\t\"fasting time: 4hr\"\t\"fasting time: 4hr\"\t\"fasting time: 6hr\"\t\"fasting time: 4hr\"\t\"fasting time: 6hr\"\t\"fasting time: 4hr\"\t\"fasting time: 4hr\"\t\"fasting time: 6hr\"\t\"fasting time: 6hr\"\t\"fasting time: 4hr\"\t\"fasting time: 6hr\"\t\"fasting time: 6hr\"\t\"fasting time: 6hr\"\t\"fasting time: 4hr\"\t\"fasting time: 6hr\"\t\"fasting time: 4hr\"\t\"fasting time: 4hr\"\t\"fasting time: 6hr\"\t\"fasting time: 6hr\"\t\"fasting time: 6hr\"\t\"fasting time: 6hr\"\t\"fasting time: 6hr\"\t\"fasting time: 6hr\"\t\"fasting time: 4hr\"\t\"fasting time: 4hr\"\t\"fasting time: 6hr\"\t\"fasting time: 4hr\"\t\"fasting time: 4hr\"\t\"fasting time: 6hr\"\t\"fasting time: 4hr\"\t\"fasting time: 6hr\"\t\"fasting time: 6hr\"\t\"fasting time: 6hr\"\t\"fasting time: 4hr\"\t\"fasting time: 4hr\"\t\"fasting time: 6hr\"\t\"fasting time: 6hr\"\t\"fasting time: 4hr\"\t\"fasting time: 4hr\"\t\"fasting time: 4hr\"\t\"fasting time: 6hr\"\t\"fasting time: 4hr\"\t\"fasting time: 6hr\"\t\"fasting time: 4hr\"\t\"fasting time: 4hr\"\t\"fasting time: 6hr\"\t\"fasting time: 6hr\"\t\"fasting time: 4hr\"\t\"fasting time: 4hr\"\t\"fasting time: 6hr\"\t\"fasting time: 4hr\"\t\"fasting time: 6hr\"\n",
      "!Sample_characteristics_ch1\t\"timepoint: 0months\"\t\"timepoint: 6months\"\t\"timepoint: 0months\"\t\"timepoint: 0months\"\t\"timepoint: 0months\"\t\"timepoint: 6months\"\t\"timepoint: 6months\"\t\"timepoint: 0months\"\t\"timepoint: 0months\"\t\"timepoint: 0months\"\t\"timepoint: 0months\"\t\"timepoint: 0months\"\t\"timepoint: 6months\"\t\"timepoint: 0months\"\t\"timepoint: 6months\"\t\"timepoint: 0months\"\t\"timepoint: 0months\"\t\"timepoint: 0months\"\t\"timepoint: 0months\"\t\"timepoint: 6months\"\t\"timepoint: 6months\"\t\"timepoint: 0months\"\t\"timepoint: 0months\"\t\"timepoint: 0months\"\t\"timepoint: 0months\"\t\"timepoint: 6months\"\t\"timepoint: 6months\"\t\"timepoint: 0months\"\t\"timepoint: 0months\"\t\"timepoint: 0months\"\t\"timepoint: 0months\"\t\"timepoint: 6months\"\t\"timepoint: 0months\"\t\"timepoint: 0months\"\t\"timepoint: 0months\"\t\"timepoint: 0months\"\t\"timepoint: 0months\"\t\"timepoint: 0months\"\t\"timepoint: 6months\"\t\"timepoint: 0months\"\t\"timepoint: 6months\"\t\"timepoint: 0months\"\t\"timepoint: 6months\"\t\"timepoint: 0months\"\t\"timepoint: 0months\"\t\"timepoint: 6months\"\t\"timepoint: 0months\"\t\"timepoint: 0months\"\t\"timepoint: 6months\"\t\"timepoint: 6months\"\t\"timepoint: 0months\"\t\"timepoint: 0months\"\t\"timepoint: 0months\"\t\"timepoint: 0months\"\t\"timepoint: 0months\"\t\"timepoint: 0months\"\t\"timepoint: 0months\"\t\"timepoint: 6months\"\t\"timepoint: 6months\"\t\"timepoint: 6months\"\t\"timepoint: 0months\"\t\"timepoint: 0months\"\t\"timepoint: 0months\"\t\"timepoint: 0months\"\t\"timepoint: 6months\"\t\"timepoint: 0months\"\t\"timepoint: 0months\"\t\"timepoint: 6months\"\t\"timepoint: 6months\"\t\"timepoint: 0months\"\t\"timepoint: 0months\"\t\"timepoint: 0months\"\t\"timepoint: 6months\"\t\"timepoint: 0months\"\t\"timepoint: 6months\"\t\"timepoint: 0months\"\t\"timepoint: 0months\"\t\"timepoint: 0months\"\n"
     ]
    }
   ],
   "source": [
    "condition_background_info = get_background_info(condition_matrix_file, background_prefixes)\n",
    "print(condition_background_info)"
   ],
   "metadata": {
    "collapsed": false,
    "ExecuteTime": {
     "end_time": "2023-12-26T00:51:46.538956408Z",
     "start_time": "2023-12-26T00:51:46.053820580Z"
    }
   }
  },
  {
   "cell_type": "markdown",
   "source": [
    "Focus on the clinical traits of the samples."
   ],
   "metadata": {
    "collapsed": false
   }
  },
  {
   "cell_type": "code",
   "execution_count": 21,
   "outputs": [
    {
     "data": {
      "text/plain": "         !Sample_geo_accession          GSM5494930          GSM5494931  \\\n0  !Sample_characteristics_ch1         gender: Man         gender: Man   \n1  !Sample_characteristics_ch1           group: NW        group: OW/OB   \n2  !Sample_characteristics_ch1             age: 21             age: 23   \n3  !Sample_characteristics_ch1   fasting time: 6hr   fasting time: 4hr   \n4  !Sample_characteristics_ch1  timepoint: 0months  timepoint: 6months   \n\n           GSM5494932          GSM5494933          GSM5494934  \\\n0       gender: Woman       gender: Woman       gender: Woman   \n1         group: MONW        group: OW/OB           group: NW   \n2             age: 10             age: 17             age: 11   \n3   fasting time: 6hr   fasting time: 4hr   fasting time: 4hr   \n4  timepoint: 0months  timepoint: 0months  timepoint: 0months   \n\n           GSM5494935          GSM5494936          GSM5494937  \\\n0         gender: Man       gender: Woman       gender: Woman   \n1        group: OW/OB        group: OW/OB        group: OW/OB   \n2              age: 1             age: 18             age: 10   \n3   fasting time: 6hr   fasting time: 4hr   fasting time: 6hr   \n4  timepoint: 6months  timepoint: 6months  timepoint: 0months   \n\n           GSM5494938  ...          GSM5494998          GSM5494999  \\\n0       gender: Woman  ...       gender: Woman       gender: Woman   \n1           group: NW  ...        group: OW/OB        group: OW/OB   \n2             age: 12  ...              age: 2              age: 2   \n3   fasting time: 4hr  ...   fasting time: 6hr   fasting time: 4hr   \n4  timepoint: 0months  ...  timepoint: 6months  timepoint: 0months   \n\n           GSM5495000          GSM5495001          GSM5495002  \\\n0         gender: Man         gender: Man         gender: Man   \n1        group: OW/OB           group: NW        group: OW/OB   \n2             age: 30             age: 17             age: 30   \n3   fasting time: 4hr   fasting time: 6hr   fasting time: 6hr   \n4  timepoint: 0months  timepoint: 0months  timepoint: 6months   \n\n           GSM5495003          GSM5495004          GSM5495005  \\\n0         gender: Man         gender: Man       gender: Woman   \n1           group: NW        group: OW/OB        group: OW/OB   \n2             age: 19             age: 30              age: 2   \n3   fasting time: 4hr   fasting time: 4hr   fasting time: 6hr   \n4  timepoint: 0months  timepoint: 6months  timepoint: 0months   \n\n           GSM5495006          GSM5495007  \n0         gender: Man         gender: Man  \n1        group: OW/OB           group: NW  \n2              age: 4             age: 19  \n3   fasting time: 4hr   fasting time: 6hr  \n4  timepoint: 0months  timepoint: 0months  \n\n[5 rows x 79 columns]",
      "text/html": "<div>\n<style scoped>\n    .dataframe tbody tr th:only-of-type {\n        vertical-align: middle;\n    }\n\n    .dataframe tbody tr th {\n        vertical-align: top;\n    }\n\n    .dataframe thead th {\n        text-align: right;\n    }\n</style>\n<table border=\"1\" class=\"dataframe\">\n  <thead>\n    <tr style=\"text-align: right;\">\n      <th></th>\n      <th>!Sample_geo_accession</th>\n      <th>GSM5494930</th>\n      <th>GSM5494931</th>\n      <th>GSM5494932</th>\n      <th>GSM5494933</th>\n      <th>GSM5494934</th>\n      <th>GSM5494935</th>\n      <th>GSM5494936</th>\n      <th>GSM5494937</th>\n      <th>GSM5494938</th>\n      <th>...</th>\n      <th>GSM5494998</th>\n      <th>GSM5494999</th>\n      <th>GSM5495000</th>\n      <th>GSM5495001</th>\n      <th>GSM5495002</th>\n      <th>GSM5495003</th>\n      <th>GSM5495004</th>\n      <th>GSM5495005</th>\n      <th>GSM5495006</th>\n      <th>GSM5495007</th>\n    </tr>\n  </thead>\n  <tbody>\n    <tr>\n      <th>0</th>\n      <td>!Sample_characteristics_ch1</td>\n      <td>gender: Man</td>\n      <td>gender: Man</td>\n      <td>gender: Woman</td>\n      <td>gender: Woman</td>\n      <td>gender: Woman</td>\n      <td>gender: Man</td>\n      <td>gender: Woman</td>\n      <td>gender: Woman</td>\n      <td>gender: Woman</td>\n      <td>...</td>\n      <td>gender: Woman</td>\n      <td>gender: Woman</td>\n      <td>gender: Man</td>\n      <td>gender: Man</td>\n      <td>gender: Man</td>\n      <td>gender: Man</td>\n      <td>gender: Man</td>\n      <td>gender: Woman</td>\n      <td>gender: Man</td>\n      <td>gender: Man</td>\n    </tr>\n    <tr>\n      <th>1</th>\n      <td>!Sample_characteristics_ch1</td>\n      <td>group: NW</td>\n      <td>group: OW/OB</td>\n      <td>group: MONW</td>\n      <td>group: OW/OB</td>\n      <td>group: NW</td>\n      <td>group: OW/OB</td>\n      <td>group: OW/OB</td>\n      <td>group: OW/OB</td>\n      <td>group: NW</td>\n      <td>...</td>\n      <td>group: OW/OB</td>\n      <td>group: OW/OB</td>\n      <td>group: OW/OB</td>\n      <td>group: NW</td>\n      <td>group: OW/OB</td>\n      <td>group: NW</td>\n      <td>group: OW/OB</td>\n      <td>group: OW/OB</td>\n      <td>group: OW/OB</td>\n      <td>group: NW</td>\n    </tr>\n    <tr>\n      <th>2</th>\n      <td>!Sample_characteristics_ch1</td>\n      <td>age: 21</td>\n      <td>age: 23</td>\n      <td>age: 10</td>\n      <td>age: 17</td>\n      <td>age: 11</td>\n      <td>age: 1</td>\n      <td>age: 18</td>\n      <td>age: 10</td>\n      <td>age: 12</td>\n      <td>...</td>\n      <td>age: 2</td>\n      <td>age: 2</td>\n      <td>age: 30</td>\n      <td>age: 17</td>\n      <td>age: 30</td>\n      <td>age: 19</td>\n      <td>age: 30</td>\n      <td>age: 2</td>\n      <td>age: 4</td>\n      <td>age: 19</td>\n    </tr>\n    <tr>\n      <th>3</th>\n      <td>!Sample_characteristics_ch1</td>\n      <td>fasting time: 6hr</td>\n      <td>fasting time: 4hr</td>\n      <td>fasting time: 6hr</td>\n      <td>fasting time: 4hr</td>\n      <td>fasting time: 4hr</td>\n      <td>fasting time: 6hr</td>\n      <td>fasting time: 4hr</td>\n      <td>fasting time: 6hr</td>\n      <td>fasting time: 4hr</td>\n      <td>...</td>\n      <td>fasting time: 6hr</td>\n      <td>fasting time: 4hr</td>\n      <td>fasting time: 4hr</td>\n      <td>fasting time: 6hr</td>\n      <td>fasting time: 6hr</td>\n      <td>fasting time: 4hr</td>\n      <td>fasting time: 4hr</td>\n      <td>fasting time: 6hr</td>\n      <td>fasting time: 4hr</td>\n      <td>fasting time: 6hr</td>\n    </tr>\n    <tr>\n      <th>4</th>\n      <td>!Sample_characteristics_ch1</td>\n      <td>timepoint: 0months</td>\n      <td>timepoint: 6months</td>\n      <td>timepoint: 0months</td>\n      <td>timepoint: 0months</td>\n      <td>timepoint: 0months</td>\n      <td>timepoint: 6months</td>\n      <td>timepoint: 6months</td>\n      <td>timepoint: 0months</td>\n      <td>timepoint: 0months</td>\n      <td>...</td>\n      <td>timepoint: 6months</td>\n      <td>timepoint: 0months</td>\n      <td>timepoint: 0months</td>\n      <td>timepoint: 0months</td>\n      <td>timepoint: 6months</td>\n      <td>timepoint: 0months</td>\n      <td>timepoint: 6months</td>\n      <td>timepoint: 0months</td>\n      <td>timepoint: 0months</td>\n      <td>timepoint: 0months</td>\n    </tr>\n  </tbody>\n</table>\n<p>5 rows × 79 columns</p>\n</div>"
     },
     "execution_count": 21,
     "metadata": {},
     "output_type": "execute_result"
    }
   ],
   "source": [
    "condition_clinical_data = get_clinical_data(condition_background_info, clinical_prefixes)\n",
    "condition_clinical_data.head()"
   ],
   "metadata": {
    "collapsed": false,
    "ExecuteTime": {
     "end_time": "2023-12-26T00:51:46.583841939Z",
     "start_time": "2023-12-26T00:51:46.515580280Z"
    }
   }
  },
  {
   "cell_type": "markdown",
   "source": [
    "Find the index of the row that records data about '{CONDITION}'. The index should start with 0. Choose a proper data type for the trait between 'binary' and 'continuous', and write a function that converts a value in the cell into that data type."
   ],
   "metadata": {
    "collapsed": false
   }
  },
  {
   "cell_type": "code",
   "execution_count": 22,
   "outputs": [],
   "source": [
    "condition_row_id = 1\n",
    "\n",
    "def decode_condition_var(value):\n",
    "    if value == 'group: OW/OB':\n",
    "        return 1\n",
    "    else:\n",
    "        return 0"
   ],
   "metadata": {
    "collapsed": false,
    "ExecuteTime": {
     "end_time": "2023-12-26T00:51:46.583951339Z",
     "start_time": "2023-12-26T00:51:46.515687445Z"
    }
   }
  },
  {
   "cell_type": "code",
   "execution_count": 23,
   "outputs": [],
   "source": [
    "condition_feature_data = get_feature_data(condition_clinical_data, condition_row_id, CONDITION, decode_condition_var)"
   ],
   "metadata": {
    "collapsed": false,
    "ExecuteTime": {
     "end_time": "2023-12-26T00:51:46.584001355Z",
     "start_time": "2023-12-26T00:51:46.515720017Z"
    }
   }
  },
  {
   "cell_type": "code",
   "execution_count": 24,
   "outputs": [],
   "source": [
    "condition_gene_annotation = get_gene_annotation(condition_soft_file)"
   ],
   "metadata": {
    "collapsed": false,
    "ExecuteTime": {
     "end_time": "2023-12-26T00:51:49.690105989Z",
     "start_time": "2023-12-26T00:51:46.515761887Z"
    }
   }
  },
  {
   "cell_type": "markdown",
   "source": [
    "Read the gene annotation dataframe, to get the name of the column that records gene symbols."
   ],
   "metadata": {
    "collapsed": false
   }
  },
  {
   "cell_type": "code",
   "execution_count": 25,
   "outputs": [
    {
     "data": {
      "text/plain": "  ID  COL    ROW             NAME          SPOT_ID CONTROL_TYPE        REFSEQ  \\\n0  1  192  328.0  GE_BrightCorner  GE_BrightCorner          pos           NaN   \n1  2  192  326.0       DarkCorner       DarkCorner          pos           NaN   \n2  3  192  324.0       DarkCorner       DarkCorner          pos           NaN   \n3  4  192  322.0    A_21_P0014386    A_21_P0014386        FALSE           NaN   \n4  5  192  320.0    A_33_P3396872    A_33_P3396872        FALSE  NM_001105533   \n\n         GB_ACC  LOCUSLINK_ID GENE_SYMBOL  ... UNIGENE_ID ENSEMBL_ID TIGR_ID  \\\n0           NaN           NaN         NaN  ...        NaN        NaN     NaN   \n1           NaN           NaN         NaN  ...        NaN        NaN     NaN   \n2           NaN           NaN         NaN  ...        NaN        NaN     NaN   \n3           NaN           NaN         NaN  ...        NaN        NaN     NaN   \n4  NM_001105533       79974.0       CPED1  ...  Hs.189652        NaN     NaN   \n\n                                    ACCESSION_STRING  \\\n0                                                NaN   \n1                                                NaN   \n2                                                NaN   \n3                                                NaN   \n4  ref|NM_001105533|gb|AK025639|gb|BC030538|tc|TH...   \n\n       CHROMOSOMAL_LOCATION    CYTOBAND  \\\n0                       NaN         NaN   \n1                       NaN         NaN   \n2                       NaN         NaN   \n3                  unmapped         NaN   \n4  chr7:120901888-120901947  hs|7q31.31   \n\n                                         DESCRIPTION  \\\n0                                                NaN   \n1                                                NaN   \n2                                                NaN   \n3                                                NaN   \n4  Homo sapiens cadherin-like and PC-esterase dom...   \n\n                               GO_ID  \\\n0                                NaN   \n1                                NaN   \n2                                NaN   \n3                                NaN   \n4  GO:0005783(endoplasmic reticulum)   \n\n                                            SEQUENCE SPOT_ID.1  \n0                                                NaN       NaN  \n1                                                NaN       NaN  \n2                                                NaN       NaN  \n3  AATACATGTTTTGGTAAACACTCGGTCAGAGCACCCTCTTTCTGTG...       NaN  \n4  GCTTATCTCACCTAATACAGGGACTATGCAACCAAGAAACTGGAAA...       NaN  \n\n[5 rows x 21 columns]",
      "text/html": "<div>\n<style scoped>\n    .dataframe tbody tr th:only-of-type {\n        vertical-align: middle;\n    }\n\n    .dataframe tbody tr th {\n        vertical-align: top;\n    }\n\n    .dataframe thead th {\n        text-align: right;\n    }\n</style>\n<table border=\"1\" class=\"dataframe\">\n  <thead>\n    <tr style=\"text-align: right;\">\n      <th></th>\n      <th>ID</th>\n      <th>COL</th>\n      <th>ROW</th>\n      <th>NAME</th>\n      <th>SPOT_ID</th>\n      <th>CONTROL_TYPE</th>\n      <th>REFSEQ</th>\n      <th>GB_ACC</th>\n      <th>LOCUSLINK_ID</th>\n      <th>GENE_SYMBOL</th>\n      <th>...</th>\n      <th>UNIGENE_ID</th>\n      <th>ENSEMBL_ID</th>\n      <th>TIGR_ID</th>\n      <th>ACCESSION_STRING</th>\n      <th>CHROMOSOMAL_LOCATION</th>\n      <th>CYTOBAND</th>\n      <th>DESCRIPTION</th>\n      <th>GO_ID</th>\n      <th>SEQUENCE</th>\n      <th>SPOT_ID.1</th>\n    </tr>\n  </thead>\n  <tbody>\n    <tr>\n      <th>0</th>\n      <td>1</td>\n      <td>192</td>\n      <td>328.0</td>\n      <td>GE_BrightCorner</td>\n      <td>GE_BrightCorner</td>\n      <td>pos</td>\n      <td>NaN</td>\n      <td>NaN</td>\n      <td>NaN</td>\n      <td>NaN</td>\n      <td>...</td>\n      <td>NaN</td>\n      <td>NaN</td>\n      <td>NaN</td>\n      <td>NaN</td>\n      <td>NaN</td>\n      <td>NaN</td>\n      <td>NaN</td>\n      <td>NaN</td>\n      <td>NaN</td>\n      <td>NaN</td>\n    </tr>\n    <tr>\n      <th>1</th>\n      <td>2</td>\n      <td>192</td>\n      <td>326.0</td>\n      <td>DarkCorner</td>\n      <td>DarkCorner</td>\n      <td>pos</td>\n      <td>NaN</td>\n      <td>NaN</td>\n      <td>NaN</td>\n      <td>NaN</td>\n      <td>...</td>\n      <td>NaN</td>\n      <td>NaN</td>\n      <td>NaN</td>\n      <td>NaN</td>\n      <td>NaN</td>\n      <td>NaN</td>\n      <td>NaN</td>\n      <td>NaN</td>\n      <td>NaN</td>\n      <td>NaN</td>\n    </tr>\n    <tr>\n      <th>2</th>\n      <td>3</td>\n      <td>192</td>\n      <td>324.0</td>\n      <td>DarkCorner</td>\n      <td>DarkCorner</td>\n      <td>pos</td>\n      <td>NaN</td>\n      <td>NaN</td>\n      <td>NaN</td>\n      <td>NaN</td>\n      <td>...</td>\n      <td>NaN</td>\n      <td>NaN</td>\n      <td>NaN</td>\n      <td>NaN</td>\n      <td>NaN</td>\n      <td>NaN</td>\n      <td>NaN</td>\n      <td>NaN</td>\n      <td>NaN</td>\n      <td>NaN</td>\n    </tr>\n    <tr>\n      <th>3</th>\n      <td>4</td>\n      <td>192</td>\n      <td>322.0</td>\n      <td>A_21_P0014386</td>\n      <td>A_21_P0014386</td>\n      <td>FALSE</td>\n      <td>NaN</td>\n      <td>NaN</td>\n      <td>NaN</td>\n      <td>NaN</td>\n      <td>...</td>\n      <td>NaN</td>\n      <td>NaN</td>\n      <td>NaN</td>\n      <td>NaN</td>\n      <td>unmapped</td>\n      <td>NaN</td>\n      <td>NaN</td>\n      <td>NaN</td>\n      <td>AATACATGTTTTGGTAAACACTCGGTCAGAGCACCCTCTTTCTGTG...</td>\n      <td>NaN</td>\n    </tr>\n    <tr>\n      <th>4</th>\n      <td>5</td>\n      <td>192</td>\n      <td>320.0</td>\n      <td>A_33_P3396872</td>\n      <td>A_33_P3396872</td>\n      <td>FALSE</td>\n      <td>NM_001105533</td>\n      <td>NM_001105533</td>\n      <td>79974.0</td>\n      <td>CPED1</td>\n      <td>...</td>\n      <td>Hs.189652</td>\n      <td>NaN</td>\n      <td>NaN</td>\n      <td>ref|NM_001105533|gb|AK025639|gb|BC030538|tc|TH...</td>\n      <td>chr7:120901888-120901947</td>\n      <td>hs|7q31.31</td>\n      <td>Homo sapiens cadherin-like and PC-esterase dom...</td>\n      <td>GO:0005783(endoplasmic reticulum)</td>\n      <td>GCTTATCTCACCTAATACAGGGACTATGCAACCAAGAAACTGGAAA...</td>\n      <td>NaN</td>\n    </tr>\n  </tbody>\n</table>\n<p>5 rows × 21 columns</p>\n</div>"
     },
     "execution_count": 25,
     "metadata": {},
     "output_type": "execute_result"
    }
   ],
   "source": [
    "condition_gene_annotation.head()"
   ],
   "metadata": {
    "collapsed": false,
    "ExecuteTime": {
     "end_time": "2023-12-26T00:51:49.739684553Z",
     "start_time": "2023-12-26T00:51:49.697668704Z"
    }
   }
  },
  {
   "cell_type": "code",
   "execution_count": 26,
   "outputs": [],
   "source": [
    "condition_gene_name_col = 'GENE_SYMBOL'"
   ],
   "metadata": {
    "collapsed": false,
    "ExecuteTime": {
     "end_time": "2023-12-26T00:51:49.739819722Z",
     "start_time": "2023-12-26T00:51:49.739607946Z"
    }
   }
  },
  {
   "cell_type": "code",
   "execution_count": 27,
   "outputs": [],
   "source": [
    "condition_gene_mapping = get_gene_mapping(condition_gene_annotation, condition_gene_name_col)"
   ],
   "metadata": {
    "collapsed": false,
    "ExecuteTime": {
     "end_time": "2023-12-26T00:51:49.937842432Z",
     "start_time": "2023-12-26T00:51:49.739778312Z"
    }
   }
  },
  {
   "cell_type": "code",
   "execution_count": 28,
   "outputs": [],
   "source": [
    "condition_genetic_data = get_genetic_data(condition_matrix_file)"
   ],
   "metadata": {
    "collapsed": false,
    "ExecuteTime": {
     "end_time": "2023-12-26T00:51:49.993075450Z",
     "start_time": "2023-12-26T00:51:49.891385093Z"
    }
   }
  },
  {
   "cell_type": "markdown",
   "source": [
    "Load tabular gene expression data"
   ],
   "metadata": {
    "collapsed": false
   }
  },
  {
   "cell_type": "code",
   "execution_count": 29,
   "outputs": [],
   "source": [
    "condition_genetic_data = apply_gene_mapping(condition_genetic_data, condition_gene_mapping)"
   ],
   "metadata": {
    "collapsed": false,
    "ExecuteTime": {
     "end_time": "2023-12-26T00:51:50.035364810Z",
     "start_time": "2023-12-26T00:51:49.991367511Z"
    }
   }
  },
  {
   "cell_type": "code",
   "execution_count": 30,
   "outputs": [
    {
     "name": "stderr",
     "output_type": "stream",
     "text": [
      "25 input query terms found dup hits:\t[('ACTA2-AS1', 2), ('ACTG1P20', 2), ('ACTG1P4', 2), ('ACTR3BP5', 3), ('ADAM1A', 2), ('ADCY10P1', 2),\n",
      "55 input query terms found no hit:\t['AAED1', 'AARS', 'ACN9', 'ACPP', 'ACRC', 'ADCK3', 'ADCK4', 'ADPRHL2', 'ADRBK1', 'ADRBK2', 'ADSS', '\n",
      "13 input query terms found dup hits:\t[('BCORP1', 2), ('BCRP2', 2), ('BMS1P17', 2), ('BMS1P20', 2), ('BRD7P3', 2), ('BTF3P11', 2), ('BTN2A\n",
      "173 input query terms found no hit:\t['BMS1P5', 'BMS1P6', 'BOLA3-AS1', 'BRE', 'BREA2', 'BTBD11', 'BZRAP1', 'BZRAP1-AS1', 'C10orf11', 'C10\n",
      "21 input query terms found dup hits:\t[('CLUHP3', 2), ('CMAHP', 2), ('CROCCP2', 2), ('CRYBB2P1', 2), ('CTAGE11P', 2), ('CTSLP2', 2), ('CTS\n",
      "37 input query terms found no hit:\t['CIDECP', 'CIRH1A', 'CLECL1', 'COL4A3BP', 'COX10-AS1', 'CPSF3L', 'CRHR1-IT1', 'CRIPAK', 'CSRP2BP', \n",
      "16 input query terms found dup hits:\t[('ECEL1P2', 2), ('EDNRB-AS1', 2), ('EEF1DP3', 2), ('EMC3-AS1', 2), ('EPB41L4A-AS1', 2), ('FAAHP1', \n",
      "133 input query terms found no hit:\t['ECRP', 'EFTUD1', 'EIF3J-AS1', 'ELMSAN1', 'EMR1', 'EMR2', 'EMR3', 'EMR4P', 'ENTHD2', 'EP400NL', 'EP\n",
      "23 input query terms found dup hits:\t[('GLUD1P3', 2), ('GOLGA2P5', 2), ('GOLGA2P6', 2), ('GOLGA2P7', 3), ('GOLGA8IP', 3), ('GRTP1-AS1', 2\n",
      "117 input query terms found no hit:\t['GLTSCR1', 'GLTSCR1L', 'GLTSCR2', 'GLUD1P7', 'GMDS-AS1', 'GNB2L1', 'GPR114', 'GPR124', 'GPR125', 'G\n",
      "48 input query terms found dup hits:\t[('JARID2-AS1', 2), ('KIF9-AS1', 2), ('KLF3-AS1', 2), ('KMT2E-AS1', 2), ('KRT8P12', 2), ('LAMB2P1', \n",
      "325 input query terms found no hit:\t['JHDM1D-AS1', 'KARS', 'KDELC2', 'KGFLP1', 'KGFLP2', 'KIAA0020', 'KIAA0100', 'KIAA0101', 'KIAA0125',\n",
      "15 input query terms found dup hits:\t[('LRP5L', 2), ('LRRC37A4P', 3), ('LRRC37BP1', 2), ('LUCAT1', 2), ('LYPLAL1-AS1', 2), ('MALAT1', 2),\n",
      "210 input query terms found no hit:\t['LOC101929687', 'LOC101929709', 'LOC101929787', 'LOC101929865', 'LOC101929910', 'LOC101929911', 'LO\n",
      "23 input query terms found dup hits:\t[('MTMR9LP', 2), ('NAPA-AS1', 2), ('NAPSB', 2), ('NAT8B', 3), ('NCF1B', 2), ('NDUFV2-AS1', 2), ('NF1\n",
      "36 input query terms found no hit:\t['MTL5', 'MUM1', 'MUT', 'MYEOV2', 'N6AMT2', 'NACAP1', 'NARFL', 'NARS', 'NAT6', 'NCBP2-AS2', 'NCK1-AS\n",
      "17 input query terms found dup hits:\t[('PGM5P2', 2), ('PI4KAP2', 2), ('PMS2P1', 2), ('PMS2P3', 2), ('PMS2P4', 2), ('PMS2P5', 2), ('PMS2P9\n",
      "34 input query terms found no hit:\t['PHB', 'PIK3IP1-AS1', 'PKI55', 'PLA2G16', 'PP12719', 'PP7080', 'PPAP2A', 'PPAPDC1B', 'PPAPDC2', 'PP\n",
      "29 input query terms found dup hits:\t[('RNF138P1', 2), ('RNF157-AS1', 2), ('RP9P', 2), ('RPL13P5', 2), ('RPL21P44', 2), ('RPL23AP53', 2),\n",
      "29 input query terms found no hit:\t['RFWD2', 'RGAG4', 'RLTPR', 'RNASEH1-AS1', 'RNF219', 'RNMTL1', 'RPARP-AS1', 'RPSAP58', 'RRNAD1', 'RR\n",
      "55 input query terms found dup hits:\t[('SLC6A10P', 2), ('SLC7A5P1', 2), ('SMG1P1', 2), ('SNAP25-AS1', 2), ('SNHG18', 2), ('SNHG19', 2), (\n",
      "31 input query terms found no hit:\t['SLC35E2', 'SLC9A3R1', 'SLC9A3R2', 'SLMO2', 'SMA4', 'SMEK1', 'SMEK2', 'SMIM4', 'SNORA34', 'SNORA45A\n",
      "20 input query terms found dup hits:\t[('TBC1D3P5', 2), ('TEKT4P2', 2), ('TERC', 2), ('THAP9-AS1', 2), ('TMEM191A', 2), ('TMEM26-AS1', 2),\n",
      "43 input query terms found no hit:\t['TCEB1', 'TCEB2', 'TCEB3', 'TCEB3-AS1', 'TCTEX1D2', 'TLDC1', 'TMEM110', 'TMEM14E', 'TMEM159', 'TMEM\n",
      "15 input query terms found dup hits:\t[('USP30-AS1', 2), ('USP32P2', 2), ('VIPR1-AS1', 2), ('WAC-AS1', 2), ('WFDC21P', 2), ('WHAMMP1', 2),\n",
      "206 input query terms found no hit:\t['UFD1L', 'UHRF1BP1', 'UHRF1BP1L', 'USMG5', 'USP12-AS2', 'USP27X-AS1', 'UTP11L', 'VARS', 'VIMP', 'VP\n",
      "6 input query terms found dup hits:\t[('ZNF674-AS1', 2), ('ZNF767P', 2), ('ZNF815P', 2), ('ZNF818P', 2), ('ZNF890P', 2), ('ZSCAN12P1', 2)\n",
      "777 input query terms found no hit:\t['ZNF582-AS1', 'ZNF638-IT1', 'ZNF720', 'ZNF807', 'ZNRD1', 'ZNRD1-AS1', 'ZUFSP', 'lnc-ABCA13-1', 'lnc\n",
      "171 input query terms found no hit:\t['lnc-SPPL3.1-3', 'lnc-SPRYD7-1', 'lnc-SRBD1-1', 'lnc-SRGAP3-1', 'lnc-SRP54-1', 'lnc-SRR-2', 'lnc-SS\n"
     ]
    }
   ],
   "source": [
    "if NORMALIZE_GENE:\n",
    "    condition_genetic_data = normalize_gene_symbols_in_index(condition_genetic_data)"
   ],
   "metadata": {
    "collapsed": false,
    "ExecuteTime": {
     "end_time": "2023-12-26T00:52:23.920570995Z",
     "start_time": "2023-12-26T00:51:50.035452598Z"
    }
   }
  },
  {
   "cell_type": "code",
   "execution_count": 31,
   "outputs": [
    {
     "data": {
      "text/plain": "                 A1BG  A1BG-AS1    A2M-AS1    A4GALT      AAAS      AACS  \\\nGSM5494930   9.356389  6.588705  10.086590  6.087023  8.855058  6.453003   \nGSM5494931   9.580217  6.861172   8.589913  5.958440  8.172307  6.070650   \nGSM5494932   9.920784  7.055549   9.467662  6.690681  8.768802  6.703954   \nGSM5494933   9.504974  6.792186   7.930585  5.814862  8.708854  6.803403   \nGSM5494934   9.533504  7.192053   9.596064  5.822462  8.534389  6.751145   \n...               ...       ...        ...       ...       ...       ...   \nGSM5495003   9.838970  7.523552   9.046983  6.697867  8.848680  7.336287   \nGSM5495004   9.807525  7.071518   8.999367  6.329302  8.456660  7.068365   \nGSM5495005   9.834407  7.480286   8.712552  6.283686  8.722496  7.056443   \nGSM5495006   9.777699  7.482379   9.702852  6.623779  8.856997  7.177422   \nGSM5495007  10.079459  7.548277   8.741175  6.797948  8.627950  7.043060   \n\n             AADACL3     AAGAB      AAK1     AAMDC  ...    ZWILCH     ZWINT  \\\nGSM5494930  6.644548  9.746953  8.111067  8.766887  ...  6.278003  5.738853   \nGSM5494931  6.281522  9.658012  8.342455  8.749621  ...  6.687131  6.101444   \nGSM5494932  7.138168  9.096505  8.249213  8.939544  ...  6.648450  6.406971   \nGSM5494933  5.934699  9.902677  7.866595  8.747317  ...  6.583358  6.144584   \nGSM5494934  6.999438  8.589853  8.513349  8.718470  ...  6.475069  6.905870   \n...              ...       ...       ...       ...  ...       ...       ...   \nGSM5495003  6.809151  9.434334  7.995361  9.067806  ...  6.873141  6.783006   \nGSM5495004  6.736399  9.067750  8.219228  8.873996  ...  7.067476  7.412928   \nGSM5495005  6.972152  9.209239  8.263851  8.986600  ...  6.786707  6.913737   \nGSM5495006  7.021150  9.143579  8.284696  9.088322  ...  6.735525  7.475593   \nGSM5495007  6.669368  9.157761  8.271748  8.935798  ...  7.175430  6.735313   \n\n                ZXDA      ZXDB      ZXDC    ZYG11B        ZYX      ZZEF1  \\\nGSM5494930  5.108455  9.036174  7.664560  6.691724  10.559644  11.370012   \nGSM5494931  5.254791  9.805082  7.791538  6.815505  10.200364  11.444456   \nGSM5494932  5.426840  8.937783  7.575047  6.709371  11.124261  11.062703   \nGSM5494933  5.039489  9.203809  7.625925  6.840305  11.300428  10.987588   \nGSM5494934  5.460082  9.331111  8.048430  6.860686  10.561634  10.786569   \n...              ...       ...       ...       ...        ...        ...   \nGSM5495003  5.983136  9.089674  7.871114  7.021404  11.141075  10.901566   \nGSM5495004  6.428669  9.036143  7.618206  6.996061  10.418056  10.881511   \nGSM5495005  6.136249  9.058625  7.993798  7.245367  11.027180  10.812370   \nGSM5495006  6.136097  9.195990  8.090627  7.009050  10.948086  10.848902   \nGSM5495007  6.111259  8.988965  7.860720  7.091203  11.188710  10.444464   \n\n                ZZZ3  Obesity  \nGSM5494930  8.635409      0.0  \nGSM5494931  8.916923      1.0  \nGSM5494932  8.439625      0.0  \nGSM5494933  8.646433      1.0  \nGSM5494934  8.603074      0.0  \n...              ...      ...  \nGSM5495003  8.563167      0.0  \nGSM5495004  8.823480      1.0  \nGSM5495005  8.419373      1.0  \nGSM5495006  7.923561      1.0  \nGSM5495007  8.439315      0.0  \n\n[78 rows x 11795 columns]",
      "text/html": "<div>\n<style scoped>\n    .dataframe tbody tr th:only-of-type {\n        vertical-align: middle;\n    }\n\n    .dataframe tbody tr th {\n        vertical-align: top;\n    }\n\n    .dataframe thead th {\n        text-align: right;\n    }\n</style>\n<table border=\"1\" class=\"dataframe\">\n  <thead>\n    <tr style=\"text-align: right;\">\n      <th></th>\n      <th>A1BG</th>\n      <th>A1BG-AS1</th>\n      <th>A2M-AS1</th>\n      <th>A4GALT</th>\n      <th>AAAS</th>\n      <th>AACS</th>\n      <th>AADACL3</th>\n      <th>AAGAB</th>\n      <th>AAK1</th>\n      <th>AAMDC</th>\n      <th>...</th>\n      <th>ZWILCH</th>\n      <th>ZWINT</th>\n      <th>ZXDA</th>\n      <th>ZXDB</th>\n      <th>ZXDC</th>\n      <th>ZYG11B</th>\n      <th>ZYX</th>\n      <th>ZZEF1</th>\n      <th>ZZZ3</th>\n      <th>Obesity</th>\n    </tr>\n  </thead>\n  <tbody>\n    <tr>\n      <th>GSM5494930</th>\n      <td>9.356389</td>\n      <td>6.588705</td>\n      <td>10.086590</td>\n      <td>6.087023</td>\n      <td>8.855058</td>\n      <td>6.453003</td>\n      <td>6.644548</td>\n      <td>9.746953</td>\n      <td>8.111067</td>\n      <td>8.766887</td>\n      <td>...</td>\n      <td>6.278003</td>\n      <td>5.738853</td>\n      <td>5.108455</td>\n      <td>9.036174</td>\n      <td>7.664560</td>\n      <td>6.691724</td>\n      <td>10.559644</td>\n      <td>11.370012</td>\n      <td>8.635409</td>\n      <td>0.0</td>\n    </tr>\n    <tr>\n      <th>GSM5494931</th>\n      <td>9.580217</td>\n      <td>6.861172</td>\n      <td>8.589913</td>\n      <td>5.958440</td>\n      <td>8.172307</td>\n      <td>6.070650</td>\n      <td>6.281522</td>\n      <td>9.658012</td>\n      <td>8.342455</td>\n      <td>8.749621</td>\n      <td>...</td>\n      <td>6.687131</td>\n      <td>6.101444</td>\n      <td>5.254791</td>\n      <td>9.805082</td>\n      <td>7.791538</td>\n      <td>6.815505</td>\n      <td>10.200364</td>\n      <td>11.444456</td>\n      <td>8.916923</td>\n      <td>1.0</td>\n    </tr>\n    <tr>\n      <th>GSM5494932</th>\n      <td>9.920784</td>\n      <td>7.055549</td>\n      <td>9.467662</td>\n      <td>6.690681</td>\n      <td>8.768802</td>\n      <td>6.703954</td>\n      <td>7.138168</td>\n      <td>9.096505</td>\n      <td>8.249213</td>\n      <td>8.939544</td>\n      <td>...</td>\n      <td>6.648450</td>\n      <td>6.406971</td>\n      <td>5.426840</td>\n      <td>8.937783</td>\n      <td>7.575047</td>\n      <td>6.709371</td>\n      <td>11.124261</td>\n      <td>11.062703</td>\n      <td>8.439625</td>\n      <td>0.0</td>\n    </tr>\n    <tr>\n      <th>GSM5494933</th>\n      <td>9.504974</td>\n      <td>6.792186</td>\n      <td>7.930585</td>\n      <td>5.814862</td>\n      <td>8.708854</td>\n      <td>6.803403</td>\n      <td>5.934699</td>\n      <td>9.902677</td>\n      <td>7.866595</td>\n      <td>8.747317</td>\n      <td>...</td>\n      <td>6.583358</td>\n      <td>6.144584</td>\n      <td>5.039489</td>\n      <td>9.203809</td>\n      <td>7.625925</td>\n      <td>6.840305</td>\n      <td>11.300428</td>\n      <td>10.987588</td>\n      <td>8.646433</td>\n      <td>1.0</td>\n    </tr>\n    <tr>\n      <th>GSM5494934</th>\n      <td>9.533504</td>\n      <td>7.192053</td>\n      <td>9.596064</td>\n      <td>5.822462</td>\n      <td>8.534389</td>\n      <td>6.751145</td>\n      <td>6.999438</td>\n      <td>8.589853</td>\n      <td>8.513349</td>\n      <td>8.718470</td>\n      <td>...</td>\n      <td>6.475069</td>\n      <td>6.905870</td>\n      <td>5.460082</td>\n      <td>9.331111</td>\n      <td>8.048430</td>\n      <td>6.860686</td>\n      <td>10.561634</td>\n      <td>10.786569</td>\n      <td>8.603074</td>\n      <td>0.0</td>\n    </tr>\n    <tr>\n      <th>...</th>\n      <td>...</td>\n      <td>...</td>\n      <td>...</td>\n      <td>...</td>\n      <td>...</td>\n      <td>...</td>\n      <td>...</td>\n      <td>...</td>\n      <td>...</td>\n      <td>...</td>\n      <td>...</td>\n      <td>...</td>\n      <td>...</td>\n      <td>...</td>\n      <td>...</td>\n      <td>...</td>\n      <td>...</td>\n      <td>...</td>\n      <td>...</td>\n      <td>...</td>\n      <td>...</td>\n    </tr>\n    <tr>\n      <th>GSM5495003</th>\n      <td>9.838970</td>\n      <td>7.523552</td>\n      <td>9.046983</td>\n      <td>6.697867</td>\n      <td>8.848680</td>\n      <td>7.336287</td>\n      <td>6.809151</td>\n      <td>9.434334</td>\n      <td>7.995361</td>\n      <td>9.067806</td>\n      <td>...</td>\n      <td>6.873141</td>\n      <td>6.783006</td>\n      <td>5.983136</td>\n      <td>9.089674</td>\n      <td>7.871114</td>\n      <td>7.021404</td>\n      <td>11.141075</td>\n      <td>10.901566</td>\n      <td>8.563167</td>\n      <td>0.0</td>\n    </tr>\n    <tr>\n      <th>GSM5495004</th>\n      <td>9.807525</td>\n      <td>7.071518</td>\n      <td>8.999367</td>\n      <td>6.329302</td>\n      <td>8.456660</td>\n      <td>7.068365</td>\n      <td>6.736399</td>\n      <td>9.067750</td>\n      <td>8.219228</td>\n      <td>8.873996</td>\n      <td>...</td>\n      <td>7.067476</td>\n      <td>7.412928</td>\n      <td>6.428669</td>\n      <td>9.036143</td>\n      <td>7.618206</td>\n      <td>6.996061</td>\n      <td>10.418056</td>\n      <td>10.881511</td>\n      <td>8.823480</td>\n      <td>1.0</td>\n    </tr>\n    <tr>\n      <th>GSM5495005</th>\n      <td>9.834407</td>\n      <td>7.480286</td>\n      <td>8.712552</td>\n      <td>6.283686</td>\n      <td>8.722496</td>\n      <td>7.056443</td>\n      <td>6.972152</td>\n      <td>9.209239</td>\n      <td>8.263851</td>\n      <td>8.986600</td>\n      <td>...</td>\n      <td>6.786707</td>\n      <td>6.913737</td>\n      <td>6.136249</td>\n      <td>9.058625</td>\n      <td>7.993798</td>\n      <td>7.245367</td>\n      <td>11.027180</td>\n      <td>10.812370</td>\n      <td>8.419373</td>\n      <td>1.0</td>\n    </tr>\n    <tr>\n      <th>GSM5495006</th>\n      <td>9.777699</td>\n      <td>7.482379</td>\n      <td>9.702852</td>\n      <td>6.623779</td>\n      <td>8.856997</td>\n      <td>7.177422</td>\n      <td>7.021150</td>\n      <td>9.143579</td>\n      <td>8.284696</td>\n      <td>9.088322</td>\n      <td>...</td>\n      <td>6.735525</td>\n      <td>7.475593</td>\n      <td>6.136097</td>\n      <td>9.195990</td>\n      <td>8.090627</td>\n      <td>7.009050</td>\n      <td>10.948086</td>\n      <td>10.848902</td>\n      <td>7.923561</td>\n      <td>1.0</td>\n    </tr>\n    <tr>\n      <th>GSM5495007</th>\n      <td>10.079459</td>\n      <td>7.548277</td>\n      <td>8.741175</td>\n      <td>6.797948</td>\n      <td>8.627950</td>\n      <td>7.043060</td>\n      <td>6.669368</td>\n      <td>9.157761</td>\n      <td>8.271748</td>\n      <td>8.935798</td>\n      <td>...</td>\n      <td>7.175430</td>\n      <td>6.735313</td>\n      <td>6.111259</td>\n      <td>8.988965</td>\n      <td>7.860720</td>\n      <td>7.091203</td>\n      <td>11.188710</td>\n      <td>10.444464</td>\n      <td>8.439315</td>\n      <td>0.0</td>\n    </tr>\n  </tbody>\n</table>\n<p>78 rows × 11795 columns</p>\n</div>"
     },
     "execution_count": 31,
     "metadata": {},
     "output_type": "execute_result"
    }
   ],
   "source": [
    "condition_merged_data = add_binary_feature(condition_genetic_data, condition_feature_data, CONDITION)\n",
    "condition_merged_data = condition_merged_data.T\n",
    "condition_merged_data"
   ],
   "metadata": {
    "collapsed": false,
    "ExecuteTime": {
     "end_time": "2023-12-26T00:52:23.949418311Z",
     "start_time": "2023-12-26T00:52:23.933075839Z"
    }
   }
  },
  {
   "cell_type": "code",
   "execution_count": 32,
   "outputs": [
    {
     "name": "stdout",
     "output_type": "stream",
     "text": [
      "The least common label is '0.0' with 30 occurrences. This represents 38.46% of the dataset.\n",
      "The distribution of the trait 'Obesity' in this dataset is fine.\n"
     ]
    }
   ],
   "source": [
    "biased = judge_binary_variable_biased(condition_merged_data, CONDITION, 0.1, 10)\n",
    "if biased:\n",
    "    print(f\"The distribution of the trait \\'{CONDITION}\\' in this dataset is severely biased.\")\n",
    "else:\n",
    "    print(f\"The distribution of the trait \\'{CONDITION}\\' in this dataset is fine.\")"
   ],
   "metadata": {
    "collapsed": false,
    "ExecuteTime": {
     "end_time": "2023-12-26T00:52:23.950753644Z",
     "start_time": "2023-12-26T00:52:23.947856697Z"
    }
   }
  },
  {
   "cell_type": "markdown",
   "source": [
    "## 2.3. Finding regressors for two-step regression"
   ],
   "metadata": {
    "collapsed": false
   }
  },
  {
   "cell_type": "code",
   "execution_count": 33,
   "outputs": [
    {
     "name": "stdout",
     "output_type": "stream",
     "text": [
      "Genes related to the condition 'Obesity' according to domain knowledge, ['LEP', 'PPARG', 'POMC', 'MC4R', 'ENPP1', 'ADCY3']\n"
     ]
    }
   ],
   "source": [
    "related_genes_file = os.path.join(data_root, 'Summary_Corresponding_Gene_Symbol.csv')\n",
    "condition_related_genes = get_feature_related_genes(related_genes_file, CONDITION, NORMALIZE_GENE)\n",
    "print(f\"Genes related to the condition '{CONDITION}' according to domain knowledge, {condition_related_genes}\")"
   ],
   "metadata": {
    "collapsed": false,
    "ExecuteTime": {
     "end_time": "2023-12-26T00:52:25.347680063Z",
     "start_time": "2023-12-26T00:52:23.954675802Z"
    }
   }
  },
  {
   "cell_type": "code",
   "execution_count": 34,
   "outputs": [
    {
     "name": "stdout",
     "output_type": "stream",
     "text": [
      "The trait and condition datasets have 10299 genes in common, such as ['FBXW2', 'ASPHD2', 'TMEM170A', 'DNAJC14', 'EIF2AK1', 'TNFSF10', 'GORASP2', 'GIGYF2', 'PTK2', 'ZNF839'].\n",
      "Found 2 candidate genes that can be used in two-step regression analysis, such as ['ADCY3', 'POMC'].\n"
     ]
    }
   ],
   "source": [
    "gene_regressors_for_condition, common_genes_across_data = get_gene_regressors(trait_genetic_data, condition_genetic_data, condition_related_genes)"
   ],
   "metadata": {
    "collapsed": false,
    "ExecuteTime": {
     "end_time": "2023-12-26T00:52:25.408434429Z",
     "start_time": "2023-12-26T00:52:25.354424886Z"
    }
   }
  },
  {
   "cell_type": "code",
   "execution_count": 35,
   "outputs": [
    {
     "data": {
      "text/plain": "True"
     },
     "execution_count": 35,
     "metadata": {},
     "output_type": "execute_result"
    }
   ],
   "source": [
    "gene_regressors_for_condition is not None"
   ],
   "metadata": {
    "collapsed": false,
    "ExecuteTime": {
     "end_time": "2023-12-26T00:52:25.408563896Z",
     "start_time": "2023-12-26T00:52:25.395426414Z"
    }
   }
  },
  {
   "cell_type": "markdown",
   "source": [
    "Otherwise, choose a few genes from 'common_genes_across_data' which might be related to the condition according to your biomedical knowledge, and use them as 'gene_regressors_for_condition'"
   ],
   "metadata": {
    "collapsed": false
   }
  },
  {
   "cell_type": "markdown",
   "source": [
    "# 3. The First Stage Regression Analysis"
   ],
   "metadata": {
    "id": "8O_cTEZ-sN_X"
   }
  },
  {
   "cell_type": "markdown",
   "source": [
    "### 3.1. Do regression over condition dataset"
   ],
   "metadata": {
    "id": "VhgEznRdzg7g"
   }
  },
  {
   "cell_type": "code",
   "execution_count": 36,
   "outputs": [
    {
     "name": "stdout",
     "output_type": "stream",
     "text": [
      "The cross-validation accuracy is 64.00% ± 13.73%\n"
     ]
    }
   ],
   "source": [
    "X_condition = condition_merged_data[gene_regressors_for_condition].values\n",
    "y_condition = condition_merged_data[CONDITION].values\n",
    "\n",
    "# X_condition, _ = normalize_data(X_condition)\n",
    "cv_mean, cv_std = cross_validation_with_lasso(X_condition, y_condition)\n",
    "\n",
    "print(f'The cross-validation accuracy is {(cv_mean * 100):.2f}% ± {(cv_std * 100):.2f}%')"
   ],
   "metadata": {
    "collapsed": false,
    "ExecuteTime": {
     "end_time": "2023-12-26T00:52:25.408638519Z",
     "start_time": "2023-12-26T00:52:25.395496037Z"
    }
   }
  },
  {
   "cell_type": "code",
   "source": [
    "# Select relevant columns and convert to numpy array\n",
    "print(\"Common gene regressors for condition and trait\", gene_regressors_for_condition)\n",
    "\n",
    "normalized_X_condition, _ = normalize_data(X_condition)\n",
    "\n",
    "model = LogisticRegression(penalty='l1', solver='liblinear', random_state=42)\n",
    "model.fit(normalized_X_condition, y_condition)"
   ],
   "metadata": {
    "colab": {
     "base_uri": "https://localhost:8080/",
     "height": 92
    },
    "id": "zS-KDjlji_cy",
    "outputId": "751ead6a-352c-453e-ba8f-dd0ad813f5ae",
    "ExecuteTime": {
     "end_time": "2023-12-26T00:52:25.408737298Z",
     "start_time": "2023-12-26T00:52:25.395548447Z"
    }
   },
   "execution_count": 37,
   "outputs": [
    {
     "name": "stdout",
     "output_type": "stream",
     "text": [
      "Common gene regressors for condition and trait ['ADCY3', 'POMC']\n"
     ]
    },
    {
     "data": {
      "text/plain": "LogisticRegression(penalty='l1', random_state=42, solver='liblinear')",
      "text/html": "<style>#sk-container-id-1 {color: black;}#sk-container-id-1 pre{padding: 0;}#sk-container-id-1 div.sk-toggleable {background-color: white;}#sk-container-id-1 label.sk-toggleable__label {cursor: pointer;display: block;width: 100%;margin-bottom: 0;padding: 0.3em;box-sizing: border-box;text-align: center;}#sk-container-id-1 label.sk-toggleable__label-arrow:before {content: \"▸\";float: left;margin-right: 0.25em;color: #696969;}#sk-container-id-1 label.sk-toggleable__label-arrow:hover:before {color: black;}#sk-container-id-1 div.sk-estimator:hover label.sk-toggleable__label-arrow:before {color: black;}#sk-container-id-1 div.sk-toggleable__content {max-height: 0;max-width: 0;overflow: hidden;text-align: left;background-color: #f0f8ff;}#sk-container-id-1 div.sk-toggleable__content pre {margin: 0.2em;color: black;border-radius: 0.25em;background-color: #f0f8ff;}#sk-container-id-1 input.sk-toggleable__control:checked~div.sk-toggleable__content {max-height: 200px;max-width: 100%;overflow: auto;}#sk-container-id-1 input.sk-toggleable__control:checked~label.sk-toggleable__label-arrow:before {content: \"▾\";}#sk-container-id-1 div.sk-estimator input.sk-toggleable__control:checked~label.sk-toggleable__label {background-color: #d4ebff;}#sk-container-id-1 div.sk-label input.sk-toggleable__control:checked~label.sk-toggleable__label {background-color: #d4ebff;}#sk-container-id-1 input.sk-hidden--visually {border: 0;clip: rect(1px 1px 1px 1px);clip: rect(1px, 1px, 1px, 1px);height: 1px;margin: -1px;overflow: hidden;padding: 0;position: absolute;width: 1px;}#sk-container-id-1 div.sk-estimator {font-family: monospace;background-color: #f0f8ff;border: 1px dotted black;border-radius: 0.25em;box-sizing: border-box;margin-bottom: 0.5em;}#sk-container-id-1 div.sk-estimator:hover {background-color: #d4ebff;}#sk-container-id-1 div.sk-parallel-item::after {content: \"\";width: 100%;border-bottom: 1px solid gray;flex-grow: 1;}#sk-container-id-1 div.sk-label:hover label.sk-toggleable__label {background-color: #d4ebff;}#sk-container-id-1 div.sk-serial::before {content: \"\";position: absolute;border-left: 1px solid gray;box-sizing: border-box;top: 0;bottom: 0;left: 50%;z-index: 0;}#sk-container-id-1 div.sk-serial {display: flex;flex-direction: column;align-items: center;background-color: white;padding-right: 0.2em;padding-left: 0.2em;position: relative;}#sk-container-id-1 div.sk-item {position: relative;z-index: 1;}#sk-container-id-1 div.sk-parallel {display: flex;align-items: stretch;justify-content: center;background-color: white;position: relative;}#sk-container-id-1 div.sk-item::before, #sk-container-id-1 div.sk-parallel-item::before {content: \"\";position: absolute;border-left: 1px solid gray;box-sizing: border-box;top: 0;bottom: 0;left: 50%;z-index: -1;}#sk-container-id-1 div.sk-parallel-item {display: flex;flex-direction: column;z-index: 1;position: relative;background-color: white;}#sk-container-id-1 div.sk-parallel-item:first-child::after {align-self: flex-end;width: 50%;}#sk-container-id-1 div.sk-parallel-item:last-child::after {align-self: flex-start;width: 50%;}#sk-container-id-1 div.sk-parallel-item:only-child::after {width: 0;}#sk-container-id-1 div.sk-dashed-wrapped {border: 1px dashed gray;margin: 0 0.4em 0.5em 0.4em;box-sizing: border-box;padding-bottom: 0.4em;background-color: white;}#sk-container-id-1 div.sk-label label {font-family: monospace;font-weight: bold;display: inline-block;line-height: 1.2em;}#sk-container-id-1 div.sk-label-container {text-align: center;}#sk-container-id-1 div.sk-container {/* jupyter's `normalize.less` sets `[hidden] { display: none; }` but bootstrap.min.css set `[hidden] { display: none !important; }` so we also need the `!important` here to be able to override the default hidden behavior on the sphinx rendered scikit-learn.org. See: https://github.com/scikit-learn/scikit-learn/issues/21755 */display: inline-block !important;position: relative;}#sk-container-id-1 div.sk-text-repr-fallback {display: none;}</style><div id=\"sk-container-id-1\" class=\"sk-top-container\"><div class=\"sk-text-repr-fallback\"><pre>LogisticRegression(penalty=&#x27;l1&#x27;, random_state=42, solver=&#x27;liblinear&#x27;)</pre><b>In a Jupyter environment, please rerun this cell to show the HTML representation or trust the notebook. <br />On GitHub, the HTML representation is unable to render, please try loading this page with nbviewer.org.</b></div><div class=\"sk-container\" hidden><div class=\"sk-item\"><div class=\"sk-estimator sk-toggleable\"><input class=\"sk-toggleable__control sk-hidden--visually\" id=\"sk-estimator-id-1\" type=\"checkbox\" checked><label for=\"sk-estimator-id-1\" class=\"sk-toggleable__label sk-toggleable__label-arrow\">LogisticRegression</label><div class=\"sk-toggleable__content\"><pre>LogisticRegression(penalty=&#x27;l1&#x27;, random_state=42, solver=&#x27;liblinear&#x27;)</pre></div></div></div></div></div>"
     },
     "execution_count": 37,
     "metadata": {},
     "output_type": "execute_result"
    }
   ]
  },
  {
   "cell_type": "markdown",
   "source": [
    "### 3.2. Predict the condition in traits"
   ],
   "metadata": {
    "id": "1hesV8D58VXW"
   }
  },
  {
   "cell_type": "code",
   "source": [
    "# Select relevant columns and convert to numpy array\n",
    "regressors_in_trait = trait_merged_data[gene_regressors_for_condition].values\n",
    "normalized_regressors_in_trait, _ = normalize_data(regressors_in_trait)\n",
    "predicted_condition = model.predict_proba(normalized_regressors_in_trait)[:, 1]"
   ],
   "metadata": {
    "id": "azEqAitI8uU_",
    "colab": {
     "base_uri": "https://localhost:8080/"
    },
    "outputId": "e569394f-81f3-4241-be3a-d1275b459985",
    "ExecuteTime": {
     "end_time": "2023-12-26T00:52:25.408804516Z",
     "start_time": "2023-12-26T00:52:25.395652326Z"
    }
   },
   "execution_count": 38,
   "outputs": []
  },
  {
   "cell_type": "code",
   "source": [
    "#Add the predicted condition to the gene data for trait\n",
    "#trait_merged_data.insert(0, CONDITION, predicted_condition)\n",
    "trait_merged_data[CONDITION] = predicted_condition\n",
    "trait_merged_data = trait_merged_data.drop(columns=gene_regressors_for_condition)\n",
    "trait_merged_data.head()"
   ],
   "metadata": {
    "id": "wmQdncstwUY1",
    "colab": {
     "base_uri": "https://localhost:8080/",
     "height": 392
    },
    "outputId": "166eb67a-25bd-411d-a71b-3d80fc416cb9",
    "ExecuteTime": {
     "end_time": "2023-12-26T00:52:25.474981167Z",
     "start_time": "2023-12-26T00:52:25.395690008Z"
    }
   },
   "execution_count": 39,
   "outputs": [
    {
     "data": {
      "text/plain": "                A1BG      A1CF       A2M     A2ML1    A4GALT     A4GNT  \\\nGSM6216198  0.498235  0.909286  0.803357  0.881167  0.454591  0.887167   \nGSM6216199  0.479765  0.900571  0.831571  0.874278  0.437136  0.895333   \nGSM6216200  0.490882  0.900000  0.814643  0.844056  0.437409  0.872500   \nGSM6216201  0.527765  0.900857  0.771929  0.903000  0.440500  0.804333   \nGSM6216202  0.485706  0.895857  0.776429  0.838000  0.438864  0.842500   \n\n              AAA1      AAAS      AACS    AADAC  ...      ZXDA    ZXDB  \\\nGSM6216198  0.9117  0.157538  0.706483  0.92025  ...  0.460750  0.5251   \nGSM6216199  0.9172  0.157769  0.702603  0.91275  ...  0.236667  0.2783   \nGSM6216200  0.9123  0.153846  0.703810  0.91425  ...  0.229333  0.3173   \nGSM6216201  0.8902  0.164000  0.725345  0.92125  ...  0.448167  0.6069   \nGSM6216202  0.8885  0.161385  0.705621  0.88225  ...  0.398750  0.4872   \n\n                ZXDC    ZYG11A    ZYG11B       ZYX     ZZEF1      ZZZ3  \\\nGSM6216198  0.332605  0.554000  0.519077  0.365947  0.522561  0.162056   \nGSM6216199  0.323442  0.559333  0.517308  0.375368  0.512585  0.139722   \nGSM6216200  0.331791  0.558600  0.508000  0.368316  0.517439  0.149056   \nGSM6216201  0.332116  0.560267  0.528846  0.317737  0.517293  0.157000   \nGSM6216202  0.325698  0.546733  0.519769  0.356000  0.514829  0.158444   \n\n            Epilepsy   Obesity  \nGSM6216198       1.0  0.672131  \nGSM6216199       1.0  0.690948  \nGSM6216200       1.0  0.671753  \nGSM6216201       1.0  0.697817  \nGSM6216202       1.0  0.695657  \n\n[5 rows x 17838 columns]",
      "text/html": "<div>\n<style scoped>\n    .dataframe tbody tr th:only-of-type {\n        vertical-align: middle;\n    }\n\n    .dataframe tbody tr th {\n        vertical-align: top;\n    }\n\n    .dataframe thead th {\n        text-align: right;\n    }\n</style>\n<table border=\"1\" class=\"dataframe\">\n  <thead>\n    <tr style=\"text-align: right;\">\n      <th></th>\n      <th>A1BG</th>\n      <th>A1CF</th>\n      <th>A2M</th>\n      <th>A2ML1</th>\n      <th>A4GALT</th>\n      <th>A4GNT</th>\n      <th>AAA1</th>\n      <th>AAAS</th>\n      <th>AACS</th>\n      <th>AADAC</th>\n      <th>...</th>\n      <th>ZXDA</th>\n      <th>ZXDB</th>\n      <th>ZXDC</th>\n      <th>ZYG11A</th>\n      <th>ZYG11B</th>\n      <th>ZYX</th>\n      <th>ZZEF1</th>\n      <th>ZZZ3</th>\n      <th>Epilepsy</th>\n      <th>Obesity</th>\n    </tr>\n  </thead>\n  <tbody>\n    <tr>\n      <th>GSM6216198</th>\n      <td>0.498235</td>\n      <td>0.909286</td>\n      <td>0.803357</td>\n      <td>0.881167</td>\n      <td>0.454591</td>\n      <td>0.887167</td>\n      <td>0.9117</td>\n      <td>0.157538</td>\n      <td>0.706483</td>\n      <td>0.92025</td>\n      <td>...</td>\n      <td>0.460750</td>\n      <td>0.5251</td>\n      <td>0.332605</td>\n      <td>0.554000</td>\n      <td>0.519077</td>\n      <td>0.365947</td>\n      <td>0.522561</td>\n      <td>0.162056</td>\n      <td>1.0</td>\n      <td>0.672131</td>\n    </tr>\n    <tr>\n      <th>GSM6216199</th>\n      <td>0.479765</td>\n      <td>0.900571</td>\n      <td>0.831571</td>\n      <td>0.874278</td>\n      <td>0.437136</td>\n      <td>0.895333</td>\n      <td>0.9172</td>\n      <td>0.157769</td>\n      <td>0.702603</td>\n      <td>0.91275</td>\n      <td>...</td>\n      <td>0.236667</td>\n      <td>0.2783</td>\n      <td>0.323442</td>\n      <td>0.559333</td>\n      <td>0.517308</td>\n      <td>0.375368</td>\n      <td>0.512585</td>\n      <td>0.139722</td>\n      <td>1.0</td>\n      <td>0.690948</td>\n    </tr>\n    <tr>\n      <th>GSM6216200</th>\n      <td>0.490882</td>\n      <td>0.900000</td>\n      <td>0.814643</td>\n      <td>0.844056</td>\n      <td>0.437409</td>\n      <td>0.872500</td>\n      <td>0.9123</td>\n      <td>0.153846</td>\n      <td>0.703810</td>\n      <td>0.91425</td>\n      <td>...</td>\n      <td>0.229333</td>\n      <td>0.3173</td>\n      <td>0.331791</td>\n      <td>0.558600</td>\n      <td>0.508000</td>\n      <td>0.368316</td>\n      <td>0.517439</td>\n      <td>0.149056</td>\n      <td>1.0</td>\n      <td>0.671753</td>\n    </tr>\n    <tr>\n      <th>GSM6216201</th>\n      <td>0.527765</td>\n      <td>0.900857</td>\n      <td>0.771929</td>\n      <td>0.903000</td>\n      <td>0.440500</td>\n      <td>0.804333</td>\n      <td>0.8902</td>\n      <td>0.164000</td>\n      <td>0.725345</td>\n      <td>0.92125</td>\n      <td>...</td>\n      <td>0.448167</td>\n      <td>0.6069</td>\n      <td>0.332116</td>\n      <td>0.560267</td>\n      <td>0.528846</td>\n      <td>0.317737</td>\n      <td>0.517293</td>\n      <td>0.157000</td>\n      <td>1.0</td>\n      <td>0.697817</td>\n    </tr>\n    <tr>\n      <th>GSM6216202</th>\n      <td>0.485706</td>\n      <td>0.895857</td>\n      <td>0.776429</td>\n      <td>0.838000</td>\n      <td>0.438864</td>\n      <td>0.842500</td>\n      <td>0.8885</td>\n      <td>0.161385</td>\n      <td>0.705621</td>\n      <td>0.88225</td>\n      <td>...</td>\n      <td>0.398750</td>\n      <td>0.4872</td>\n      <td>0.325698</td>\n      <td>0.546733</td>\n      <td>0.519769</td>\n      <td>0.356000</td>\n      <td>0.514829</td>\n      <td>0.158444</td>\n      <td>1.0</td>\n      <td>0.695657</td>\n    </tr>\n  </tbody>\n</table>\n<p>5 rows × 17838 columns</p>\n</div>"
     },
     "execution_count": 39,
     "metadata": {},
     "output_type": "execute_result"
    }
   ]
  },
  {
   "cell_type": "markdown",
   "source": [
    "# 4. The Second Stage Regression Analysis"
   ],
   "metadata": {
    "collapsed": false
   }
  },
  {
   "cell_type": "code",
   "execution_count": 40,
   "outputs": [],
   "source": [
    "trait_feature_cols = trait_merged_data.columns.tolist()\n",
    "trait_feature_cols.remove(TRAIT)"
   ],
   "metadata": {
    "collapsed": false,
    "ExecuteTime": {
     "end_time": "2023-12-26T00:52:25.475091488Z",
     "start_time": "2023-12-26T00:52:25.439416242Z"
    }
   }
  },
  {
   "cell_type": "code",
   "source": [
    "# Select relevant columns and convert to numpy array\n",
    "X_trait = trait_merged_data.drop(columns=[TRAIT]).values\n",
    "y_trait = trait_merged_data[TRAIT].values\n",
    "cv_mean, cv_std = cross_validation_with_lmm(X_trait, y_trait)\n",
    "print(f'The cross-validation accuracy is {(cv_mean * 100):.2f}% ± {(cv_std * 100):.2f}%')"
   ],
   "metadata": {
    "id": "qspA7f_RT04v",
    "colab": {
     "base_uri": "https://localhost:8080/"
    },
    "outputId": "da2e3475-d538-4bc3-873c-edfde5b275f5",
    "ExecuteTime": {
     "end_time": "2023-12-26T00:52:36.767403559Z",
     "start_time": "2023-12-26T00:52:25.439497337Z"
    }
   },
   "execution_count": 41,
   "outputs": [
    {
     "name": "stdout",
     "output_type": "stream",
     "text": [
      "The cross-validation accuracy is 57.78% ± 4.44%\n"
     ]
    }
   ]
  },
  {
   "cell_type": "code",
   "source": [
    "trait_merged_data"
   ],
   "metadata": {
    "colab": {
     "base_uri": "https://localhost:8080/",
     "height": 392
    },
    "id": "hhOazoiTuFqp",
    "outputId": "299b41cf-717b-4b7e-e6a5-dcd770075972",
    "ExecuteTime": {
     "end_time": "2023-12-26T00:52:36.768956386Z",
     "start_time": "2023-12-26T00:52:36.767537254Z"
    }
   },
   "execution_count": 42,
   "outputs": [
    {
     "data": {
      "text/plain": "                A1BG      A1CF       A2M     A2ML1    A4GALT     A4GNT  \\\nGSM6216198  0.498235  0.909286  0.803357  0.881167  0.454591  0.887167   \nGSM6216199  0.479765  0.900571  0.831571  0.874278  0.437136  0.895333   \nGSM6216200  0.490882  0.900000  0.814643  0.844056  0.437409  0.872500   \nGSM6216201  0.527765  0.900857  0.771929  0.903000  0.440500  0.804333   \nGSM6216202  0.485706  0.895857  0.776429  0.838000  0.438864  0.842500   \nGSM6216203  0.464529  0.896857  0.788929  0.863778  0.444364  0.863500   \nGSM6216204  0.543765  0.905286  0.796500  0.889667  0.452727  0.876833   \nGSM6216205  0.530529  0.895000  0.821571  0.890611  0.449409  0.875167   \nGSM6216206  0.541882  0.920143  0.805357  0.851278  0.459182  0.860833   \nGSM6216207  0.558471  0.877429  0.852857  0.864000  0.434091  0.912667   \nGSM6216208  0.476412  0.923143  0.802286  0.875444  0.458727  0.859500   \nGSM6216209  0.501294  0.889286  0.829857  0.853667  0.458227  0.878167   \nGSM6216210  0.538529  0.901143  0.840714  0.884611  0.448136  0.886333   \nGSM6216211  0.491588  0.911286  0.809357  0.887444  0.454500  0.877667   \nGSM6216212  0.561706  0.924571  0.828786  0.905944  0.456045  0.863667   \n\n              AAA1      AAAS      AACS    AADAC  ...      ZXDA    ZXDB  \\\nGSM6216198  0.9117  0.157538  0.706483  0.92025  ...  0.460750  0.5251   \nGSM6216199  0.9172  0.157769  0.702603  0.91275  ...  0.236667  0.2783   \nGSM6216200  0.9123  0.153846  0.703810  0.91425  ...  0.229333  0.3173   \nGSM6216201  0.8902  0.164000  0.725345  0.92125  ...  0.448167  0.6069   \nGSM6216202  0.8885  0.161385  0.705621  0.88225  ...  0.398750  0.4872   \nGSM6216203  0.9017  0.153462  0.685948  0.92375  ...  0.239417  0.2949   \nGSM6216204  0.9155  0.175077  0.650776  0.94700  ...  0.435333  0.4943   \nGSM6216205  0.9178  0.157308  0.665466  0.92750  ...  0.243833  0.2748   \nGSM6216206  0.9167  0.158615  0.658121  0.91650  ...  0.461500  0.5138   \nGSM6216207  0.9123  0.156769  0.709310  0.92175  ...  0.257000  0.2312   \nGSM6216208  0.9000  0.172077  0.629362  0.89600  ...  0.253833  0.3280   \nGSM6216209  0.9207  0.172769  0.672690  0.92000  ...  0.271667  0.3379   \nGSM6216210  0.9113  0.162385  0.682259  0.93100  ...  0.267750  0.2945   \nGSM6216211  0.9149  0.164000  0.674810  0.91800  ...  0.260333  0.3454   \nGSM6216212  0.9242  0.177308  0.671328  0.92550  ...  0.288667  0.3608   \n\n                ZXDC    ZYG11A    ZYG11B       ZYX     ZZEF1      ZZZ3  \\\nGSM6216198  0.332605  0.554000  0.519077  0.365947  0.522561  0.162056   \nGSM6216199  0.323442  0.559333  0.517308  0.375368  0.512585  0.139722   \nGSM6216200  0.331791  0.558600  0.508000  0.368316  0.517439  0.149056   \nGSM6216201  0.332116  0.560267  0.528846  0.317737  0.517293  0.157000   \nGSM6216202  0.325698  0.546733  0.519769  0.356000  0.514829  0.158444   \nGSM6216203  0.322256  0.548467  0.514000  0.364158  0.513976  0.133444   \nGSM6216204  0.327953  0.554667  0.507000  0.332474  0.512585  0.152444   \nGSM6216205  0.323163  0.553467  0.500308  0.347474  0.516390  0.150389   \nGSM6216206  0.336093  0.566867  0.526615  0.327684  0.525683  0.160889   \nGSM6216207  0.346721  0.576800  0.506615  0.386579  0.515854  0.128111   \nGSM6216208  0.325977  0.561333  0.500000  0.337632  0.508488  0.168667   \nGSM6216209  0.310116  0.564667  0.505538  0.343053  0.518878  0.151000   \nGSM6216210  0.330674  0.551600  0.495692  0.359895  0.521488  0.143611   \nGSM6216211  0.344326  0.561067  0.513385  0.356947  0.514780  0.143611   \nGSM6216212  0.336767  0.544867  0.528462  0.332947  0.520976  0.155500   \n\n            Epilepsy   Obesity  \nGSM6216198       1.0  0.672131  \nGSM6216199       1.0  0.690948  \nGSM6216200       1.0  0.671753  \nGSM6216201       1.0  0.697817  \nGSM6216202       1.0  0.695657  \nGSM6216203       1.0  0.750267  \nGSM6216204       0.0  0.497299  \nGSM6216205       0.0  0.534364  \nGSM6216206       0.0  0.496767  \nGSM6216207       0.0  0.637628  \nGSM6216208       0.0  0.517163  \nGSM6216209       0.0  0.563605  \nGSM6216210       0.0  0.564268  \nGSM6216211       0.0  0.498031  \nGSM6216212       0.0  0.545017  \n\n[15 rows x 17838 columns]",
      "text/html": "<div>\n<style scoped>\n    .dataframe tbody tr th:only-of-type {\n        vertical-align: middle;\n    }\n\n    .dataframe tbody tr th {\n        vertical-align: top;\n    }\n\n    .dataframe thead th {\n        text-align: right;\n    }\n</style>\n<table border=\"1\" class=\"dataframe\">\n  <thead>\n    <tr style=\"text-align: right;\">\n      <th></th>\n      <th>A1BG</th>\n      <th>A1CF</th>\n      <th>A2M</th>\n      <th>A2ML1</th>\n      <th>A4GALT</th>\n      <th>A4GNT</th>\n      <th>AAA1</th>\n      <th>AAAS</th>\n      <th>AACS</th>\n      <th>AADAC</th>\n      <th>...</th>\n      <th>ZXDA</th>\n      <th>ZXDB</th>\n      <th>ZXDC</th>\n      <th>ZYG11A</th>\n      <th>ZYG11B</th>\n      <th>ZYX</th>\n      <th>ZZEF1</th>\n      <th>ZZZ3</th>\n      <th>Epilepsy</th>\n      <th>Obesity</th>\n    </tr>\n  </thead>\n  <tbody>\n    <tr>\n      <th>GSM6216198</th>\n      <td>0.498235</td>\n      <td>0.909286</td>\n      <td>0.803357</td>\n      <td>0.881167</td>\n      <td>0.454591</td>\n      <td>0.887167</td>\n      <td>0.9117</td>\n      <td>0.157538</td>\n      <td>0.706483</td>\n      <td>0.92025</td>\n      <td>...</td>\n      <td>0.460750</td>\n      <td>0.5251</td>\n      <td>0.332605</td>\n      <td>0.554000</td>\n      <td>0.519077</td>\n      <td>0.365947</td>\n      <td>0.522561</td>\n      <td>0.162056</td>\n      <td>1.0</td>\n      <td>0.672131</td>\n    </tr>\n    <tr>\n      <th>GSM6216199</th>\n      <td>0.479765</td>\n      <td>0.900571</td>\n      <td>0.831571</td>\n      <td>0.874278</td>\n      <td>0.437136</td>\n      <td>0.895333</td>\n      <td>0.9172</td>\n      <td>0.157769</td>\n      <td>0.702603</td>\n      <td>0.91275</td>\n      <td>...</td>\n      <td>0.236667</td>\n      <td>0.2783</td>\n      <td>0.323442</td>\n      <td>0.559333</td>\n      <td>0.517308</td>\n      <td>0.375368</td>\n      <td>0.512585</td>\n      <td>0.139722</td>\n      <td>1.0</td>\n      <td>0.690948</td>\n    </tr>\n    <tr>\n      <th>GSM6216200</th>\n      <td>0.490882</td>\n      <td>0.900000</td>\n      <td>0.814643</td>\n      <td>0.844056</td>\n      <td>0.437409</td>\n      <td>0.872500</td>\n      <td>0.9123</td>\n      <td>0.153846</td>\n      <td>0.703810</td>\n      <td>0.91425</td>\n      <td>...</td>\n      <td>0.229333</td>\n      <td>0.3173</td>\n      <td>0.331791</td>\n      <td>0.558600</td>\n      <td>0.508000</td>\n      <td>0.368316</td>\n      <td>0.517439</td>\n      <td>0.149056</td>\n      <td>1.0</td>\n      <td>0.671753</td>\n    </tr>\n    <tr>\n      <th>GSM6216201</th>\n      <td>0.527765</td>\n      <td>0.900857</td>\n      <td>0.771929</td>\n      <td>0.903000</td>\n      <td>0.440500</td>\n      <td>0.804333</td>\n      <td>0.8902</td>\n      <td>0.164000</td>\n      <td>0.725345</td>\n      <td>0.92125</td>\n      <td>...</td>\n      <td>0.448167</td>\n      <td>0.6069</td>\n      <td>0.332116</td>\n      <td>0.560267</td>\n      <td>0.528846</td>\n      <td>0.317737</td>\n      <td>0.517293</td>\n      <td>0.157000</td>\n      <td>1.0</td>\n      <td>0.697817</td>\n    </tr>\n    <tr>\n      <th>GSM6216202</th>\n      <td>0.485706</td>\n      <td>0.895857</td>\n      <td>0.776429</td>\n      <td>0.838000</td>\n      <td>0.438864</td>\n      <td>0.842500</td>\n      <td>0.8885</td>\n      <td>0.161385</td>\n      <td>0.705621</td>\n      <td>0.88225</td>\n      <td>...</td>\n      <td>0.398750</td>\n      <td>0.4872</td>\n      <td>0.325698</td>\n      <td>0.546733</td>\n      <td>0.519769</td>\n      <td>0.356000</td>\n      <td>0.514829</td>\n      <td>0.158444</td>\n      <td>1.0</td>\n      <td>0.695657</td>\n    </tr>\n    <tr>\n      <th>GSM6216203</th>\n      <td>0.464529</td>\n      <td>0.896857</td>\n      <td>0.788929</td>\n      <td>0.863778</td>\n      <td>0.444364</td>\n      <td>0.863500</td>\n      <td>0.9017</td>\n      <td>0.153462</td>\n      <td>0.685948</td>\n      <td>0.92375</td>\n      <td>...</td>\n      <td>0.239417</td>\n      <td>0.2949</td>\n      <td>0.322256</td>\n      <td>0.548467</td>\n      <td>0.514000</td>\n      <td>0.364158</td>\n      <td>0.513976</td>\n      <td>0.133444</td>\n      <td>1.0</td>\n      <td>0.750267</td>\n    </tr>\n    <tr>\n      <th>GSM6216204</th>\n      <td>0.543765</td>\n      <td>0.905286</td>\n      <td>0.796500</td>\n      <td>0.889667</td>\n      <td>0.452727</td>\n      <td>0.876833</td>\n      <td>0.9155</td>\n      <td>0.175077</td>\n      <td>0.650776</td>\n      <td>0.94700</td>\n      <td>...</td>\n      <td>0.435333</td>\n      <td>0.4943</td>\n      <td>0.327953</td>\n      <td>0.554667</td>\n      <td>0.507000</td>\n      <td>0.332474</td>\n      <td>0.512585</td>\n      <td>0.152444</td>\n      <td>0.0</td>\n      <td>0.497299</td>\n    </tr>\n    <tr>\n      <th>GSM6216205</th>\n      <td>0.530529</td>\n      <td>0.895000</td>\n      <td>0.821571</td>\n      <td>0.890611</td>\n      <td>0.449409</td>\n      <td>0.875167</td>\n      <td>0.9178</td>\n      <td>0.157308</td>\n      <td>0.665466</td>\n      <td>0.92750</td>\n      <td>...</td>\n      <td>0.243833</td>\n      <td>0.2748</td>\n      <td>0.323163</td>\n      <td>0.553467</td>\n      <td>0.500308</td>\n      <td>0.347474</td>\n      <td>0.516390</td>\n      <td>0.150389</td>\n      <td>0.0</td>\n      <td>0.534364</td>\n    </tr>\n    <tr>\n      <th>GSM6216206</th>\n      <td>0.541882</td>\n      <td>0.920143</td>\n      <td>0.805357</td>\n      <td>0.851278</td>\n      <td>0.459182</td>\n      <td>0.860833</td>\n      <td>0.9167</td>\n      <td>0.158615</td>\n      <td>0.658121</td>\n      <td>0.91650</td>\n      <td>...</td>\n      <td>0.461500</td>\n      <td>0.5138</td>\n      <td>0.336093</td>\n      <td>0.566867</td>\n      <td>0.526615</td>\n      <td>0.327684</td>\n      <td>0.525683</td>\n      <td>0.160889</td>\n      <td>0.0</td>\n      <td>0.496767</td>\n    </tr>\n    <tr>\n      <th>GSM6216207</th>\n      <td>0.558471</td>\n      <td>0.877429</td>\n      <td>0.852857</td>\n      <td>0.864000</td>\n      <td>0.434091</td>\n      <td>0.912667</td>\n      <td>0.9123</td>\n      <td>0.156769</td>\n      <td>0.709310</td>\n      <td>0.92175</td>\n      <td>...</td>\n      <td>0.257000</td>\n      <td>0.2312</td>\n      <td>0.346721</td>\n      <td>0.576800</td>\n      <td>0.506615</td>\n      <td>0.386579</td>\n      <td>0.515854</td>\n      <td>0.128111</td>\n      <td>0.0</td>\n      <td>0.637628</td>\n    </tr>\n    <tr>\n      <th>GSM6216208</th>\n      <td>0.476412</td>\n      <td>0.923143</td>\n      <td>0.802286</td>\n      <td>0.875444</td>\n      <td>0.458727</td>\n      <td>0.859500</td>\n      <td>0.9000</td>\n      <td>0.172077</td>\n      <td>0.629362</td>\n      <td>0.89600</td>\n      <td>...</td>\n      <td>0.253833</td>\n      <td>0.3280</td>\n      <td>0.325977</td>\n      <td>0.561333</td>\n      <td>0.500000</td>\n      <td>0.337632</td>\n      <td>0.508488</td>\n      <td>0.168667</td>\n      <td>0.0</td>\n      <td>0.517163</td>\n    </tr>\n    <tr>\n      <th>GSM6216209</th>\n      <td>0.501294</td>\n      <td>0.889286</td>\n      <td>0.829857</td>\n      <td>0.853667</td>\n      <td>0.458227</td>\n      <td>0.878167</td>\n      <td>0.9207</td>\n      <td>0.172769</td>\n      <td>0.672690</td>\n      <td>0.92000</td>\n      <td>...</td>\n      <td>0.271667</td>\n      <td>0.3379</td>\n      <td>0.310116</td>\n      <td>0.564667</td>\n      <td>0.505538</td>\n      <td>0.343053</td>\n      <td>0.518878</td>\n      <td>0.151000</td>\n      <td>0.0</td>\n      <td>0.563605</td>\n    </tr>\n    <tr>\n      <th>GSM6216210</th>\n      <td>0.538529</td>\n      <td>0.901143</td>\n      <td>0.840714</td>\n      <td>0.884611</td>\n      <td>0.448136</td>\n      <td>0.886333</td>\n      <td>0.9113</td>\n      <td>0.162385</td>\n      <td>0.682259</td>\n      <td>0.93100</td>\n      <td>...</td>\n      <td>0.267750</td>\n      <td>0.2945</td>\n      <td>0.330674</td>\n      <td>0.551600</td>\n      <td>0.495692</td>\n      <td>0.359895</td>\n      <td>0.521488</td>\n      <td>0.143611</td>\n      <td>0.0</td>\n      <td>0.564268</td>\n    </tr>\n    <tr>\n      <th>GSM6216211</th>\n      <td>0.491588</td>\n      <td>0.911286</td>\n      <td>0.809357</td>\n      <td>0.887444</td>\n      <td>0.454500</td>\n      <td>0.877667</td>\n      <td>0.9149</td>\n      <td>0.164000</td>\n      <td>0.674810</td>\n      <td>0.91800</td>\n      <td>...</td>\n      <td>0.260333</td>\n      <td>0.3454</td>\n      <td>0.344326</td>\n      <td>0.561067</td>\n      <td>0.513385</td>\n      <td>0.356947</td>\n      <td>0.514780</td>\n      <td>0.143611</td>\n      <td>0.0</td>\n      <td>0.498031</td>\n    </tr>\n    <tr>\n      <th>GSM6216212</th>\n      <td>0.561706</td>\n      <td>0.924571</td>\n      <td>0.828786</td>\n      <td>0.905944</td>\n      <td>0.456045</td>\n      <td>0.863667</td>\n      <td>0.9242</td>\n      <td>0.177308</td>\n      <td>0.671328</td>\n      <td>0.92550</td>\n      <td>...</td>\n      <td>0.288667</td>\n      <td>0.3608</td>\n      <td>0.336767</td>\n      <td>0.544867</td>\n      <td>0.528462</td>\n      <td>0.332947</td>\n      <td>0.520976</td>\n      <td>0.155500</td>\n      <td>0.0</td>\n      <td>0.545017</td>\n    </tr>\n  </tbody>\n</table>\n<p>15 rows × 17838 columns</p>\n</div>"
     },
     "execution_count": 42,
     "metadata": {},
     "output_type": "execute_result"
    }
   ]
  },
  {
   "cell_type": "code",
   "source": [
    "# Conduct regression on the whole dataset\n",
    "model = VariableSelection()\n",
    "\n",
    "normalized_X_trait, _ = normalize_data(X_trait)\n",
    "model.fit(normalized_X_trait, y_trait)"
   ],
   "metadata": {
    "id": "44M-oojOUWvE",
    "ExecuteTime": {
     "end_time": "2023-12-26T00:52:39.113151829Z",
     "start_time": "2023-12-26T00:52:36.767729852Z"
    }
   },
   "execution_count": 43,
   "outputs": []
  },
  {
   "cell_type": "markdown",
   "source": [
    "## 5. Report results"
   ],
   "metadata": {
    "id": "g74qlNVPU-k1"
   }
  },
  {
   "cell_type": "code",
   "execution_count": 44,
   "outputs": [
    {
     "name": "stdout",
     "output_type": "stream",
     "text": [
      "Effect of the condition on the target variable:\n",
      "Variable: Obesity\n",
      "Coefficient: 0.4383\n",
      "p-value: 0.0003098\n",
      "\n",
      "Found 8 significant genes affecting the trait 'Epilepsy' conditional on the factor 'Obesity', with corrected p-value < 0.05:\n",
      "Variable  Coefficient  corrected_p_value\n",
      "    IRX2     0.332506           0.031522\n",
      "   DHRS3    -0.466792           0.034699\n",
      "    EDN1    -0.453385           0.034699\n",
      "   FGFR3    -0.455604           0.034699\n",
      "  MRGPRE    -0.432295           0.034699\n",
      "  STEAP4    -0.500208           0.034699\n",
      "  FKBP10    -0.467017           0.040775\n",
      "    TBR1     0.401915           0.045670\n"
     ]
    },
    {
     "name": "stderr",
     "output_type": "stream",
     "text": [
      "/media/techt/One Touch/Gold-Standard-Pipeline-Guide/utils.py:317: SettingWithCopyWarning: \n",
      "A value is trying to be set on a copy of a slice from a DataFrame.\n",
      "Try using .loc[row_indexer,col_indexer] = value instead\n",
      "\n",
      "See the caveats in the documentation: https://pandas.pydata.org/pandas-docs/stable/user_guide/indexing.html#returning-a-view-versus-a-copy\n",
      "  gene_regression_df.loc[:, 'corrected_p_value'] = corrected_p_values\n"
     ]
    }
   ],
   "source": [
    "report_result_from_lmm(model, trait_feature_cols, TRAIT, CONDITION, threshold=0.05, save_output=True, output_dir='./output')"
   ],
   "metadata": {
    "collapsed": false,
    "ExecuteTime": {
     "end_time": "2023-12-26T00:52:39.159626245Z",
     "start_time": "2023-12-26T00:52:39.118792798Z"
    }
   }
  },
  {
   "cell_type": "code",
   "execution_count": 44,
   "outputs": [],
   "source": [],
   "metadata": {
    "collapsed": false,
    "ExecuteTime": {
     "end_time": "2023-12-26T00:52:39.159716558Z",
     "start_time": "2023-12-26T00:52:39.159495626Z"
    }
   }
  }
 ],
 "metadata": {
  "colab": {
   "provenance": []
  },
  "kernelspec": {
   "name": "python3",
   "language": "python",
   "display_name": "Python 3 (ipykernel)"
  },
  "language_info": {
   "name": "python"
  }
 },
 "nbformat": 4,
 "nbformat_minor": 0
}
