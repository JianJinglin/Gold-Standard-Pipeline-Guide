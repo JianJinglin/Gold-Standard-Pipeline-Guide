{
 "cells": [
  {
   "cell_type": "markdown",
   "source": [],
   "metadata": {
    "id": "f4BBvIFlDTn4"
   }
  },
  {
   "cell_type": "code",
   "execution_count": 1,
   "outputs": [
    {
     "name": "stdout",
     "output_type": "stream",
     "text": [
      "Studied question: What are the genetic factors related to Epilepsy when considering the influence of Obesity?\n"
     ]
    }
   ],
   "source": [
    "TRAIT = \"Epilepsy\"\n",
    "CONDITION = 'Obesity'\n",
    "QUESTION = f'What are the genetic factors related to {TRAIT} when considering the influence of {CONDITION}?'\n",
    "print(f\"Studied question: {QUESTION}\")\n",
    "\n",
    "NORMALIZE_GENE = False"
   ],
   "metadata": {
    "collapsed": false,
    "ExecuteTime": {
     "end_time": "2023-12-25T20:26:25.140705939Z",
     "start_time": "2023-12-25T20:26:24.799378716Z"
    }
   }
  },
  {
   "cell_type": "markdown",
   "source": [
    "# Introduction\n",
    "\n",
    "In this question, we cannot collect data about both the trait (Epilepsy) and the condition (Obesity) from the same individuals. This is often the case in reality, where the condition is essentially another trait with available data from a different cohort, which cannot be simply merged with the trait dataset. This file is an example of doing two-stage regression analysis to answer the question in such scenarios.\n",
    "\n",
    "## Two-stage Regression Analysis\n",
    "This approach involves two steps to investigate the relationship among the trait, the condition, and the genes. Before doing the analysis, we need to prepare a gene expression dataset about the condition and the trait respectively.\n",
    "\n",
    "In the first stage, we use the condition dataset to regress the condition on a few important genes, which are considered as \"indicator genes\". To choose the indicator genes, we query the OMIM database to get candidate genes that are found related to the condition according to biomedical knowledge, and preserve the candicate genes that exist in both the condition dataset and the trait dataset. If such genes exist, they serve as the \"bridge\" between the two datasets, making the two-stage regression possible. We can regress the condition on those genes in the condition dataset, and use the trained regression model to predict the condition on the trait dataset. This results in an augmented dataset with both trait and condition information from the same individuals.\n",
    "\n",
    "\n",
    "In the second stage, we can directly conduct regression on the augmented trait dataset to explore the relationship between the genes, trait, and condition. Note that since the condition values were predicted from the indicator genes, and we include the condition as a regressor now, we need to exclude the indictor genes from the regressors in this stage to prevent co-linearity.\n"
   ],
   "metadata": {
    "collapsed": false
   }
  },
  {
   "cell_type": "markdown",
   "source": [
    "# 1. Preparation"
   ],
   "metadata": {
    "collapsed": false
   }
  },
  {
   "cell_type": "markdown",
   "source": [
    "## 1.1. GEO Data Download"
   ],
   "metadata": {
    "collapsed": false
   }
  },
  {
   "cell_type": "markdown",
   "source": [
    "## 1.2. Basic setups"
   ],
   "metadata": {
    "collapsed": false
   }
  },
  {
   "cell_type": "code",
   "execution_count": 2,
   "metadata": {
    "colab": {
     "base_uri": "https://localhost:8080/"
    },
    "id": "RfZyGy24gG1e",
    "outputId": "19099e6d-e949-4a85-b731-53af1efe8d4d",
    "ExecuteTime": {
     "end_time": "2023-12-25T20:26:25.141018361Z",
     "start_time": "2023-12-25T20:26:24.799497868Z"
    }
   },
   "outputs": [
    {
     "data": {
      "text/plain": "\"import os\\nfrom google.colab import drive\\n\\ndrive.mount('/content/drive', force_remount=True)\\nproj_dir = '/content/drive/MyDrive/AI4Science_Public'\\nos.chdir(proj_dir)\""
     },
     "execution_count": 2,
     "metadata": {},
     "output_type": "execute_result"
    }
   ],
   "source": [
    "# This cell is only for use on Google Colab. Skip it if you run your code in other environments\n",
    "\n",
    "\"\"\"import os\n",
    "from google.colab import drive\n",
    "\n",
    "drive.mount('/content/drive', force_remount=True)\n",
    "proj_dir = '/content/drive/MyDrive/AI4Science_Public'\n",
    "os.chdir(proj_dir)\"\"\""
   ]
  },
  {
   "cell_type": "code",
   "source": [
    "import os\n",
    "from utils import *\n",
    "\n",
    "# data_root = './data'\n",
    "data_root = '/media/techt/DATA'\n",
    "dataset = 'GEO'\n",
    "trait_subdir = \"Epilepsy\"\n",
    "condition_subdir = \"Obesity\"\n",
    "trait_accession_num = \"GSE205661\"\n",
    "condition_accession_num = \"GSE181339\"\n",
    "output_dir = './output'\n",
    "\n",
    "trait_cohort_dir = os.path.join(data_root, dataset, trait_subdir, trait_accession_num)\n",
    "condition_cohort_dir = os.path.join(data_root, dataset, condition_subdir, condition_accession_num)"
   ],
   "metadata": {
    "id": "talksi0WITUr",
    "ExecuteTime": {
     "end_time": "2023-12-25T20:26:25.436135975Z",
     "start_time": "2023-12-25T20:26:24.799572207Z"
    }
   },
   "execution_count": 3,
   "outputs": []
  },
  {
   "cell_type": "code",
   "execution_count": 4,
   "outputs": [],
   "source": [
    "trait_soft_file, trait_matrix_file = get_relevant_filepaths(trait_cohort_dir)\n",
    "condition_soft_file, condition_matrix_file = get_relevant_filepaths(condition_cohort_dir)"
   ],
   "metadata": {
    "collapsed": false,
    "ExecuteTime": {
     "end_time": "2023-12-25T20:26:25.479428751Z",
     "start_time": "2023-12-25T20:26:25.437360256Z"
    }
   }
  },
  {
   "cell_type": "code",
   "execution_count": 5,
   "outputs": [
    {
     "data": {
      "text/plain": "('/media/techt/DATA/GEO/Epilepsy/GSE205661/GSE205661_family.soft.gz',\n '/media/techt/DATA/GEO/Epilepsy/GSE205661/GSE205661-GPL13534_series_matrix.txt.gz')"
     },
     "execution_count": 5,
     "metadata": {},
     "output_type": "execute_result"
    }
   ],
   "source": [
    "trait_soft_file, trait_matrix_file"
   ],
   "metadata": {
    "collapsed": false,
    "ExecuteTime": {
     "end_time": "2023-12-25T20:26:25.482033743Z",
     "start_time": "2023-12-25T20:26:25.479583148Z"
    }
   }
  },
  {
   "cell_type": "markdown",
   "source": [
    "# 2. Gene Data Preparation"
   ],
   "metadata": {
    "collapsed": false
   }
  },
  {
   "cell_type": "markdown",
   "source": [
    "## 2.1. Gene Data for Condition"
   ],
   "metadata": {
    "id": "FNgCLSRVJYrn"
   }
  },
  {
   "cell_type": "code",
   "execution_count": 6,
   "outputs": [],
   "source": [
    "condition_gene_annotation = get_gene_annotation(condition_soft_file)"
   ],
   "metadata": {
    "collapsed": false,
    "ExecuteTime": {
     "end_time": "2023-12-25T20:26:29.108598908Z",
     "start_time": "2023-12-25T20:26:25.479670882Z"
    }
   }
  },
  {
   "cell_type": "code",
   "execution_count": 7,
   "outputs": [
    {
     "data": {
      "text/plain": "  ID  COL    ROW             NAME          SPOT_ID CONTROL_TYPE        REFSEQ  \\\n0  1  192  328.0  GE_BrightCorner  GE_BrightCorner          pos           NaN   \n1  2  192  326.0       DarkCorner       DarkCorner          pos           NaN   \n2  3  192  324.0       DarkCorner       DarkCorner          pos           NaN   \n3  4  192  322.0    A_21_P0014386    A_21_P0014386        FALSE           NaN   \n4  5  192  320.0    A_33_P3396872    A_33_P3396872        FALSE  NM_001105533   \n\n         GB_ACC  LOCUSLINK_ID GENE_SYMBOL  ... UNIGENE_ID ENSEMBL_ID TIGR_ID  \\\n0           NaN           NaN         NaN  ...        NaN        NaN     NaN   \n1           NaN           NaN         NaN  ...        NaN        NaN     NaN   \n2           NaN           NaN         NaN  ...        NaN        NaN     NaN   \n3           NaN           NaN         NaN  ...        NaN        NaN     NaN   \n4  NM_001105533       79974.0       CPED1  ...  Hs.189652        NaN     NaN   \n\n                                    ACCESSION_STRING  \\\n0                                                NaN   \n1                                                NaN   \n2                                                NaN   \n3                                                NaN   \n4  ref|NM_001105533|gb|AK025639|gb|BC030538|tc|TH...   \n\n       CHROMOSOMAL_LOCATION    CYTOBAND  \\\n0                       NaN         NaN   \n1                       NaN         NaN   \n2                       NaN         NaN   \n3                  unmapped         NaN   \n4  chr7:120901888-120901947  hs|7q31.31   \n\n                                         DESCRIPTION  \\\n0                                                NaN   \n1                                                NaN   \n2                                                NaN   \n3                                                NaN   \n4  Homo sapiens cadherin-like and PC-esterase dom...   \n\n                               GO_ID  \\\n0                                NaN   \n1                                NaN   \n2                                NaN   \n3                                NaN   \n4  GO:0005783(endoplasmic reticulum)   \n\n                                            SEQUENCE SPOT_ID.1  \n0                                                NaN       NaN  \n1                                                NaN       NaN  \n2                                                NaN       NaN  \n3  AATACATGTTTTGGTAAACACTCGGTCAGAGCACCCTCTTTCTGTG...       NaN  \n4  GCTTATCTCACCTAATACAGGGACTATGCAACCAAGAAACTGGAAA...       NaN  \n\n[5 rows x 21 columns]",
      "text/html": "<div>\n<style scoped>\n    .dataframe tbody tr th:only-of-type {\n        vertical-align: middle;\n    }\n\n    .dataframe tbody tr th {\n        vertical-align: top;\n    }\n\n    .dataframe thead th {\n        text-align: right;\n    }\n</style>\n<table border=\"1\" class=\"dataframe\">\n  <thead>\n    <tr style=\"text-align: right;\">\n      <th></th>\n      <th>ID</th>\n      <th>COL</th>\n      <th>ROW</th>\n      <th>NAME</th>\n      <th>SPOT_ID</th>\n      <th>CONTROL_TYPE</th>\n      <th>REFSEQ</th>\n      <th>GB_ACC</th>\n      <th>LOCUSLINK_ID</th>\n      <th>GENE_SYMBOL</th>\n      <th>...</th>\n      <th>UNIGENE_ID</th>\n      <th>ENSEMBL_ID</th>\n      <th>TIGR_ID</th>\n      <th>ACCESSION_STRING</th>\n      <th>CHROMOSOMAL_LOCATION</th>\n      <th>CYTOBAND</th>\n      <th>DESCRIPTION</th>\n      <th>GO_ID</th>\n      <th>SEQUENCE</th>\n      <th>SPOT_ID.1</th>\n    </tr>\n  </thead>\n  <tbody>\n    <tr>\n      <th>0</th>\n      <td>1</td>\n      <td>192</td>\n      <td>328.0</td>\n      <td>GE_BrightCorner</td>\n      <td>GE_BrightCorner</td>\n      <td>pos</td>\n      <td>NaN</td>\n      <td>NaN</td>\n      <td>NaN</td>\n      <td>NaN</td>\n      <td>...</td>\n      <td>NaN</td>\n      <td>NaN</td>\n      <td>NaN</td>\n      <td>NaN</td>\n      <td>NaN</td>\n      <td>NaN</td>\n      <td>NaN</td>\n      <td>NaN</td>\n      <td>NaN</td>\n      <td>NaN</td>\n    </tr>\n    <tr>\n      <th>1</th>\n      <td>2</td>\n      <td>192</td>\n      <td>326.0</td>\n      <td>DarkCorner</td>\n      <td>DarkCorner</td>\n      <td>pos</td>\n      <td>NaN</td>\n      <td>NaN</td>\n      <td>NaN</td>\n      <td>NaN</td>\n      <td>...</td>\n      <td>NaN</td>\n      <td>NaN</td>\n      <td>NaN</td>\n      <td>NaN</td>\n      <td>NaN</td>\n      <td>NaN</td>\n      <td>NaN</td>\n      <td>NaN</td>\n      <td>NaN</td>\n      <td>NaN</td>\n    </tr>\n    <tr>\n      <th>2</th>\n      <td>3</td>\n      <td>192</td>\n      <td>324.0</td>\n      <td>DarkCorner</td>\n      <td>DarkCorner</td>\n      <td>pos</td>\n      <td>NaN</td>\n      <td>NaN</td>\n      <td>NaN</td>\n      <td>NaN</td>\n      <td>...</td>\n      <td>NaN</td>\n      <td>NaN</td>\n      <td>NaN</td>\n      <td>NaN</td>\n      <td>NaN</td>\n      <td>NaN</td>\n      <td>NaN</td>\n      <td>NaN</td>\n      <td>NaN</td>\n      <td>NaN</td>\n    </tr>\n    <tr>\n      <th>3</th>\n      <td>4</td>\n      <td>192</td>\n      <td>322.0</td>\n      <td>A_21_P0014386</td>\n      <td>A_21_P0014386</td>\n      <td>FALSE</td>\n      <td>NaN</td>\n      <td>NaN</td>\n      <td>NaN</td>\n      <td>NaN</td>\n      <td>...</td>\n      <td>NaN</td>\n      <td>NaN</td>\n      <td>NaN</td>\n      <td>NaN</td>\n      <td>unmapped</td>\n      <td>NaN</td>\n      <td>NaN</td>\n      <td>NaN</td>\n      <td>AATACATGTTTTGGTAAACACTCGGTCAGAGCACCCTCTTTCTGTG...</td>\n      <td>NaN</td>\n    </tr>\n    <tr>\n      <th>4</th>\n      <td>5</td>\n      <td>192</td>\n      <td>320.0</td>\n      <td>A_33_P3396872</td>\n      <td>A_33_P3396872</td>\n      <td>FALSE</td>\n      <td>NM_001105533</td>\n      <td>NM_001105533</td>\n      <td>79974.0</td>\n      <td>CPED1</td>\n      <td>...</td>\n      <td>Hs.189652</td>\n      <td>NaN</td>\n      <td>NaN</td>\n      <td>ref|NM_001105533|gb|AK025639|gb|BC030538|tc|TH...</td>\n      <td>chr7:120901888-120901947</td>\n      <td>hs|7q31.31</td>\n      <td>Homo sapiens cadherin-like and PC-esterase dom...</td>\n      <td>GO:0005783(endoplasmic reticulum)</td>\n      <td>GCTTATCTCACCTAATACAGGGACTATGCAACCAAGAAACTGGAAA...</td>\n      <td>NaN</td>\n    </tr>\n  </tbody>\n</table>\n<p>5 rows × 21 columns</p>\n</div>"
     },
     "execution_count": 7,
     "metadata": {},
     "output_type": "execute_result"
    }
   ],
   "source": [
    "condition_gene_annotation.head()"
   ],
   "metadata": {
    "collapsed": false,
    "ExecuteTime": {
     "end_time": "2023-12-25T20:26:29.120651586Z",
     "start_time": "2023-12-25T20:26:29.114600816Z"
    }
   }
  },
  {
   "cell_type": "code",
   "execution_count": 8,
   "outputs": [],
   "source": [
    "condition_gene_name_col = 'GENE_SYMBOL'"
   ],
   "metadata": {
    "collapsed": false,
    "ExecuteTime": {
     "end_time": "2023-12-25T20:26:29.328921432Z",
     "start_time": "2023-12-25T20:26:29.120813668Z"
    }
   }
  },
  {
   "cell_type": "code",
   "execution_count": 9,
   "outputs": [],
   "source": [
    "condition_gene_mapping = get_gene_mapping(condition_gene_annotation, condition_gene_name_col)"
   ],
   "metadata": {
    "collapsed": false,
    "ExecuteTime": {
     "end_time": "2023-12-25T20:26:29.346016723Z",
     "start_time": "2023-12-25T20:26:29.163426397Z"
    }
   }
  },
  {
   "cell_type": "code",
   "execution_count": 10,
   "outputs": [],
   "source": [
    "condition_genetic_data = get_genetic_data(condition_matrix_file)"
   ],
   "metadata": {
    "collapsed": false,
    "ExecuteTime": {
     "end_time": "2023-12-25T20:26:29.381669328Z",
     "start_time": "2023-12-25T20:26:29.303503189Z"
    }
   }
  },
  {
   "cell_type": "code",
   "execution_count": 11,
   "outputs": [],
   "source": [
    "condition_genetic_data = apply_gene_mapping(condition_genetic_data, condition_gene_mapping)"
   ],
   "metadata": {
    "collapsed": false,
    "ExecuteTime": {
     "end_time": "2023-12-25T20:26:29.511427039Z",
     "start_time": "2023-12-25T20:26:29.425971593Z"
    }
   }
  },
  {
   "cell_type": "code",
   "execution_count": 12,
   "outputs": [],
   "source": [
    "if NORMALIZE_GENE:\n",
    "    condition_genetic_data = normalize_gene_symbols_in_index(condition_genetic_data)"
   ],
   "metadata": {
    "collapsed": false,
    "ExecuteTime": {
     "end_time": "2023-12-25T20:26:29.513759984Z",
     "start_time": "2023-12-25T20:26:29.511573111Z"
    }
   }
  },
  {
   "cell_type": "markdown",
   "source": [
    "## 2.2. Gene Data for Trait"
   ],
   "metadata": {
    "id": "MBM7hwLlLAYV"
   }
  },
  {
   "cell_type": "code",
   "execution_count": 13,
   "outputs": [],
   "source": [
    "trait_gene_annotation = get_gene_annotation(trait_soft_file)"
   ],
   "metadata": {
    "collapsed": false,
    "ExecuteTime": {
     "end_time": "2023-12-25T20:26:53.438305402Z",
     "start_time": "2023-12-25T20:26:29.511701700Z"
    }
   }
  },
  {
   "cell_type": "code",
   "execution_count": 14,
   "outputs": [
    {
     "data": {
      "text/plain": "           ID        Name AddressA_ID  \\\n0  cg00035864  cg00035864    31729416   \n1  cg00050873  cg00050873    32735311   \n2  cg00061679  cg00061679    28780415   \n3  cg00063477  cg00063477    16712347   \n4  cg00121626  cg00121626    19779393   \n\n                                    AlleleA_ProbeSeq AddressB_ID  \\\n0  AAAACACTAACAATCTTATCCACATAAACCCTTAAATTTATCTCAA...         NaN   \n1  ACAAAAAAACAACACACAACTATAATAATTTTTAAAATAAATAAAC...    31717405   \n2  AAAACATTAAAAAACTAATTCACTACTATTTAATTACTTTATTTTC...         NaN   \n3  TATTCTTCCACACAAAATACTAAACRTATATTTACAAAAATACTTC...         NaN   \n4  AAAACTAATAAAAATAACTTACAAACCAAATACTATACCCTACAAC...         NaN   \n\n                                    AlleleB_ProbeSeq Infinium_Design_Type  \\\n0                                                NaN                   II   \n1  ACGAAAAAACAACGCACAACTATAATAATTTTTAAAATAAATAAAC...                    I   \n2                                                NaN                   II   \n3                                                NaN                   II   \n4                                                NaN                   II   \n\n  Next_Base Color_Channel                                   Forward_Sequence  \\\n0       NaN           NaN  AATCCAAAGATGATGGAGGAGTGCCCGCTCATGATGTGAAGTACCT...   \n1         A           Red  TATCTCTGTCTGGCGAGGAGGCAACGCACAACTGTGGTGGTTTTTG...   \n2       NaN           NaN  TCAACAAATGAGAGACATTGAAGAACTAATTCACTACTATTTGGTT...   \n3       NaN           NaN  CTCCTGTACTTGTTCATTAAATAATGATTCCTTGGATATACCAAGT...   \n4       NaN           NaN  AGGTGAATGAAGAGACTAATGGGAGTGGCTTGCAAGCCAGGTACTG...   \n\n   ...  DMR Enhancer         HMM_Island Regulatory_Feature_Name  \\\n0  ...  NaN      NaN                NaN                     NaN   \n1  ...  NaN      NaN  Y:9973136-9976273                     NaN   \n2  ...  NaN      NaN                NaN                     NaN   \n3  ...  NaN      NaN                NaN                     NaN   \n4  ...  NaN      NaN                NaN                     NaN   \n\n  Regulatory_Feature_Group  DHS RANGE_START   RANGE_END     RANGE_GB SPOT_ID  \n0                      NaN  NaN   8553009.0   8553132.0  NC_000024.9     NaN  \n1                      NaN  NaN   9363356.0   9363479.0  NC_000024.9     NaN  \n2                      NaN  NaN  25314171.0  25314294.0  NC_000024.9     NaN  \n3                      NaN  NaN  22741795.0  22741918.0  NC_000024.9     NaN  \n4                      NaN  NaN  21664296.0  21664419.0  NC_000024.9     NaN  \n\n[5 rows x 37 columns]",
      "text/html": "<div>\n<style scoped>\n    .dataframe tbody tr th:only-of-type {\n        vertical-align: middle;\n    }\n\n    .dataframe tbody tr th {\n        vertical-align: top;\n    }\n\n    .dataframe thead th {\n        text-align: right;\n    }\n</style>\n<table border=\"1\" class=\"dataframe\">\n  <thead>\n    <tr style=\"text-align: right;\">\n      <th></th>\n      <th>ID</th>\n      <th>Name</th>\n      <th>AddressA_ID</th>\n      <th>AlleleA_ProbeSeq</th>\n      <th>AddressB_ID</th>\n      <th>AlleleB_ProbeSeq</th>\n      <th>Infinium_Design_Type</th>\n      <th>Next_Base</th>\n      <th>Color_Channel</th>\n      <th>Forward_Sequence</th>\n      <th>...</th>\n      <th>DMR</th>\n      <th>Enhancer</th>\n      <th>HMM_Island</th>\n      <th>Regulatory_Feature_Name</th>\n      <th>Regulatory_Feature_Group</th>\n      <th>DHS</th>\n      <th>RANGE_START</th>\n      <th>RANGE_END</th>\n      <th>RANGE_GB</th>\n      <th>SPOT_ID</th>\n    </tr>\n  </thead>\n  <tbody>\n    <tr>\n      <th>0</th>\n      <td>cg00035864</td>\n      <td>cg00035864</td>\n      <td>31729416</td>\n      <td>AAAACACTAACAATCTTATCCACATAAACCCTTAAATTTATCTCAA...</td>\n      <td>NaN</td>\n      <td>NaN</td>\n      <td>II</td>\n      <td>NaN</td>\n      <td>NaN</td>\n      <td>AATCCAAAGATGATGGAGGAGTGCCCGCTCATGATGTGAAGTACCT...</td>\n      <td>...</td>\n      <td>NaN</td>\n      <td>NaN</td>\n      <td>NaN</td>\n      <td>NaN</td>\n      <td>NaN</td>\n      <td>NaN</td>\n      <td>8553009.0</td>\n      <td>8553132.0</td>\n      <td>NC_000024.9</td>\n      <td>NaN</td>\n    </tr>\n    <tr>\n      <th>1</th>\n      <td>cg00050873</td>\n      <td>cg00050873</td>\n      <td>32735311</td>\n      <td>ACAAAAAAACAACACACAACTATAATAATTTTTAAAATAAATAAAC...</td>\n      <td>31717405</td>\n      <td>ACGAAAAAACAACGCACAACTATAATAATTTTTAAAATAAATAAAC...</td>\n      <td>I</td>\n      <td>A</td>\n      <td>Red</td>\n      <td>TATCTCTGTCTGGCGAGGAGGCAACGCACAACTGTGGTGGTTTTTG...</td>\n      <td>...</td>\n      <td>NaN</td>\n      <td>NaN</td>\n      <td>Y:9973136-9976273</td>\n      <td>NaN</td>\n      <td>NaN</td>\n      <td>NaN</td>\n      <td>9363356.0</td>\n      <td>9363479.0</td>\n      <td>NC_000024.9</td>\n      <td>NaN</td>\n    </tr>\n    <tr>\n      <th>2</th>\n      <td>cg00061679</td>\n      <td>cg00061679</td>\n      <td>28780415</td>\n      <td>AAAACATTAAAAAACTAATTCACTACTATTTAATTACTTTATTTTC...</td>\n      <td>NaN</td>\n      <td>NaN</td>\n      <td>II</td>\n      <td>NaN</td>\n      <td>NaN</td>\n      <td>TCAACAAATGAGAGACATTGAAGAACTAATTCACTACTATTTGGTT...</td>\n      <td>...</td>\n      <td>NaN</td>\n      <td>NaN</td>\n      <td>NaN</td>\n      <td>NaN</td>\n      <td>NaN</td>\n      <td>NaN</td>\n      <td>25314171.0</td>\n      <td>25314294.0</td>\n      <td>NC_000024.9</td>\n      <td>NaN</td>\n    </tr>\n    <tr>\n      <th>3</th>\n      <td>cg00063477</td>\n      <td>cg00063477</td>\n      <td>16712347</td>\n      <td>TATTCTTCCACACAAAATACTAAACRTATATTTACAAAAATACTTC...</td>\n      <td>NaN</td>\n      <td>NaN</td>\n      <td>II</td>\n      <td>NaN</td>\n      <td>NaN</td>\n      <td>CTCCTGTACTTGTTCATTAAATAATGATTCCTTGGATATACCAAGT...</td>\n      <td>...</td>\n      <td>NaN</td>\n      <td>NaN</td>\n      <td>NaN</td>\n      <td>NaN</td>\n      <td>NaN</td>\n      <td>NaN</td>\n      <td>22741795.0</td>\n      <td>22741918.0</td>\n      <td>NC_000024.9</td>\n      <td>NaN</td>\n    </tr>\n    <tr>\n      <th>4</th>\n      <td>cg00121626</td>\n      <td>cg00121626</td>\n      <td>19779393</td>\n      <td>AAAACTAATAAAAATAACTTACAAACCAAATACTATACCCTACAAC...</td>\n      <td>NaN</td>\n      <td>NaN</td>\n      <td>II</td>\n      <td>NaN</td>\n      <td>NaN</td>\n      <td>AGGTGAATGAAGAGACTAATGGGAGTGGCTTGCAAGCCAGGTACTG...</td>\n      <td>...</td>\n      <td>NaN</td>\n      <td>NaN</td>\n      <td>NaN</td>\n      <td>NaN</td>\n      <td>NaN</td>\n      <td>NaN</td>\n      <td>21664296.0</td>\n      <td>21664419.0</td>\n      <td>NC_000024.9</td>\n      <td>NaN</td>\n    </tr>\n  </tbody>\n</table>\n<p>5 rows × 37 columns</p>\n</div>"
     },
     "execution_count": 14,
     "metadata": {},
     "output_type": "execute_result"
    }
   ],
   "source": [
    "trait_gene_annotation.head()"
   ],
   "metadata": {
    "collapsed": false,
    "ExecuteTime": {
     "end_time": "2023-12-25T20:26:53.451652472Z",
     "start_time": "2023-12-25T20:26:53.447659394Z"
    }
   }
  },
  {
   "cell_type": "code",
   "execution_count": 15,
   "outputs": [],
   "source": [
    "trait_gene_name_col = 'UCSC_RefGene_Name'"
   ],
   "metadata": {
    "collapsed": false,
    "ExecuteTime": {
     "end_time": "2023-12-25T20:26:53.909461359Z",
     "start_time": "2023-12-25T20:26:53.451102267Z"
    }
   }
  },
  {
   "cell_type": "code",
   "execution_count": 16,
   "outputs": [],
   "source": [
    "trait_gene_mapping = get_gene_mapping(trait_gene_annotation, trait_gene_name_col)"
   ],
   "metadata": {
    "collapsed": false,
    "ExecuteTime": {
     "end_time": "2023-12-25T20:26:53.932122447Z",
     "start_time": "2023-12-25T20:26:53.874277798Z"
    }
   }
  },
  {
   "cell_type": "code",
   "source": [
    "trait_genetic_data = get_genetic_data(trait_matrix_file)"
   ],
   "metadata": {
    "id": "d8wXt-S-IgIY",
    "colab": {
     "base_uri": "https://localhost:8080/",
     "height": 460
    },
    "outputId": "7b5037dd-3bab-4200-91f0-26d0df88a862",
    "ExecuteTime": {
     "end_time": "2023-12-25T20:26:54.374299778Z",
     "start_time": "2023-12-25T20:26:53.874479223Z"
    }
   },
   "execution_count": 17,
   "outputs": []
  },
  {
   "cell_type": "code",
   "execution_count": 18,
   "outputs": [],
   "source": [
    "trait_genetic_data = apply_gene_mapping(trait_genetic_data, trait_gene_mapping)"
   ],
   "metadata": {
    "collapsed": false,
    "ExecuteTime": {
     "end_time": "2023-12-25T20:26:55.168998995Z",
     "start_time": "2023-12-25T20:26:54.384330643Z"
    }
   }
  },
  {
   "cell_type": "code",
   "execution_count": 19,
   "outputs": [],
   "source": [
    "if NORMALIZE_GENE:\n",
    "    trait_genetic_data = normalize_gene_symbols_in_index(trait_genetic_data)"
   ],
   "metadata": {
    "collapsed": false,
    "ExecuteTime": {
     "end_time": "2023-12-25T20:26:55.212499717Z",
     "start_time": "2023-12-25T20:26:55.211443360Z"
    }
   }
  },
  {
   "cell_type": "markdown",
   "source": [
    "## 2.3. Confirmation of Data Suitability"
   ],
   "metadata": {
    "id": "KFceUsrVL_tB"
   }
  },
  {
   "cell_type": "code",
   "source": [
    "# Find the genes related to the trait according to biomedical knowledge from OMIM\n",
    "\n",
    "trait_gene_rel_path = os.path.join(data_root, 'Summary_Corresponding_Gene_Symbol.csv')\n",
    "trait_gene_rel = pd.read_csv(trait_gene_rel_path)\n",
    "trait_gene_rel = trait_gene_rel.loc[:, ['Disease Name', 'Corresponding_Gene_Symbol']].set_index('Disease Name')\n",
    "# Convert to lower case\n",
    "# trait_gene_rel = trait_gene_rel.apply(lambda x: x.astype(str).str.lower())\n",
    "# trait_gene_rel.index = trait_gene_rel.index.str.lower()"
   ],
   "metadata": {
    "id": "vVlelsncQ6Iv",
    "colab": {
     "base_uri": "https://localhost:8080/",
     "height": 455
    },
    "outputId": "60f9fe16-975e-4593-c67f-141e4ee0c39f",
    "ExecuteTime": {
     "end_time": "2023-12-25T20:26:55.212589865Z",
     "start_time": "2023-12-25T20:26:55.211538537Z"
    }
   },
   "execution_count": 20,
   "outputs": []
  },
  {
   "cell_type": "code",
   "execution_count": 21,
   "outputs": [
    {
     "name": "stdout",
     "output_type": "stream",
     "text": [
      "Genes related to the condition 'Obesity' according to domain knowledge, ['LEP', 'PPARG', 'POMC', 'MC4R', 'ENPP1', 'ADCY3']\n"
     ]
    }
   ],
   "source": [
    "condition_related_genes = trait_gene_rel.loc[CONDITION].tolist()[0].strip().split(',')\n",
    "condition_related_genes = [gn.strip() for gn in condition_related_genes]\n",
    "if NORMALIZE_GENE:\n",
    "    condition_related_genes = normalize_gene_symbols(condition_related_genes)\n",
    "print(f\"Genes related to the condition '{CONDITION}' according to domain knowledge, {condition_related_genes}\")"
   ],
   "metadata": {
    "collapsed": false,
    "ExecuteTime": {
     "end_time": "2023-12-25T20:26:55.212689691Z",
     "start_time": "2023-12-25T20:26:55.211578271Z"
    }
   }
  },
  {
   "cell_type": "code",
   "execution_count": 22,
   "outputs": [
    {
     "name": "stdout",
     "output_type": "stream",
     "text": [
      "The trait and condition datasets have 10983 genes in common, such as ['ASB13', 'PRPF19', 'PLEKHM1', 'EIF1AX', 'PRAF2', 'SNRPD3', 'GOLGA7', 'UBB', 'MAFA', 'FASTKD1'].\n",
      "Found 2 candidate genes that can be used in two-step regression analysis, such as ['POMC', 'ADCY3'].\n"
     ]
    }
   ],
   "source": [
    "genes_in_trait_data = set(trait_genetic_data.index)\n",
    "genes_in_condition_data = set(condition_genetic_data.index)\n",
    "\n",
    "common_genes_across_datasets = genes_in_trait_data.intersection(genes_in_condition_data)\n",
    "if len(common_genes_across_datasets) == 0:\n",
    "    print(\"The trait and condition datasets have no genes in common. Please try other datasets\")\n",
    "else:\n",
    "    print(f\"The trait and condition datasets have {len(common_genes_across_datasets)} genes in common, such as {list(common_genes_across_datasets)[:10]}.\")\n",
    "    common_genes = common_genes_across_datasets.intersection(set(condition_related_genes))\n",
    "    if len(common_genes) > 0:\n",
    "        gene_regressors_for_condition = list(common_genes)\n",
    "        print(f\"Found {len(common_genes)} candidate genes that can be used in two-step regression analysis, such as {gene_regressors_for_condition[:10]}.\")\n",
    "    else:\n",
    "        print(f\"The condition and trait datasets have common genes, and we need to select indicator genes for the condition\")"
   ],
   "metadata": {
    "collapsed": false,
    "ExecuteTime": {
     "end_time": "2023-12-25T20:26:55.212765352Z",
     "start_time": "2023-12-25T20:26:55.211618075Z"
    }
   }
  },
  {
   "cell_type": "markdown",
   "source": [
    "# 3. Clinical Data Preparation"
   ],
   "metadata": {
    "id": "4ujeANBU5CWD"
   }
  },
  {
   "cell_type": "markdown",
   "source": [
    "## Description\n",
    "\n",
    "## Thrust 1: Acertain if the GEO sereies is suitable for the regression analysis\n",
    "To determine if the GEO series is suitable for regression analysis, you need to assess whether it provides samples that include both the trait being analyzed and samples without the trait. If the series contains such samples, it can be used for regression analysis. However, if the series does not include both types of samples, alternative GEO series will need to be identified.\n",
    "\n",
    "# Thrust 2: Understand the text information and  label the samples\n",
    "To label the samples, it is important to thoroughly understand the details provided in the text. They offer information into the nature of the study, the overall design, and the characteristics of the samples, which help determine which samples possess the trait of interest (positive samples) and which do not (negative samples).\n",
    "\n",
    "In this demo, the samples in the control group are removed, the samples without seizure (negative samples) are marked as 0, and the samples with seizure (positive samples) are marked as 1.\n",
    "\n",
    "Note: The control group refers to a group of individuals or subjects in a scientific study or experiment that does not receive the experimental treatment or intervention.   Therefore, the trait of the samples in the control group remains unclear, we thus remove them."
   ],
   "metadata": {
    "id": "Yz5YT0Ba7cvn"
   }
  },
  {
   "cell_type": "markdown",
   "source": [
    "## 3.1. Clinical Data for Trait"
   ],
   "metadata": {
    "id": "nvm1FFZEh9jv"
   }
  },
  {
   "cell_type": "markdown",
   "source": [
    "### Automatic Labeling\n",
    "You can use ChatGPT to help understand the text information and label the samples.\n",
    "\n",
    "## Prompt for understanding text\n",
    "\n",
    "Analyze if the text {filtered_content} including samples with charateristic related to the trait {TRAIT} or not.\n",
    "The output should only be yes or no.\n",
    "\n",
    "## Code (I recommend going directly to the GPT website)\n",
    "ascertain_prompt  = (f\"Analyze if the text {filtered_content} including samples with charateristic related to the trait {TRAIT} or not. \"\n",
    "f\"The output should only be yes or no\")\n",
    "\n",
    "response = openai.Completion.create(engine=deployment_name, prompt=ascertain_prompt, max_tokens=20)\n",
    "\n",
    "text = response['choices'][0]['text']\n",
    "\n",
    "print(text)\n",
    "\n",
    "## Prompt for labeling\n",
    "\n",
    "According to {filtered_content}, please create a table using Panda where the row name represents the trait {TRAIT} and the column names represent the GEO accessions of the samples. Then fill in value 0 for the samples without the trait {TRAIT} and  value 1 to the samples with the trait {TRAIT}. The output should only be a table that can be used by python\n",
    "\n",
    "## Code (I recommend going directly to the GPT website)\n",
    "\n",
    "Label_prompt = (f\"According to {filtered_content}, please create a table using Panda where the row name represents the trait {TRAIT} and the column names represent the  GEO accessions of the samples. \"\n",
    "f\" Then fill in value 0 for the samples without the trait {TRAIT} and the value 1 to the samples with the trait {TRAIT}\"\n",
    "f\"The output should only be a table that can be used by python\")\n",
    "\n",
    "response = openai.Completion.create(engine=deployment_name, prompt=Label_prompt, max_tokens=500)\n",
    "\n",
    "text = response['choices'][0]['text']\n",
    "\n",
    "print(text)"
   ],
   "metadata": {
    "id": "UT1tO29e7yUu"
   }
  },
  {
   "cell_type": "code",
   "execution_count": 23,
   "outputs": [
    {
     "name": "stdout",
     "output_type": "stream",
     "text": [
      "!Series_title\t\"Integrated analysis of expression profile and potential pathogenic mechanism of temporal lobe epilepsy with hippocampal sclerosis\"\n",
      "!Series_summary\t\"To investigate the potential pathogenic mechanism of temporal lobe epilepsy with hippocampal sclerosis (TLE+HS), we have employed analyzing of the expression profiles of microRNA/ mRNA/ lncRNA/ DNA methylation in brain tissues of hippocampal sclerosis (TLE+HS) patients. Brain tissues of six patients with TLE+HS and nine of normal temporal or parietal cortices (NTP) of patients undergoing internal decompression for traumatic brain injury (TBI) were collected. The total RNA was dephosphorylated, labeled, and hybridized to the Agilent Human miRNA Microarray, Release 19.0, 8x60K. The cDNA was labeled and hybridized to the Agilent LncRNA+mRNA Human Gene Expression Microarray V3.0，4x180K. For methylation detection, the DNA was labeled and hybridized to the Illumina 450K Infinium Methylation BeadChip. The raw data was extracted from hybridized images using Agilent Feature Extraction, and quantile normalization was performed using the Agilent GeneSpring. We found that the disorder of FGFR3, hsa-miR-486-5p, and lnc-KCNH5-1 plays a key vital role in developing TLE+HS.\"\n",
      "!Series_overall_design\t\"Brain tissues of six patients with TLE+HS and nine of normal temporal or parietal cortices (NTP) of patients undergoing internal decompression for traumatic brain injury (TBI) were collected.\"\n",
      "!Sample_geo_accession\t\"GSM6216198\"\t\"GSM6216199\"\t\"GSM6216200\"\t\"GSM6216201\"\t\"GSM6216202\"\t\"GSM6216203\"\t\"GSM6216204\"\t\"GSM6216205\"\t\"GSM6216206\"\t\"GSM6216207\"\t\"GSM6216208\"\t\"GSM6216209\"\t\"GSM6216210\"\t\"GSM6216211\"\t\"GSM6216212\"\n",
      "!Sample_characteristics_ch1\t\"tissue: Hippocampus\"\t\"tissue: Hippocampus\"\t\"tissue: Hippocampus\"\t\"tissue: Hippocampus\"\t\"tissue: Hippocampus\"\t\"tissue: Hippocampus\"\t\"tissue: Temporal lobe\"\t\"tissue: Temporal lobe\"\t\"tissue: Temporal lobe\"\t\"tissue: Temporal lobe\"\t\"tissue: Temporal lobe\"\t\"tissue: Temporal lobe\"\t\"tissue: Parietal lobe\"\t\"tissue: Temporal lobe\"\t\"tissue: Parietal lobe\"\n",
      "!Sample_characteristics_ch1\t\"gender: Female\"\t\"gender: Male\"\t\"gender: Male\"\t\"gender: Female\"\t\"gender: Female\"\t\"gender: Male\"\t\"gender: Female\"\t\"gender: Male\"\t\"gender: Female\"\t\"gender: Male\"\t\"gender: Male\"\t\"gender: Male\"\t\"gender: Male\"\t\"gender: Male\"\t\"gender: Male\"\n",
      "!Sample_characteristics_ch1\t\"age: 23y\"\t\"age: 29y\"\t\"age: 37y\"\t\"age: 26y\"\t\"age: 16y\"\t\"age: 13y\"\t\"age: 62y\"\t\"age: 58y\"\t\"age: 63y\"\t\"age: 68y\"\t\"age: 77y\"\t\"age: 59y\"\t\"age: 50y\"\t\"age: 39y\"\t\"age: 23y\"\n"
     ]
    }
   ],
   "source": [
    "background_prefixes = ['!Sample_geo_accession', '!Series_title', '!Series_summary', '!Series_overall_design', '!Sample_characteristics_ch1']\n",
    "\n",
    "trait_background_info = get_background_info(trait_matrix_file, background_prefixes)\n",
    "print(trait_background_info)"
   ],
   "metadata": {
    "collapsed": false,
    "ExecuteTime": {
     "end_time": "2023-12-25T20:26:55.642364658Z",
     "start_time": "2023-12-25T20:26:55.211659092Z"
    }
   }
  },
  {
   "cell_type": "markdown",
   "source": [
    "### Manual Labeling"
   ],
   "metadata": {
    "id": "bBspXHeP6Q3o"
   }
  },
  {
   "cell_type": "code",
   "execution_count": 24,
   "outputs": [],
   "source": [
    "def decode_trait_var(value):\n",
    "    if value == 'tissue: Hippocampus':\n",
    "        return 1\n",
    "    else:\n",
    "        return 0"
   ],
   "metadata": {
    "collapsed": false,
    "ExecuteTime": {
     "end_time": "2023-12-25T20:26:55.645258748Z",
     "start_time": "2023-12-25T20:26:55.642791673Z"
    }
   }
  },
  {
   "cell_type": "code",
   "execution_count": 25,
   "outputs": [],
   "source": [
    "clinical_prefixes = ['!Sample_geo_accession', '!Sample_characteristics_ch1']\n",
    "trait_clinical_data = get_clinical_data(trait_background_info, clinical_prefixes)"
   ],
   "metadata": {
    "collapsed": false,
    "ExecuteTime": {
     "end_time": "2023-12-25T20:26:55.649631172Z",
     "start_time": "2023-12-25T20:26:55.646164265Z"
    }
   }
  },
  {
   "cell_type": "code",
   "execution_count": 26,
   "outputs": [
    {
     "data": {
      "text/plain": "         !Sample_geo_accession           GSM6216198           GSM6216199  \\\n0  !Sample_characteristics_ch1  tissue: Hippocampus  tissue: Hippocampus   \n1  !Sample_characteristics_ch1       gender: Female         gender: Male   \n2  !Sample_characteristics_ch1             age: 23y             age: 29y   \n\n            GSM6216200           GSM6216201           GSM6216202  \\\n0  tissue: Hippocampus  tissue: Hippocampus  tissue: Hippocampus   \n1         gender: Male       gender: Female       gender: Female   \n2             age: 37y             age: 26y             age: 16y   \n\n            GSM6216203             GSM6216204             GSM6216205  \\\n0  tissue: Hippocampus  tissue: Temporal lobe  tissue: Temporal lobe   \n1         gender: Male         gender: Female           gender: Male   \n2             age: 13y               age: 62y               age: 58y   \n\n              GSM6216206             GSM6216207             GSM6216208  \\\n0  tissue: Temporal lobe  tissue: Temporal lobe  tissue: Temporal lobe   \n1         gender: Female           gender: Male           gender: Male   \n2               age: 63y               age: 68y               age: 77y   \n\n              GSM6216209             GSM6216210             GSM6216211  \\\n0  tissue: Temporal lobe  tissue: Parietal lobe  tissue: Temporal lobe   \n1           gender: Male           gender: Male           gender: Male   \n2               age: 59y               age: 50y               age: 39y   \n\n              GSM6216212  \n0  tissue: Parietal lobe  \n1           gender: Male  \n2               age: 23y  ",
      "text/html": "<div>\n<style scoped>\n    .dataframe tbody tr th:only-of-type {\n        vertical-align: middle;\n    }\n\n    .dataframe tbody tr th {\n        vertical-align: top;\n    }\n\n    .dataframe thead th {\n        text-align: right;\n    }\n</style>\n<table border=\"1\" class=\"dataframe\">\n  <thead>\n    <tr style=\"text-align: right;\">\n      <th></th>\n      <th>!Sample_geo_accession</th>\n      <th>GSM6216198</th>\n      <th>GSM6216199</th>\n      <th>GSM6216200</th>\n      <th>GSM6216201</th>\n      <th>GSM6216202</th>\n      <th>GSM6216203</th>\n      <th>GSM6216204</th>\n      <th>GSM6216205</th>\n      <th>GSM6216206</th>\n      <th>GSM6216207</th>\n      <th>GSM6216208</th>\n      <th>GSM6216209</th>\n      <th>GSM6216210</th>\n      <th>GSM6216211</th>\n      <th>GSM6216212</th>\n    </tr>\n  </thead>\n  <tbody>\n    <tr>\n      <th>0</th>\n      <td>!Sample_characteristics_ch1</td>\n      <td>tissue: Hippocampus</td>\n      <td>tissue: Hippocampus</td>\n      <td>tissue: Hippocampus</td>\n      <td>tissue: Hippocampus</td>\n      <td>tissue: Hippocampus</td>\n      <td>tissue: Hippocampus</td>\n      <td>tissue: Temporal lobe</td>\n      <td>tissue: Temporal lobe</td>\n      <td>tissue: Temporal lobe</td>\n      <td>tissue: Temporal lobe</td>\n      <td>tissue: Temporal lobe</td>\n      <td>tissue: Temporal lobe</td>\n      <td>tissue: Parietal lobe</td>\n      <td>tissue: Temporal lobe</td>\n      <td>tissue: Parietal lobe</td>\n    </tr>\n    <tr>\n      <th>1</th>\n      <td>!Sample_characteristics_ch1</td>\n      <td>gender: Female</td>\n      <td>gender: Male</td>\n      <td>gender: Male</td>\n      <td>gender: Female</td>\n      <td>gender: Female</td>\n      <td>gender: Male</td>\n      <td>gender: Female</td>\n      <td>gender: Male</td>\n      <td>gender: Female</td>\n      <td>gender: Male</td>\n      <td>gender: Male</td>\n      <td>gender: Male</td>\n      <td>gender: Male</td>\n      <td>gender: Male</td>\n      <td>gender: Male</td>\n    </tr>\n    <tr>\n      <th>2</th>\n      <td>!Sample_characteristics_ch1</td>\n      <td>age: 23y</td>\n      <td>age: 29y</td>\n      <td>age: 37y</td>\n      <td>age: 26y</td>\n      <td>age: 16y</td>\n      <td>age: 13y</td>\n      <td>age: 62y</td>\n      <td>age: 58y</td>\n      <td>age: 63y</td>\n      <td>age: 68y</td>\n      <td>age: 77y</td>\n      <td>age: 59y</td>\n      <td>age: 50y</td>\n      <td>age: 39y</td>\n      <td>age: 23y</td>\n    </tr>\n  </tbody>\n</table>\n</div>"
     },
     "execution_count": 26,
     "metadata": {},
     "output_type": "execute_result"
    }
   ],
   "source": [
    "trait_clinical_data"
   ],
   "metadata": {
    "collapsed": false,
    "ExecuteTime": {
     "end_time": "2023-12-25T20:26:55.658703059Z",
     "start_time": "2023-12-25T20:26:55.649984681Z"
    }
   }
  },
  {
   "cell_type": "code",
   "execution_count": 27,
   "outputs": [],
   "source": [
    "trait_row_id = 0\n",
    "\n",
    "trait_feature_data = get_feature_data(trait_clinical_data, trait_row_id, TRAIT, decode_trait_var)\n",
    "trait_merged_data = add_binary_feature(trait_genetic_data, trait_feature_data, TRAIT)"
   ],
   "metadata": {
    "collapsed": false,
    "ExecuteTime": {
     "end_time": "2023-12-25T20:26:55.824002009Z",
     "start_time": "2023-12-25T20:26:55.658980957Z"
    }
   }
  },
  {
   "cell_type": "code",
   "execution_count": 28,
   "outputs": [
    {
     "data": {
      "text/plain": "                A1BG      A1CF     A2BP1     A2LD1       A2M     A2ML1  \\\nGSM6216198  0.498235  0.909286  0.697852  0.849571  0.803357  0.881167   \nGSM6216199  0.479765  0.900571  0.702369  0.864786  0.831571  0.874278   \nGSM6216200  0.490882  0.900000  0.692183  0.846429  0.814643  0.844056   \nGSM6216201  0.527765  0.900857  0.684736  0.859429  0.771929  0.903000   \nGSM6216202  0.485706  0.895857  0.680550  0.820357  0.776429  0.838000   \nGSM6216203  0.464529  0.896857  0.679555  0.849429  0.788929  0.863778   \nGSM6216204  0.543765  0.905286  0.668049  0.842357  0.796500  0.889667   \nGSM6216205  0.530529  0.895000  0.678844  0.860214  0.821571  0.890611   \nGSM6216206  0.541882  0.920143  0.676294  0.848786  0.805357  0.851278   \nGSM6216207  0.558471  0.877429  0.700736  0.872500  0.852857  0.864000   \nGSM6216208  0.476412  0.923143  0.665647  0.824286  0.802286  0.875444   \nGSM6216209  0.501294  0.889286  0.671097  0.853857  0.829857  0.853667   \nGSM6216210  0.538529  0.901143  0.694181  0.863643  0.840714  0.884611   \nGSM6216211  0.491588  0.911286  0.677919  0.849214  0.809357  0.887444   \nGSM6216212  0.561706  0.924571  0.680633  0.848429  0.828786  0.905944   \n\n              A4GALT     A4GNT    AAA1      AAAS  ...    ZXDB      ZXDC  \\\nGSM6216198  0.454591  0.887167  0.9117  0.157538  ...  0.5251  0.332605   \nGSM6216199  0.437136  0.895333  0.9172  0.157769  ...  0.2783  0.323442   \nGSM6216200  0.437409  0.872500  0.9123  0.153846  ...  0.3173  0.331791   \nGSM6216201  0.440500  0.804333  0.8902  0.164000  ...  0.6069  0.332116   \nGSM6216202  0.438864  0.842500  0.8885  0.161385  ...  0.4872  0.325698   \nGSM6216203  0.444364  0.863500  0.9017  0.153462  ...  0.2949  0.322256   \nGSM6216204  0.452727  0.876833  0.9155  0.175077  ...  0.4943  0.327953   \nGSM6216205  0.449409  0.875167  0.9178  0.157308  ...  0.2748  0.323163   \nGSM6216206  0.459182  0.860833  0.9167  0.158615  ...  0.5138  0.336093   \nGSM6216207  0.434091  0.912667  0.9123  0.156769  ...  0.2312  0.346721   \nGSM6216208  0.458727  0.859500  0.9000  0.172077  ...  0.3280  0.325977   \nGSM6216209  0.458227  0.878167  0.9207  0.172769  ...  0.3379  0.310116   \nGSM6216210  0.448136  0.886333  0.9113  0.162385  ...  0.2945  0.330674   \nGSM6216211  0.454500  0.877667  0.9149  0.164000  ...  0.3454  0.344326   \nGSM6216212  0.456045  0.863667  0.9242  0.177308  ...  0.3608  0.336767   \n\n              ZYG11A    ZYG11B       ZYX     ZZEF1      ZZZ3  psiTPTE22  \\\nGSM6216198  0.554000  0.519077  0.365947  0.522561  0.162056   0.225000   \nGSM6216199  0.559333  0.517308  0.375368  0.512585  0.139722   0.240278   \nGSM6216200  0.558600  0.508000  0.368316  0.517439  0.149056   0.240167   \nGSM6216201  0.560267  0.528846  0.317737  0.517293  0.157000   0.236278   \nGSM6216202  0.546733  0.519769  0.356000  0.514829  0.158444   0.246667   \nGSM6216203  0.548467  0.514000  0.364158  0.513976  0.133444   0.226056   \nGSM6216204  0.554667  0.507000  0.332474  0.512585  0.152444   0.231111   \nGSM6216205  0.553467  0.500308  0.347474  0.516390  0.150389   0.227222   \nGSM6216206  0.566867  0.526615  0.327684  0.525683  0.160889   0.229278   \nGSM6216207  0.576800  0.506615  0.386579  0.515854  0.128111   0.241389   \nGSM6216208  0.561333  0.500000  0.337632  0.508488  0.168667   0.227444   \nGSM6216209  0.564667  0.505538  0.343053  0.518878  0.151000   0.211278   \nGSM6216210  0.551600  0.495692  0.359895  0.521488  0.143611   0.241222   \nGSM6216211  0.561067  0.513385  0.356947  0.514780  0.143611   0.240611   \nGSM6216212  0.544867  0.528462  0.332947  0.520976  0.155500   0.230611   \n\n             tAKR  Epilepsy  \nGSM6216198  0.919       1.0  \nGSM6216199  0.934       1.0  \nGSM6216200  0.897       1.0  \nGSM6216201  0.933       1.0  \nGSM6216202  0.931       1.0  \nGSM6216203  0.950       1.0  \nGSM6216204  0.943       0.0  \nGSM6216205  0.939       0.0  \nGSM6216206  0.955       0.0  \nGSM6216207  0.958       0.0  \nGSM6216208  0.920       0.0  \nGSM6216209  0.968       0.0  \nGSM6216210  0.943       0.0  \nGSM6216211  0.908       0.0  \nGSM6216212  0.933       0.0  \n\n[15 rows x 21215 columns]",
      "text/html": "<div>\n<style scoped>\n    .dataframe tbody tr th:only-of-type {\n        vertical-align: middle;\n    }\n\n    .dataframe tbody tr th {\n        vertical-align: top;\n    }\n\n    .dataframe thead th {\n        text-align: right;\n    }\n</style>\n<table border=\"1\" class=\"dataframe\">\n  <thead>\n    <tr style=\"text-align: right;\">\n      <th></th>\n      <th>A1BG</th>\n      <th>A1CF</th>\n      <th>A2BP1</th>\n      <th>A2LD1</th>\n      <th>A2M</th>\n      <th>A2ML1</th>\n      <th>A4GALT</th>\n      <th>A4GNT</th>\n      <th>AAA1</th>\n      <th>AAAS</th>\n      <th>...</th>\n      <th>ZXDB</th>\n      <th>ZXDC</th>\n      <th>ZYG11A</th>\n      <th>ZYG11B</th>\n      <th>ZYX</th>\n      <th>ZZEF1</th>\n      <th>ZZZ3</th>\n      <th>psiTPTE22</th>\n      <th>tAKR</th>\n      <th>Epilepsy</th>\n    </tr>\n  </thead>\n  <tbody>\n    <tr>\n      <th>GSM6216198</th>\n      <td>0.498235</td>\n      <td>0.909286</td>\n      <td>0.697852</td>\n      <td>0.849571</td>\n      <td>0.803357</td>\n      <td>0.881167</td>\n      <td>0.454591</td>\n      <td>0.887167</td>\n      <td>0.9117</td>\n      <td>0.157538</td>\n      <td>...</td>\n      <td>0.5251</td>\n      <td>0.332605</td>\n      <td>0.554000</td>\n      <td>0.519077</td>\n      <td>0.365947</td>\n      <td>0.522561</td>\n      <td>0.162056</td>\n      <td>0.225000</td>\n      <td>0.919</td>\n      <td>1.0</td>\n    </tr>\n    <tr>\n      <th>GSM6216199</th>\n      <td>0.479765</td>\n      <td>0.900571</td>\n      <td>0.702369</td>\n      <td>0.864786</td>\n      <td>0.831571</td>\n      <td>0.874278</td>\n      <td>0.437136</td>\n      <td>0.895333</td>\n      <td>0.9172</td>\n      <td>0.157769</td>\n      <td>...</td>\n      <td>0.2783</td>\n      <td>0.323442</td>\n      <td>0.559333</td>\n      <td>0.517308</td>\n      <td>0.375368</td>\n      <td>0.512585</td>\n      <td>0.139722</td>\n      <td>0.240278</td>\n      <td>0.934</td>\n      <td>1.0</td>\n    </tr>\n    <tr>\n      <th>GSM6216200</th>\n      <td>0.490882</td>\n      <td>0.900000</td>\n      <td>0.692183</td>\n      <td>0.846429</td>\n      <td>0.814643</td>\n      <td>0.844056</td>\n      <td>0.437409</td>\n      <td>0.872500</td>\n      <td>0.9123</td>\n      <td>0.153846</td>\n      <td>...</td>\n      <td>0.3173</td>\n      <td>0.331791</td>\n      <td>0.558600</td>\n      <td>0.508000</td>\n      <td>0.368316</td>\n      <td>0.517439</td>\n      <td>0.149056</td>\n      <td>0.240167</td>\n      <td>0.897</td>\n      <td>1.0</td>\n    </tr>\n    <tr>\n      <th>GSM6216201</th>\n      <td>0.527765</td>\n      <td>0.900857</td>\n      <td>0.684736</td>\n      <td>0.859429</td>\n      <td>0.771929</td>\n      <td>0.903000</td>\n      <td>0.440500</td>\n      <td>0.804333</td>\n      <td>0.8902</td>\n      <td>0.164000</td>\n      <td>...</td>\n      <td>0.6069</td>\n      <td>0.332116</td>\n      <td>0.560267</td>\n      <td>0.528846</td>\n      <td>0.317737</td>\n      <td>0.517293</td>\n      <td>0.157000</td>\n      <td>0.236278</td>\n      <td>0.933</td>\n      <td>1.0</td>\n    </tr>\n    <tr>\n      <th>GSM6216202</th>\n      <td>0.485706</td>\n      <td>0.895857</td>\n      <td>0.680550</td>\n      <td>0.820357</td>\n      <td>0.776429</td>\n      <td>0.838000</td>\n      <td>0.438864</td>\n      <td>0.842500</td>\n      <td>0.8885</td>\n      <td>0.161385</td>\n      <td>...</td>\n      <td>0.4872</td>\n      <td>0.325698</td>\n      <td>0.546733</td>\n      <td>0.519769</td>\n      <td>0.356000</td>\n      <td>0.514829</td>\n      <td>0.158444</td>\n      <td>0.246667</td>\n      <td>0.931</td>\n      <td>1.0</td>\n    </tr>\n    <tr>\n      <th>GSM6216203</th>\n      <td>0.464529</td>\n      <td>0.896857</td>\n      <td>0.679555</td>\n      <td>0.849429</td>\n      <td>0.788929</td>\n      <td>0.863778</td>\n      <td>0.444364</td>\n      <td>0.863500</td>\n      <td>0.9017</td>\n      <td>0.153462</td>\n      <td>...</td>\n      <td>0.2949</td>\n      <td>0.322256</td>\n      <td>0.548467</td>\n      <td>0.514000</td>\n      <td>0.364158</td>\n      <td>0.513976</td>\n      <td>0.133444</td>\n      <td>0.226056</td>\n      <td>0.950</td>\n      <td>1.0</td>\n    </tr>\n    <tr>\n      <th>GSM6216204</th>\n      <td>0.543765</td>\n      <td>0.905286</td>\n      <td>0.668049</td>\n      <td>0.842357</td>\n      <td>0.796500</td>\n      <td>0.889667</td>\n      <td>0.452727</td>\n      <td>0.876833</td>\n      <td>0.9155</td>\n      <td>0.175077</td>\n      <td>...</td>\n      <td>0.4943</td>\n      <td>0.327953</td>\n      <td>0.554667</td>\n      <td>0.507000</td>\n      <td>0.332474</td>\n      <td>0.512585</td>\n      <td>0.152444</td>\n      <td>0.231111</td>\n      <td>0.943</td>\n      <td>0.0</td>\n    </tr>\n    <tr>\n      <th>GSM6216205</th>\n      <td>0.530529</td>\n      <td>0.895000</td>\n      <td>0.678844</td>\n      <td>0.860214</td>\n      <td>0.821571</td>\n      <td>0.890611</td>\n      <td>0.449409</td>\n      <td>0.875167</td>\n      <td>0.9178</td>\n      <td>0.157308</td>\n      <td>...</td>\n      <td>0.2748</td>\n      <td>0.323163</td>\n      <td>0.553467</td>\n      <td>0.500308</td>\n      <td>0.347474</td>\n      <td>0.516390</td>\n      <td>0.150389</td>\n      <td>0.227222</td>\n      <td>0.939</td>\n      <td>0.0</td>\n    </tr>\n    <tr>\n      <th>GSM6216206</th>\n      <td>0.541882</td>\n      <td>0.920143</td>\n      <td>0.676294</td>\n      <td>0.848786</td>\n      <td>0.805357</td>\n      <td>0.851278</td>\n      <td>0.459182</td>\n      <td>0.860833</td>\n      <td>0.9167</td>\n      <td>0.158615</td>\n      <td>...</td>\n      <td>0.5138</td>\n      <td>0.336093</td>\n      <td>0.566867</td>\n      <td>0.526615</td>\n      <td>0.327684</td>\n      <td>0.525683</td>\n      <td>0.160889</td>\n      <td>0.229278</td>\n      <td>0.955</td>\n      <td>0.0</td>\n    </tr>\n    <tr>\n      <th>GSM6216207</th>\n      <td>0.558471</td>\n      <td>0.877429</td>\n      <td>0.700736</td>\n      <td>0.872500</td>\n      <td>0.852857</td>\n      <td>0.864000</td>\n      <td>0.434091</td>\n      <td>0.912667</td>\n      <td>0.9123</td>\n      <td>0.156769</td>\n      <td>...</td>\n      <td>0.2312</td>\n      <td>0.346721</td>\n      <td>0.576800</td>\n      <td>0.506615</td>\n      <td>0.386579</td>\n      <td>0.515854</td>\n      <td>0.128111</td>\n      <td>0.241389</td>\n      <td>0.958</td>\n      <td>0.0</td>\n    </tr>\n    <tr>\n      <th>GSM6216208</th>\n      <td>0.476412</td>\n      <td>0.923143</td>\n      <td>0.665647</td>\n      <td>0.824286</td>\n      <td>0.802286</td>\n      <td>0.875444</td>\n      <td>0.458727</td>\n      <td>0.859500</td>\n      <td>0.9000</td>\n      <td>0.172077</td>\n      <td>...</td>\n      <td>0.3280</td>\n      <td>0.325977</td>\n      <td>0.561333</td>\n      <td>0.500000</td>\n      <td>0.337632</td>\n      <td>0.508488</td>\n      <td>0.168667</td>\n      <td>0.227444</td>\n      <td>0.920</td>\n      <td>0.0</td>\n    </tr>\n    <tr>\n      <th>GSM6216209</th>\n      <td>0.501294</td>\n      <td>0.889286</td>\n      <td>0.671097</td>\n      <td>0.853857</td>\n      <td>0.829857</td>\n      <td>0.853667</td>\n      <td>0.458227</td>\n      <td>0.878167</td>\n      <td>0.9207</td>\n      <td>0.172769</td>\n      <td>...</td>\n      <td>0.3379</td>\n      <td>0.310116</td>\n      <td>0.564667</td>\n      <td>0.505538</td>\n      <td>0.343053</td>\n      <td>0.518878</td>\n      <td>0.151000</td>\n      <td>0.211278</td>\n      <td>0.968</td>\n      <td>0.0</td>\n    </tr>\n    <tr>\n      <th>GSM6216210</th>\n      <td>0.538529</td>\n      <td>0.901143</td>\n      <td>0.694181</td>\n      <td>0.863643</td>\n      <td>0.840714</td>\n      <td>0.884611</td>\n      <td>0.448136</td>\n      <td>0.886333</td>\n      <td>0.9113</td>\n      <td>0.162385</td>\n      <td>...</td>\n      <td>0.2945</td>\n      <td>0.330674</td>\n      <td>0.551600</td>\n      <td>0.495692</td>\n      <td>0.359895</td>\n      <td>0.521488</td>\n      <td>0.143611</td>\n      <td>0.241222</td>\n      <td>0.943</td>\n      <td>0.0</td>\n    </tr>\n    <tr>\n      <th>GSM6216211</th>\n      <td>0.491588</td>\n      <td>0.911286</td>\n      <td>0.677919</td>\n      <td>0.849214</td>\n      <td>0.809357</td>\n      <td>0.887444</td>\n      <td>0.454500</td>\n      <td>0.877667</td>\n      <td>0.9149</td>\n      <td>0.164000</td>\n      <td>...</td>\n      <td>0.3454</td>\n      <td>0.344326</td>\n      <td>0.561067</td>\n      <td>0.513385</td>\n      <td>0.356947</td>\n      <td>0.514780</td>\n      <td>0.143611</td>\n      <td>0.240611</td>\n      <td>0.908</td>\n      <td>0.0</td>\n    </tr>\n    <tr>\n      <th>GSM6216212</th>\n      <td>0.561706</td>\n      <td>0.924571</td>\n      <td>0.680633</td>\n      <td>0.848429</td>\n      <td>0.828786</td>\n      <td>0.905944</td>\n      <td>0.456045</td>\n      <td>0.863667</td>\n      <td>0.9242</td>\n      <td>0.177308</td>\n      <td>...</td>\n      <td>0.3608</td>\n      <td>0.336767</td>\n      <td>0.544867</td>\n      <td>0.528462</td>\n      <td>0.332947</td>\n      <td>0.520976</td>\n      <td>0.155500</td>\n      <td>0.230611</td>\n      <td>0.933</td>\n      <td>0.0</td>\n    </tr>\n  </tbody>\n</table>\n<p>15 rows × 21215 columns</p>\n</div>"
     },
     "execution_count": 28,
     "metadata": {},
     "output_type": "execute_result"
    }
   ],
   "source": [
    "trait_merged_data = trait_merged_data.T\n",
    "trait_merged_data"
   ],
   "metadata": {
    "collapsed": false,
    "ExecuteTime": {
     "end_time": "2023-12-25T20:26:55.824580066Z",
     "start_time": "2023-12-25T20:26:55.803840998Z"
    }
   }
  },
  {
   "cell_type": "markdown",
   "source": [
    "## 3.2. Clinical Data for Condition"
   ],
   "metadata": {
    "id": "vqM8MrKf-VvB"
   }
  },
  {
   "cell_type": "markdown",
   "source": [
    "### Manual Labeling"
   ],
   "metadata": {
    "id": "yrkBTFMF5w-n"
   }
  },
  {
   "cell_type": "code",
   "source": [
    "condition_background_info = get_background_info(condition_matrix_file, background_prefixes)\n",
    "print(condition_background_info)"
   ],
   "metadata": {
    "id": "6BiuedvW-oMs",
    "colab": {
     "base_uri": "https://localhost:8080/"
    },
    "outputId": "54365c11-1661-4e06-dbe1-5dc3da485ec5",
    "ExecuteTime": {
     "end_time": "2023-12-25T20:26:55.824698106Z",
     "start_time": "2023-12-25T20:26:55.804105010Z"
    }
   },
   "execution_count": 29,
   "outputs": [
    {
     "name": "stdout",
     "output_type": "stream",
     "text": [
      "!Series_title\t\"Study of the usefulness of human peripheral blood mononuclear cells for the analysis of metabolic recovery after weight loss (METAHEALTH-TEST)\"\n",
      "!Series_summary\t\"The aim of this study is to design and validate a test, METAHEALTH-TEST, based on gene expression analysis in blood cells, to quickly and easily analyse metabolic health. This test will be used to analyse metabolic improvement in overweight/obese individuals and in metabolically obese normal-weight (MONW) individuals after undergoing a weight loss intervention and/or an intervention for improvement in eating habits and lifestyle. Obesity and its medical complications are a serious health problem today. Using peripheral blood mononuclear cells (PBMC) as an easily obtainable source of transcriptomic biomarkers would allow to deepen into the knowledge of adaptations in response to increased adiposity that occur in internal homeostatic tissues, without the need of using invasive biopsies. Moreover, if PBMC were able to reflect lipid metabolism gene expression pattern recovery as a result of weight loss, it would provide valuable information to know the efficacy of therapies aimed at weight loss and, in any case, it would allow to personalize them according to the evolution of obese patients until the desired metabolic recovery is achieved.\"\n",
      "!Series_overall_design\t\"Apparently healthy subjects aged 18 to 45 years old, including men and women were recruited and classified into two groups depending on their body mass index (BMI). Normal-weight (NW) group (BMI <25 kg/m2) was composed of 20 subjects and overweight-obese (OW-OB) group (BMI ≥25 kg/m2) of 27 subjects. The inclusion criteria were: subjects with no chronic disease who did not take regular medication or drugs. To avoid potential bias, both groups include approx. 50% men/women and there was no difference in their average age. We recruited 6 additional NW individuals presenting 1 metabolic alteration related to MetS (high plasma total or LDL-cholesterol, plasma triglycerides, or plasma C-reactive protein (CRP) concentrations, or hypertension). They were classified as  metabolically obese normal-weight (MONW) individuals. Subjects from the OW-OB group followed a 6-month weight loss program which included a low-calorie food plan (30% reduction in the individual energy requirements) with dietary sessions and exercise counselling. Dietary sessions were offered by a nutritionist every fifteen days who provided face-to-face counselling that was individually adjusted to each subject with the aim of reducing 5% to 10% of initial body weight. Neither dietary supplements nor vitamins were provided and all participants consumed self-selected foods. 20 out of the 27 OW-OB subjects who started the study completed the 6-month weight loss program. All the volunteers underwent what we called the fasting test which consisted of collecting blood samples after 4 and after 6 hours after having had a standard breakfast. The blood extractions were performed by skilled health personnel; once in the NW and MONW groups,and three times (at the baseline point, and after 3 and 6 months of nutritional intervention) in the OW-OB group. Blood was collected using Vacutainer® EDTA tubes. After blood collection, the samples were processed immediately to obtain the PBMC fraction. PBMC were isolated using Ficoll-Paque Plus density gradient media. Total RNA from PBMC samples was extracted using Tripure Reagent and then purified with E.Z.N.A. Total RNA Kit I and precipitated with isopropanol. Isolated RNA was quantified using a NanoDrop ND 1000 spectrophotometer. Its integrity was confirmed using agarose gel electrophoresis and the RIN tool using the Agilent 2100 Bioanalyzer System. For the microarray experiment the following samples were selected: 12 paired samples from the NW group after both 4h and 6h of fasting, 12 paired samples from the OW-OB group after both 4h and 6h of fasting, 12 paired samples from the OW-OB group after the 6-month weight loss programm after both 4h and 6h of fasting, and 6 samples from the MONW group after 6h of fasting at the beginning of the study. For final data analysis, 2 duplicate RNA samples were taken along and confirmed for reproducibility but excluded for overall analyses thereafter: US22502548_257236338304_S01_GE2_1200_Dec17_2_2.txt and US22502548_257236338312_S01_GE2_1200_Dec17_1_2.txt.\"\n",
      "!Sample_geo_accession\t\"GSM5494930\"\t\"GSM5494931\"\t\"GSM5494932\"\t\"GSM5494933\"\t\"GSM5494934\"\t\"GSM5494935\"\t\"GSM5494936\"\t\"GSM5494937\"\t\"GSM5494938\"\t\"GSM5494939\"\t\"GSM5494940\"\t\"GSM5494941\"\t\"GSM5494942\"\t\"GSM5494943\"\t\"GSM5494944\"\t\"GSM5494945\"\t\"GSM5494946\"\t\"GSM5494947\"\t\"GSM5494948\"\t\"GSM5494949\"\t\"GSM5494950\"\t\"GSM5494951\"\t\"GSM5494952\"\t\"GSM5494953\"\t\"GSM5494954\"\t\"GSM5494955\"\t\"GSM5494956\"\t\"GSM5494957\"\t\"GSM5494958\"\t\"GSM5494959\"\t\"GSM5494960\"\t\"GSM5494961\"\t\"GSM5494962\"\t\"GSM5494963\"\t\"GSM5494964\"\t\"GSM5494965\"\t\"GSM5494966\"\t\"GSM5494967\"\t\"GSM5494968\"\t\"GSM5494969\"\t\"GSM5494970\"\t\"GSM5494971\"\t\"GSM5494972\"\t\"GSM5494973\"\t\"GSM5494974\"\t\"GSM5494975\"\t\"GSM5494976\"\t\"GSM5494977\"\t\"GSM5494978\"\t\"GSM5494979\"\t\"GSM5494980\"\t\"GSM5494981\"\t\"GSM5494982\"\t\"GSM5494983\"\t\"GSM5494984\"\t\"GSM5494985\"\t\"GSM5494986\"\t\"GSM5494987\"\t\"GSM5494988\"\t\"GSM5494989\"\t\"GSM5494990\"\t\"GSM5494991\"\t\"GSM5494992\"\t\"GSM5494993\"\t\"GSM5494994\"\t\"GSM5494995\"\t\"GSM5494996\"\t\"GSM5494997\"\t\"GSM5494998\"\t\"GSM5494999\"\t\"GSM5495000\"\t\"GSM5495001\"\t\"GSM5495002\"\t\"GSM5495003\"\t\"GSM5495004\"\t\"GSM5495005\"\t\"GSM5495006\"\t\"GSM5495007\"\n",
      "!Sample_characteristics_ch1\t\"gender: Man\"\t\"gender: Man\"\t\"gender: Woman\"\t\"gender: Woman\"\t\"gender: Woman\"\t\"gender: Man\"\t\"gender: Woman\"\t\"gender: Woman\"\t\"gender: Woman\"\t\"gender: Man\"\t\"gender: Man\"\t\"gender: Man\"\t\"gender: Woman\"\t\"gender: Woman\"\t\"gender: Woman\"\t\"gender: Woman\"\t\"gender: Woman\"\t\"gender: Woman\"\t\"gender: Man\"\t\"gender: Man\"\t\"gender: Woman\"\t\"gender: Man\"\t\"gender: Man\"\t\"gender: Woman\"\t\"gender: Woman\"\t\"gender: Man\"\t\"gender: Man\"\t\"gender: Woman\"\t\"gender: Man\"\t\"gender: Man\"\t\"gender: Man\"\t\"gender: Woman\"\t\"gender: Woman\"\t\"gender: Woman\"\t\"gender: Woman\"\t\"gender: Man\"\t\"gender: Man\"\t\"gender: Man\"\t\"gender: Man\"\t\"gender: Woman\"\t\"gender: Woman\"\t\"gender: Woman\"\t\"gender: Man\"\t\"gender: Woman\"\t\"gender: Man\"\t\"gender: Man\"\t\"gender: Woman\"\t\"gender: Woman\"\t\"gender: Man\"\t\"gender: Woman\"\t\"gender: Man\"\t\"gender: Man\"\t\"gender: Man\"\t\"gender: Woman\"\t\"gender: Woman\"\t\"gender: Woman\"\t\"gender: Woman\"\t\"gender: Woman\"\t\"gender: Woman\"\t\"gender: Woman\"\t\"gender: Woman\"\t\"gender: Man\"\t\"gender: Man\"\t\"gender: Man\"\t\"gender: Man\"\t\"gender: Man\"\t\"gender: Man\"\t\"gender: Woman\"\t\"gender: Woman\"\t\"gender: Woman\"\t\"gender: Man\"\t\"gender: Man\"\t\"gender: Man\"\t\"gender: Man\"\t\"gender: Man\"\t\"gender: Woman\"\t\"gender: Man\"\t\"gender: Man\"\n",
      "!Sample_characteristics_ch1\t\"group: NW\"\t\"group: OW/OB\"\t\"group: MONW\"\t\"group: OW/OB\"\t\"group: NW\"\t\"group: OW/OB\"\t\"group: OW/OB\"\t\"group: OW/OB\"\t\"group: NW\"\t\"group: OW/OB\"\t\"group: OW/OB\"\t\"group: MONW\"\t\"group: OW/OB\"\t\"group: OW/OB\"\t\"group: OW/OB\"\t\"group: MONW\"\t\"group: NW\"\t\"group: NW\"\t\"group: OW/OB\"\t\"group: OW/OB\"\t\"group: OW/OB\"\t\"group: OW/OB\"\t\"group: NW\"\t\"group: OW/OB\"\t\"group: NW\"\t\"group: OW/OB\"\t\"group: OW/OB\"\t\"group: OW/OB\"\t\"group: OW/OB\"\t\"group: NW\"\t\"group: NW\"\t\"group: OW/OB\"\t\"group: OW/OB\"\t\"group: NW\"\t\"group: NW\"\t\"group: OW/OB\"\t\"group: MONW\"\t\"group: NW\"\t\"group: OW/OB\"\t\"group: NW\"\t\"group: OW/OB\"\t\"group: OW/OB\"\t\"group: OW/OB\"\t\"group: NW\"\t\"group: MONW\"\t\"group: OW/OB\"\t\"group: OW/OB\"\t\"group: MONW\"\t\"group: OW/OB\"\t\"group: OW/OB\"\t\"group: OW/OB\"\t\"group: OW/OB\"\t\"group: NW\"\t\"group: OW/OB\"\t\"group: NW\"\t\"group: NW\"\t\"group: OW/OB\"\t\"group: OW/OB\"\t\"group: OW/OB\"\t\"group: OW/OB\"\t\"group: NW\"\t\"group: OW/OB\"\t\"group: NW\"\t\"group: NW\"\t\"group: OW/OB\"\t\"group: NW\"\t\"group: OW/OB\"\t\"group: OW/OB\"\t\"group: OW/OB\"\t\"group: OW/OB\"\t\"group: OW/OB\"\t\"group: NW\"\t\"group: OW/OB\"\t\"group: NW\"\t\"group: OW/OB\"\t\"group: OW/OB\"\t\"group: OW/OB\"\t\"group: NW\"\n",
      "!Sample_characteristics_ch1\t\"age: 21\"\t\"age: 23\"\t\"age: 10\"\t\"age: 17\"\t\"age: 11\"\t\"age: 1\"\t\"age: 18\"\t\"age: 10\"\t\"age: 12\"\t\"age: 23\"\t\"age: 23\"\t\"age: 8\"\t\"age: 11\"\t\"age: 17\"\t\"age: 11\"\t\"age: 1\"\t\"age: 14\"\t\"age: 12\"\t\"age: 21\"\t\"age: 8\"\t\"age: 26\"\t\"age: 8\"\t\"age: 21\"\t\"age: 26\"\t\"age: 14\"\t\"age: 8\"\t\"age: 1\"\t\"age: 10\"\t\"age: 4\"\t\"age: 8\"\t\"age: 10\"\t\"age: 2\"\t\"age: 26\"\t\"age: 2\"\t\"age: 11\"\t\"age: 1\"\t\"age: 3\"\t\"age: 7\"\t\"age: 23\"\t\"age: 13\"\t\"age: 17\"\t\"age: 11\"\t\"age: 4\"\t\"age: 15\"\t\"age: 9\"\t\"age: 4\"\t\"age: 18\"\t\"age: 2\"\t\"age: 21\"\t\"age: 17\"\t\"age: 21\"\t\"age: 1\"\t\"age: 10\"\t\"age: 18\"\t\"age: 13\"\t\"age: 2\"\t\"age: 11\"\t\"age: 10\"\t\"age: 18\"\t\"age: 26\"\t\"age: 15\"\t\"age: 30\"\t\"age: 8\"\t\"age: 17\"\t\"age: 21\"\t\"age: 7\"\t\"age: 8\"\t\"age: 10\"\t\"age: 2\"\t\"age: 2\"\t\"age: 30\"\t\"age: 17\"\t\"age: 30\"\t\"age: 19\"\t\"age: 30\"\t\"age: 2\"\t\"age: 4\"\t\"age: 19\"\n",
      "!Sample_characteristics_ch1\t\"fasting time: 6hr\"\t\"fasting time: 4hr\"\t\"fasting time: 6hr\"\t\"fasting time: 4hr\"\t\"fasting time: 4hr\"\t\"fasting time: 6hr\"\t\"fasting time: 4hr\"\t\"fasting time: 6hr\"\t\"fasting time: 4hr\"\t\"fasting time: 6hr\"\t\"fasting time: 4hr\"\t\"fasting time: 6hr\"\t\"fasting time: 6hr\"\t\"fasting time: 6hr\"\t\"fasting time: 4hr\"\t\"fasting time: 6hr\"\t\"fasting time: 4hr\"\t\"fasting time: 6hr\"\t\"fasting time: 6hr\"\t\"fasting time: 4hr\"\t\"fasting time: 6hr\"\t\"fasting time: 4hr\"\t\"fasting time: 4hr\"\t\"fasting time: 6hr\"\t\"fasting time: 6hr\"\t\"fasting time: 6hr\"\t\"fasting time: 4hr\"\t\"fasting time: 4hr\"\t\"fasting time: 6hr\"\t\"fasting time: 4hr\"\t\"fasting time: 6hr\"\t\"fasting time: 4hr\"\t\"fasting time: 4hr\"\t\"fasting time: 6hr\"\t\"fasting time: 6hr\"\t\"fasting time: 4hr\"\t\"fasting time: 6hr\"\t\"fasting time: 6hr\"\t\"fasting time: 6hr\"\t\"fasting time: 4hr\"\t\"fasting time: 6hr\"\t\"fasting time: 4hr\"\t\"fasting time: 4hr\"\t\"fasting time: 6hr\"\t\"fasting time: 6hr\"\t\"fasting time: 6hr\"\t\"fasting time: 6hr\"\t\"fasting time: 6hr\"\t\"fasting time: 6hr\"\t\"fasting time: 4hr\"\t\"fasting time: 4hr\"\t\"fasting time: 6hr\"\t\"fasting time: 4hr\"\t\"fasting time: 4hr\"\t\"fasting time: 6hr\"\t\"fasting time: 4hr\"\t\"fasting time: 6hr\"\t\"fasting time: 6hr\"\t\"fasting time: 6hr\"\t\"fasting time: 4hr\"\t\"fasting time: 4hr\"\t\"fasting time: 6hr\"\t\"fasting time: 6hr\"\t\"fasting time: 4hr\"\t\"fasting time: 4hr\"\t\"fasting time: 4hr\"\t\"fasting time: 6hr\"\t\"fasting time: 4hr\"\t\"fasting time: 6hr\"\t\"fasting time: 4hr\"\t\"fasting time: 4hr\"\t\"fasting time: 6hr\"\t\"fasting time: 6hr\"\t\"fasting time: 4hr\"\t\"fasting time: 4hr\"\t\"fasting time: 6hr\"\t\"fasting time: 4hr\"\t\"fasting time: 6hr\"\n",
      "!Sample_characteristics_ch1\t\"timepoint: 0months\"\t\"timepoint: 6months\"\t\"timepoint: 0months\"\t\"timepoint: 0months\"\t\"timepoint: 0months\"\t\"timepoint: 6months\"\t\"timepoint: 6months\"\t\"timepoint: 0months\"\t\"timepoint: 0months\"\t\"timepoint: 0months\"\t\"timepoint: 0months\"\t\"timepoint: 0months\"\t\"timepoint: 6months\"\t\"timepoint: 0months\"\t\"timepoint: 6months\"\t\"timepoint: 0months\"\t\"timepoint: 0months\"\t\"timepoint: 0months\"\t\"timepoint: 0months\"\t\"timepoint: 6months\"\t\"timepoint: 6months\"\t\"timepoint: 0months\"\t\"timepoint: 0months\"\t\"timepoint: 0months\"\t\"timepoint: 0months\"\t\"timepoint: 6months\"\t\"timepoint: 6months\"\t\"timepoint: 0months\"\t\"timepoint: 0months\"\t\"timepoint: 0months\"\t\"timepoint: 0months\"\t\"timepoint: 6months\"\t\"timepoint: 0months\"\t\"timepoint: 0months\"\t\"timepoint: 0months\"\t\"timepoint: 0months\"\t\"timepoint: 0months\"\t\"timepoint: 0months\"\t\"timepoint: 6months\"\t\"timepoint: 0months\"\t\"timepoint: 6months\"\t\"timepoint: 0months\"\t\"timepoint: 6months\"\t\"timepoint: 0months\"\t\"timepoint: 0months\"\t\"timepoint: 6months\"\t\"timepoint: 0months\"\t\"timepoint: 0months\"\t\"timepoint: 6months\"\t\"timepoint: 6months\"\t\"timepoint: 0months\"\t\"timepoint: 0months\"\t\"timepoint: 0months\"\t\"timepoint: 0months\"\t\"timepoint: 0months\"\t\"timepoint: 0months\"\t\"timepoint: 0months\"\t\"timepoint: 6months\"\t\"timepoint: 6months\"\t\"timepoint: 6months\"\t\"timepoint: 0months\"\t\"timepoint: 0months\"\t\"timepoint: 0months\"\t\"timepoint: 0months\"\t\"timepoint: 6months\"\t\"timepoint: 0months\"\t\"timepoint: 0months\"\t\"timepoint: 6months\"\t\"timepoint: 6months\"\t\"timepoint: 0months\"\t\"timepoint: 0months\"\t\"timepoint: 0months\"\t\"timepoint: 6months\"\t\"timepoint: 0months\"\t\"timepoint: 6months\"\t\"timepoint: 0months\"\t\"timepoint: 0months\"\t\"timepoint: 0months\"\n"
     ]
    }
   ]
  },
  {
   "cell_type": "code",
   "execution_count": 30,
   "outputs": [],
   "source": [
    "def decode_condition_var(value):\n",
    "    if value == 'group: OW/OB':\n",
    "        return 1\n",
    "    else:\n",
    "        return 0"
   ],
   "metadata": {
    "collapsed": false,
    "ExecuteTime": {
     "end_time": "2023-12-25T20:26:55.824752377Z",
     "start_time": "2023-12-25T20:26:55.804269927Z"
    }
   }
  },
  {
   "cell_type": "code",
   "execution_count": 31,
   "outputs": [
    {
     "data": {
      "text/plain": "         !Sample_geo_accession          GSM5494930          GSM5494931  \\\n0  !Sample_characteristics_ch1         gender: Man         gender: Man   \n1  !Sample_characteristics_ch1           group: NW        group: OW/OB   \n2  !Sample_characteristics_ch1             age: 21             age: 23   \n3  !Sample_characteristics_ch1   fasting time: 6hr   fasting time: 4hr   \n4  !Sample_characteristics_ch1  timepoint: 0months  timepoint: 6months   \n\n           GSM5494932          GSM5494933          GSM5494934  \\\n0       gender: Woman       gender: Woman       gender: Woman   \n1         group: MONW        group: OW/OB           group: NW   \n2             age: 10             age: 17             age: 11   \n3   fasting time: 6hr   fasting time: 4hr   fasting time: 4hr   \n4  timepoint: 0months  timepoint: 0months  timepoint: 0months   \n\n           GSM5494935          GSM5494936          GSM5494937  \\\n0         gender: Man       gender: Woman       gender: Woman   \n1        group: OW/OB        group: OW/OB        group: OW/OB   \n2              age: 1             age: 18             age: 10   \n3   fasting time: 6hr   fasting time: 4hr   fasting time: 6hr   \n4  timepoint: 6months  timepoint: 6months  timepoint: 0months   \n\n           GSM5494938  ...          GSM5494998          GSM5494999  \\\n0       gender: Woman  ...       gender: Woman       gender: Woman   \n1           group: NW  ...        group: OW/OB        group: OW/OB   \n2             age: 12  ...              age: 2              age: 2   \n3   fasting time: 4hr  ...   fasting time: 6hr   fasting time: 4hr   \n4  timepoint: 0months  ...  timepoint: 6months  timepoint: 0months   \n\n           GSM5495000          GSM5495001          GSM5495002  \\\n0         gender: Man         gender: Man         gender: Man   \n1        group: OW/OB           group: NW        group: OW/OB   \n2             age: 30             age: 17             age: 30   \n3   fasting time: 4hr   fasting time: 6hr   fasting time: 6hr   \n4  timepoint: 0months  timepoint: 0months  timepoint: 6months   \n\n           GSM5495003          GSM5495004          GSM5495005  \\\n0         gender: Man         gender: Man       gender: Woman   \n1           group: NW        group: OW/OB        group: OW/OB   \n2             age: 19             age: 30              age: 2   \n3   fasting time: 4hr   fasting time: 4hr   fasting time: 6hr   \n4  timepoint: 0months  timepoint: 6months  timepoint: 0months   \n\n           GSM5495006          GSM5495007  \n0         gender: Man         gender: Man  \n1        group: OW/OB           group: NW  \n2              age: 4             age: 19  \n3   fasting time: 4hr   fasting time: 6hr  \n4  timepoint: 0months  timepoint: 0months  \n\n[5 rows x 79 columns]",
      "text/html": "<div>\n<style scoped>\n    .dataframe tbody tr th:only-of-type {\n        vertical-align: middle;\n    }\n\n    .dataframe tbody tr th {\n        vertical-align: top;\n    }\n\n    .dataframe thead th {\n        text-align: right;\n    }\n</style>\n<table border=\"1\" class=\"dataframe\">\n  <thead>\n    <tr style=\"text-align: right;\">\n      <th></th>\n      <th>!Sample_geo_accession</th>\n      <th>GSM5494930</th>\n      <th>GSM5494931</th>\n      <th>GSM5494932</th>\n      <th>GSM5494933</th>\n      <th>GSM5494934</th>\n      <th>GSM5494935</th>\n      <th>GSM5494936</th>\n      <th>GSM5494937</th>\n      <th>GSM5494938</th>\n      <th>...</th>\n      <th>GSM5494998</th>\n      <th>GSM5494999</th>\n      <th>GSM5495000</th>\n      <th>GSM5495001</th>\n      <th>GSM5495002</th>\n      <th>GSM5495003</th>\n      <th>GSM5495004</th>\n      <th>GSM5495005</th>\n      <th>GSM5495006</th>\n      <th>GSM5495007</th>\n    </tr>\n  </thead>\n  <tbody>\n    <tr>\n      <th>0</th>\n      <td>!Sample_characteristics_ch1</td>\n      <td>gender: Man</td>\n      <td>gender: Man</td>\n      <td>gender: Woman</td>\n      <td>gender: Woman</td>\n      <td>gender: Woman</td>\n      <td>gender: Man</td>\n      <td>gender: Woman</td>\n      <td>gender: Woman</td>\n      <td>gender: Woman</td>\n      <td>...</td>\n      <td>gender: Woman</td>\n      <td>gender: Woman</td>\n      <td>gender: Man</td>\n      <td>gender: Man</td>\n      <td>gender: Man</td>\n      <td>gender: Man</td>\n      <td>gender: Man</td>\n      <td>gender: Woman</td>\n      <td>gender: Man</td>\n      <td>gender: Man</td>\n    </tr>\n    <tr>\n      <th>1</th>\n      <td>!Sample_characteristics_ch1</td>\n      <td>group: NW</td>\n      <td>group: OW/OB</td>\n      <td>group: MONW</td>\n      <td>group: OW/OB</td>\n      <td>group: NW</td>\n      <td>group: OW/OB</td>\n      <td>group: OW/OB</td>\n      <td>group: OW/OB</td>\n      <td>group: NW</td>\n      <td>...</td>\n      <td>group: OW/OB</td>\n      <td>group: OW/OB</td>\n      <td>group: OW/OB</td>\n      <td>group: NW</td>\n      <td>group: OW/OB</td>\n      <td>group: NW</td>\n      <td>group: OW/OB</td>\n      <td>group: OW/OB</td>\n      <td>group: OW/OB</td>\n      <td>group: NW</td>\n    </tr>\n    <tr>\n      <th>2</th>\n      <td>!Sample_characteristics_ch1</td>\n      <td>age: 21</td>\n      <td>age: 23</td>\n      <td>age: 10</td>\n      <td>age: 17</td>\n      <td>age: 11</td>\n      <td>age: 1</td>\n      <td>age: 18</td>\n      <td>age: 10</td>\n      <td>age: 12</td>\n      <td>...</td>\n      <td>age: 2</td>\n      <td>age: 2</td>\n      <td>age: 30</td>\n      <td>age: 17</td>\n      <td>age: 30</td>\n      <td>age: 19</td>\n      <td>age: 30</td>\n      <td>age: 2</td>\n      <td>age: 4</td>\n      <td>age: 19</td>\n    </tr>\n    <tr>\n      <th>3</th>\n      <td>!Sample_characteristics_ch1</td>\n      <td>fasting time: 6hr</td>\n      <td>fasting time: 4hr</td>\n      <td>fasting time: 6hr</td>\n      <td>fasting time: 4hr</td>\n      <td>fasting time: 4hr</td>\n      <td>fasting time: 6hr</td>\n      <td>fasting time: 4hr</td>\n      <td>fasting time: 6hr</td>\n      <td>fasting time: 4hr</td>\n      <td>...</td>\n      <td>fasting time: 6hr</td>\n      <td>fasting time: 4hr</td>\n      <td>fasting time: 4hr</td>\n      <td>fasting time: 6hr</td>\n      <td>fasting time: 6hr</td>\n      <td>fasting time: 4hr</td>\n      <td>fasting time: 4hr</td>\n      <td>fasting time: 6hr</td>\n      <td>fasting time: 4hr</td>\n      <td>fasting time: 6hr</td>\n    </tr>\n    <tr>\n      <th>4</th>\n      <td>!Sample_characteristics_ch1</td>\n      <td>timepoint: 0months</td>\n      <td>timepoint: 6months</td>\n      <td>timepoint: 0months</td>\n      <td>timepoint: 0months</td>\n      <td>timepoint: 0months</td>\n      <td>timepoint: 6months</td>\n      <td>timepoint: 6months</td>\n      <td>timepoint: 0months</td>\n      <td>timepoint: 0months</td>\n      <td>...</td>\n      <td>timepoint: 6months</td>\n      <td>timepoint: 0months</td>\n      <td>timepoint: 0months</td>\n      <td>timepoint: 0months</td>\n      <td>timepoint: 6months</td>\n      <td>timepoint: 0months</td>\n      <td>timepoint: 6months</td>\n      <td>timepoint: 0months</td>\n      <td>timepoint: 0months</td>\n      <td>timepoint: 0months</td>\n    </tr>\n  </tbody>\n</table>\n<p>5 rows × 79 columns</p>\n</div>"
     },
     "execution_count": 31,
     "metadata": {},
     "output_type": "execute_result"
    }
   ],
   "source": [
    "condition_clinical_data = get_clinical_data(condition_background_info, clinical_prefixes)\n",
    "condition_clinical_data.head()"
   ],
   "metadata": {
    "collapsed": false,
    "ExecuteTime": {
     "end_time": "2023-12-25T20:26:55.824830633Z",
     "start_time": "2023-12-25T20:26:55.804309120Z"
    }
   }
  },
  {
   "cell_type": "code",
   "execution_count": 32,
   "outputs": [],
   "source": [
    "condition_row_id = 1\n",
    "\n",
    "condition_feature_data = get_feature_data(condition_clinical_data, condition_row_id, CONDITION, decode_condition_var)\n",
    "condition_merged_data = add_binary_feature(condition_genetic_data, condition_feature_data, CONDITION)"
   ],
   "metadata": {
    "collapsed": false,
    "ExecuteTime": {
     "end_time": "2023-12-25T20:26:55.824869605Z",
     "start_time": "2023-12-25T20:26:55.804416600Z"
    }
   }
  },
  {
   "cell_type": "code",
   "execution_count": 33,
   "outputs": [
    {
     "data": {
      "text/plain": "                 A1BG  A1BG-AS1    A2M-AS1    A4GALT      AAAS      AACS  \\\nGSM5494930   9.356389  6.588705  10.086590  6.087023  8.855058  6.453003   \nGSM5494931   9.580217  6.861172   8.589913  5.958440  8.172307  6.070650   \nGSM5494932   9.920784  7.055549   9.467662  6.690681  8.768802  6.703954   \nGSM5494933   9.504974  6.792186   7.930585  5.814862  8.708854  6.803403   \nGSM5494934   9.533504  7.192053   9.596064  5.822462  8.534389  6.751145   \n...               ...       ...        ...       ...       ...       ...   \nGSM5495003   9.838970  7.523552   9.046983  6.697867  8.848680  7.336287   \nGSM5495004   9.807525  7.071518   8.999367  6.329302  8.456660  7.068365   \nGSM5495005   9.834407  7.480286   8.712552  6.283686  8.722496  7.056443   \nGSM5495006   9.777699  7.482379   9.702852  6.623779  8.856997  7.177422   \nGSM5495007  10.079459  7.548277   8.741175  6.797948  8.627950  7.043060   \n\n             AADACL3     AAED1     AAGAB      AAK1  ...  lnc-ZNF793-1  \\\nGSM5494930  6.644548  8.574442  9.746953  8.111067  ...      6.420560   \nGSM5494931  6.281522  8.541663  9.658012  8.342455  ...      6.511561   \nGSM5494932  7.138168  7.638004  9.096505  8.249213  ...      6.764327   \nGSM5494933  5.934699  8.047914  9.902677  7.866595  ...      6.066324   \nGSM5494934  6.999438  8.174029  8.589853  8.513349  ...      6.032859   \n...              ...       ...       ...       ...  ...           ...   \nGSM5495003  6.809151  7.955837  9.434334  7.995361  ...      6.433361   \nGSM5495004  6.736399  7.913941  9.067750  8.219228  ...      6.601839   \nGSM5495005  6.972152  7.971760  9.209239  8.263851  ...      6.731508   \nGSM5495006  7.021150  7.849326  9.143579  8.284696  ...      6.488209   \nGSM5495007  6.669368  8.171953  9.157761  8.271748  ...      6.408735   \n\n            lnc-ZNF8-1  lnc-ZNF831-1  lnc-ZNF841-1  lnc-ZNF843-2  \\\nGSM5494930    7.156187      4.720504      6.250489      5.531711   \nGSM5494931    7.407747      5.147163      6.689527      4.936741   \nGSM5494932    7.472050      4.954556      6.397341      5.161682   \nGSM5494933    6.668565      4.590746      6.018844      5.233187   \nGSM5494934    6.321767      4.847594      6.752275      5.003696   \n...                ...           ...           ...           ...   \nGSM5495003    7.141827      5.953371      6.947847      5.897761   \nGSM5495004    6.807179      5.784692      6.735757      6.228791   \nGSM5495005    7.110267      5.719551      6.957694      5.972672   \nGSM5495006    7.030179      5.915960      6.753858      6.172868   \nGSM5495007    6.924549      6.124091      6.885316      6.173623   \n\n            lnc-ZNHIT2-1  lnc-ZSCAN10-3  lnc-ZSWIM7-1  lnc-ZWINT-1  Obesity  \nGSM5494930      5.607097       7.013670      6.007648     9.925314      0.0  \nGSM5494931      5.791543       6.693026      6.502479     9.802190      1.0  \nGSM5494932      6.335014       7.191005      6.874584    10.175204      0.0  \nGSM5494933      5.384871       6.725039      5.865558     9.529888      1.0  \nGSM5494934      5.973129       7.409849      6.850505    10.499701      0.0  \n...                  ...            ...           ...          ...      ...  \nGSM5495003      6.316877       7.440641      6.708521     9.378073      0.0  \nGSM5495004      6.174487       7.127085      6.495594     9.405521      1.0  \nGSM5495005      6.467393       7.310862      6.807400     9.658181      1.0  \nGSM5495006      6.473956       7.866163      6.875553    10.306992      1.0  \nGSM5495007      6.487188       7.576826      6.596130     9.436735      0.0  \n\n[78 rows x 14172 columns]",
      "text/html": "<div>\n<style scoped>\n    .dataframe tbody tr th:only-of-type {\n        vertical-align: middle;\n    }\n\n    .dataframe tbody tr th {\n        vertical-align: top;\n    }\n\n    .dataframe thead th {\n        text-align: right;\n    }\n</style>\n<table border=\"1\" class=\"dataframe\">\n  <thead>\n    <tr style=\"text-align: right;\">\n      <th></th>\n      <th>A1BG</th>\n      <th>A1BG-AS1</th>\n      <th>A2M-AS1</th>\n      <th>A4GALT</th>\n      <th>AAAS</th>\n      <th>AACS</th>\n      <th>AADACL3</th>\n      <th>AAED1</th>\n      <th>AAGAB</th>\n      <th>AAK1</th>\n      <th>...</th>\n      <th>lnc-ZNF793-1</th>\n      <th>lnc-ZNF8-1</th>\n      <th>lnc-ZNF831-1</th>\n      <th>lnc-ZNF841-1</th>\n      <th>lnc-ZNF843-2</th>\n      <th>lnc-ZNHIT2-1</th>\n      <th>lnc-ZSCAN10-3</th>\n      <th>lnc-ZSWIM7-1</th>\n      <th>lnc-ZWINT-1</th>\n      <th>Obesity</th>\n    </tr>\n  </thead>\n  <tbody>\n    <tr>\n      <th>GSM5494930</th>\n      <td>9.356389</td>\n      <td>6.588705</td>\n      <td>10.086590</td>\n      <td>6.087023</td>\n      <td>8.855058</td>\n      <td>6.453003</td>\n      <td>6.644548</td>\n      <td>8.574442</td>\n      <td>9.746953</td>\n      <td>8.111067</td>\n      <td>...</td>\n      <td>6.420560</td>\n      <td>7.156187</td>\n      <td>4.720504</td>\n      <td>6.250489</td>\n      <td>5.531711</td>\n      <td>5.607097</td>\n      <td>7.013670</td>\n      <td>6.007648</td>\n      <td>9.925314</td>\n      <td>0.0</td>\n    </tr>\n    <tr>\n      <th>GSM5494931</th>\n      <td>9.580217</td>\n      <td>6.861172</td>\n      <td>8.589913</td>\n      <td>5.958440</td>\n      <td>8.172307</td>\n      <td>6.070650</td>\n      <td>6.281522</td>\n      <td>8.541663</td>\n      <td>9.658012</td>\n      <td>8.342455</td>\n      <td>...</td>\n      <td>6.511561</td>\n      <td>7.407747</td>\n      <td>5.147163</td>\n      <td>6.689527</td>\n      <td>4.936741</td>\n      <td>5.791543</td>\n      <td>6.693026</td>\n      <td>6.502479</td>\n      <td>9.802190</td>\n      <td>1.0</td>\n    </tr>\n    <tr>\n      <th>GSM5494932</th>\n      <td>9.920784</td>\n      <td>7.055549</td>\n      <td>9.467662</td>\n      <td>6.690681</td>\n      <td>8.768802</td>\n      <td>6.703954</td>\n      <td>7.138168</td>\n      <td>7.638004</td>\n      <td>9.096505</td>\n      <td>8.249213</td>\n      <td>...</td>\n      <td>6.764327</td>\n      <td>7.472050</td>\n      <td>4.954556</td>\n      <td>6.397341</td>\n      <td>5.161682</td>\n      <td>6.335014</td>\n      <td>7.191005</td>\n      <td>6.874584</td>\n      <td>10.175204</td>\n      <td>0.0</td>\n    </tr>\n    <tr>\n      <th>GSM5494933</th>\n      <td>9.504974</td>\n      <td>6.792186</td>\n      <td>7.930585</td>\n      <td>5.814862</td>\n      <td>8.708854</td>\n      <td>6.803403</td>\n      <td>5.934699</td>\n      <td>8.047914</td>\n      <td>9.902677</td>\n      <td>7.866595</td>\n      <td>...</td>\n      <td>6.066324</td>\n      <td>6.668565</td>\n      <td>4.590746</td>\n      <td>6.018844</td>\n      <td>5.233187</td>\n      <td>5.384871</td>\n      <td>6.725039</td>\n      <td>5.865558</td>\n      <td>9.529888</td>\n      <td>1.0</td>\n    </tr>\n    <tr>\n      <th>GSM5494934</th>\n      <td>9.533504</td>\n      <td>7.192053</td>\n      <td>9.596064</td>\n      <td>5.822462</td>\n      <td>8.534389</td>\n      <td>6.751145</td>\n      <td>6.999438</td>\n      <td>8.174029</td>\n      <td>8.589853</td>\n      <td>8.513349</td>\n      <td>...</td>\n      <td>6.032859</td>\n      <td>6.321767</td>\n      <td>4.847594</td>\n      <td>6.752275</td>\n      <td>5.003696</td>\n      <td>5.973129</td>\n      <td>7.409849</td>\n      <td>6.850505</td>\n      <td>10.499701</td>\n      <td>0.0</td>\n    </tr>\n    <tr>\n      <th>...</th>\n      <td>...</td>\n      <td>...</td>\n      <td>...</td>\n      <td>...</td>\n      <td>...</td>\n      <td>...</td>\n      <td>...</td>\n      <td>...</td>\n      <td>...</td>\n      <td>...</td>\n      <td>...</td>\n      <td>...</td>\n      <td>...</td>\n      <td>...</td>\n      <td>...</td>\n      <td>...</td>\n      <td>...</td>\n      <td>...</td>\n      <td>...</td>\n      <td>...</td>\n      <td>...</td>\n    </tr>\n    <tr>\n      <th>GSM5495003</th>\n      <td>9.838970</td>\n      <td>7.523552</td>\n      <td>9.046983</td>\n      <td>6.697867</td>\n      <td>8.848680</td>\n      <td>7.336287</td>\n      <td>6.809151</td>\n      <td>7.955837</td>\n      <td>9.434334</td>\n      <td>7.995361</td>\n      <td>...</td>\n      <td>6.433361</td>\n      <td>7.141827</td>\n      <td>5.953371</td>\n      <td>6.947847</td>\n      <td>5.897761</td>\n      <td>6.316877</td>\n      <td>7.440641</td>\n      <td>6.708521</td>\n      <td>9.378073</td>\n      <td>0.0</td>\n    </tr>\n    <tr>\n      <th>GSM5495004</th>\n      <td>9.807525</td>\n      <td>7.071518</td>\n      <td>8.999367</td>\n      <td>6.329302</td>\n      <td>8.456660</td>\n      <td>7.068365</td>\n      <td>6.736399</td>\n      <td>7.913941</td>\n      <td>9.067750</td>\n      <td>8.219228</td>\n      <td>...</td>\n      <td>6.601839</td>\n      <td>6.807179</td>\n      <td>5.784692</td>\n      <td>6.735757</td>\n      <td>6.228791</td>\n      <td>6.174487</td>\n      <td>7.127085</td>\n      <td>6.495594</td>\n      <td>9.405521</td>\n      <td>1.0</td>\n    </tr>\n    <tr>\n      <th>GSM5495005</th>\n      <td>9.834407</td>\n      <td>7.480286</td>\n      <td>8.712552</td>\n      <td>6.283686</td>\n      <td>8.722496</td>\n      <td>7.056443</td>\n      <td>6.972152</td>\n      <td>7.971760</td>\n      <td>9.209239</td>\n      <td>8.263851</td>\n      <td>...</td>\n      <td>6.731508</td>\n      <td>7.110267</td>\n      <td>5.719551</td>\n      <td>6.957694</td>\n      <td>5.972672</td>\n      <td>6.467393</td>\n      <td>7.310862</td>\n      <td>6.807400</td>\n      <td>9.658181</td>\n      <td>1.0</td>\n    </tr>\n    <tr>\n      <th>GSM5495006</th>\n      <td>9.777699</td>\n      <td>7.482379</td>\n      <td>9.702852</td>\n      <td>6.623779</td>\n      <td>8.856997</td>\n      <td>7.177422</td>\n      <td>7.021150</td>\n      <td>7.849326</td>\n      <td>9.143579</td>\n      <td>8.284696</td>\n      <td>...</td>\n      <td>6.488209</td>\n      <td>7.030179</td>\n      <td>5.915960</td>\n      <td>6.753858</td>\n      <td>6.172868</td>\n      <td>6.473956</td>\n      <td>7.866163</td>\n      <td>6.875553</td>\n      <td>10.306992</td>\n      <td>1.0</td>\n    </tr>\n    <tr>\n      <th>GSM5495007</th>\n      <td>10.079459</td>\n      <td>7.548277</td>\n      <td>8.741175</td>\n      <td>6.797948</td>\n      <td>8.627950</td>\n      <td>7.043060</td>\n      <td>6.669368</td>\n      <td>8.171953</td>\n      <td>9.157761</td>\n      <td>8.271748</td>\n      <td>...</td>\n      <td>6.408735</td>\n      <td>6.924549</td>\n      <td>6.124091</td>\n      <td>6.885316</td>\n      <td>6.173623</td>\n      <td>6.487188</td>\n      <td>7.576826</td>\n      <td>6.596130</td>\n      <td>9.436735</td>\n      <td>0.0</td>\n    </tr>\n  </tbody>\n</table>\n<p>78 rows × 14172 columns</p>\n</div>"
     },
     "execution_count": 33,
     "metadata": {},
     "output_type": "execute_result"
    }
   ],
   "source": [
    "condition_merged_data = condition_merged_data.T\n",
    "condition_merged_data"
   ],
   "metadata": {
    "collapsed": false,
    "ExecuteTime": {
     "end_time": "2023-12-25T20:26:55.824939545Z",
     "start_time": "2023-12-25T20:26:55.804453008Z"
    }
   }
  },
  {
   "cell_type": "markdown",
   "source": [
    "# 4. The First Stage Regression Analysis"
   ],
   "metadata": {
    "id": "8O_cTEZ-sN_X"
   }
  },
  {
   "cell_type": "markdown",
   "source": [
    "### Preliminary analysis for condition regression"
   ],
   "metadata": {
    "collapsed": false
   }
  },
  {
   "cell_type": "code",
   "source": [
    "condition_feature_cols = condition_merged_data.columns.tolist()[:-1]\n",
    "gene_list = [gene_regressors_for_condition[0]]  # Only show one gene\n",
    "\n",
    "# Sample usage:\n",
    "analyze_distributions(condition_merged_data, numerical_columns=[*gene_list], categorical_columns=[CONDITION])"
   ],
   "metadata": {
    "id": "hfmyfaFfuO-R",
    "colab": {
     "base_uri": "https://localhost:8080/",
     "height": 1000
    },
    "outputId": "43918237-8681-4125-b676-5f726a88d32c",
    "ExecuteTime": {
     "end_time": "2023-12-25T20:26:56.062942719Z",
     "start_time": "2023-12-25T20:26:55.804541523Z"
    }
   },
   "execution_count": 34,
   "outputs": [
    {
     "data": {
      "text/plain": "<Figure size 1000x600 with 1 Axes>",
      "image/png": "[encoded data removed]"
     },
     "metadata": {},
     "output_type": "display_data"
    },
    {
     "data": {
      "text/plain": "<Figure size 1000x600 with 1 Axes>",
      "image/png": "[encoded data removed]"
     },
     "metadata": {},
     "output_type": "display_data"
    }
   ]
  },
  {
   "cell_type": "markdown",
   "source": [
    "### Do Regression Over Gene Data for Condition"
   ],
   "metadata": {
    "id": "VhgEznRdzg7g"
   }
  },
  {
   "cell_type": "code",
   "execution_count": 35,
   "outputs": [
    {
     "name": "stdout",
     "output_type": "stream",
     "text": [
      "The cross-validation accuracy is 65.33% ± 6.53%\n"
     ]
    }
   ],
   "source": [
    "X_condition = condition_merged_data[gene_regressors_for_condition].values\n",
    "y_condition = condition_merged_data[CONDITION].values\n",
    "\n",
    "# X_condition, _ = normalize_data(X_condition)\n",
    "cv_mean, cv_std = cross_validation_with_lasso(X_condition, y_condition)\n",
    "\n",
    "print(f'The cross-validation accuracy is {(cv_mean * 100):.2f}% ± {(cv_std * 100):.2f}%')"
   ],
   "metadata": {
    "collapsed": false,
    "ExecuteTime": {
     "end_time": "2023-12-25T20:26:56.077134843Z",
     "start_time": "2023-12-25T20:26:56.028317117Z"
    }
   }
  },
  {
   "cell_type": "code",
   "source": [
    "# Select relevant columns and convert to numpy array\n",
    "print(\"Common gene regressors for condition and trait\", gene_regressors_for_condition)\n",
    "\n",
    "normalized_X_condition, _ = normalize_data(X_condition)\n",
    "\n",
    "model = LogisticRegression(penalty='l1', solver='liblinear', random_state=42)\n",
    "model.fit(normalized_X_condition, y_condition)"
   ],
   "metadata": {
    "colab": {
     "base_uri": "https://localhost:8080/",
     "height": 92
    },
    "id": "zS-KDjlji_cy",
    "outputId": "751ead6a-352c-453e-ba8f-dd0ad813f5ae",
    "ExecuteTime": {
     "end_time": "2023-12-25T20:26:56.077297817Z",
     "start_time": "2023-12-25T20:26:56.064317460Z"
    }
   },
   "execution_count": 36,
   "outputs": [
    {
     "name": "stdout",
     "output_type": "stream",
     "text": [
      "Common gene regressors for condition and trait ['POMC', 'ADCY3']\n"
     ]
    },
    {
     "data": {
      "text/plain": "LogisticRegression(penalty='l1', random_state=42, solver='liblinear')",
      "text/html": "<style>#sk-container-id-1 {color: black;}#sk-container-id-1 pre{padding: 0;}#sk-container-id-1 div.sk-toggleable {background-color: white;}#sk-container-id-1 label.sk-toggleable__label {cursor: pointer;display: block;width: 100%;margin-bottom: 0;padding: 0.3em;box-sizing: border-box;text-align: center;}#sk-container-id-1 label.sk-toggleable__label-arrow:before {content: \"▸\";float: left;margin-right: 0.25em;color: #696969;}#sk-container-id-1 label.sk-toggleable__label-arrow:hover:before {color: black;}#sk-container-id-1 div.sk-estimator:hover label.sk-toggleable__label-arrow:before {color: black;}#sk-container-id-1 div.sk-toggleable__content {max-height: 0;max-width: 0;overflow: hidden;text-align: left;background-color: #f0f8ff;}#sk-container-id-1 div.sk-toggleable__content pre {margin: 0.2em;color: black;border-radius: 0.25em;background-color: #f0f8ff;}#sk-container-id-1 input.sk-toggleable__control:checked~div.sk-toggleable__content {max-height: 200px;max-width: 100%;overflow: auto;}#sk-container-id-1 input.sk-toggleable__control:checked~label.sk-toggleable__label-arrow:before {content: \"▾\";}#sk-container-id-1 div.sk-estimator input.sk-toggleable__control:checked~label.sk-toggleable__label {background-color: #d4ebff;}#sk-container-id-1 div.sk-label input.sk-toggleable__control:checked~label.sk-toggleable__label {background-color: #d4ebff;}#sk-container-id-1 input.sk-hidden--visually {border: 0;clip: rect(1px 1px 1px 1px);clip: rect(1px, 1px, 1px, 1px);height: 1px;margin: -1px;overflow: hidden;padding: 0;position: absolute;width: 1px;}#sk-container-id-1 div.sk-estimator {font-family: monospace;background-color: #f0f8ff;border: 1px dotted black;border-radius: 0.25em;box-sizing: border-box;margin-bottom: 0.5em;}#sk-container-id-1 div.sk-estimator:hover {background-color: #d4ebff;}#sk-container-id-1 div.sk-parallel-item::after {content: \"\";width: 100%;border-bottom: 1px solid gray;flex-grow: 1;}#sk-container-id-1 div.sk-label:hover label.sk-toggleable__label {background-color: #d4ebff;}#sk-container-id-1 div.sk-serial::before {content: \"\";position: absolute;border-left: 1px solid gray;box-sizing: border-box;top: 0;bottom: 0;left: 50%;z-index: 0;}#sk-container-id-1 div.sk-serial {display: flex;flex-direction: column;align-items: center;background-color: white;padding-right: 0.2em;padding-left: 0.2em;position: relative;}#sk-container-id-1 div.sk-item {position: relative;z-index: 1;}#sk-container-id-1 div.sk-parallel {display: flex;align-items: stretch;justify-content: center;background-color: white;position: relative;}#sk-container-id-1 div.sk-item::before, #sk-container-id-1 div.sk-parallel-item::before {content: \"\";position: absolute;border-left: 1px solid gray;box-sizing: border-box;top: 0;bottom: 0;left: 50%;z-index: -1;}#sk-container-id-1 div.sk-parallel-item {display: flex;flex-direction: column;z-index: 1;position: relative;background-color: white;}#sk-container-id-1 div.sk-parallel-item:first-child::after {align-self: flex-end;width: 50%;}#sk-container-id-1 div.sk-parallel-item:last-child::after {align-self: flex-start;width: 50%;}#sk-container-id-1 div.sk-parallel-item:only-child::after {width: 0;}#sk-container-id-1 div.sk-dashed-wrapped {border: 1px dashed gray;margin: 0 0.4em 0.5em 0.4em;box-sizing: border-box;padding-bottom: 0.4em;background-color: white;}#sk-container-id-1 div.sk-label label {font-family: monospace;font-weight: bold;display: inline-block;line-height: 1.2em;}#sk-container-id-1 div.sk-label-container {text-align: center;}#sk-container-id-1 div.sk-container {/* jupyter's `normalize.less` sets `[hidden] { display: none; }` but bootstrap.min.css set `[hidden] { display: none !important; }` so we also need the `!important` here to be able to override the default hidden behavior on the sphinx rendered scikit-learn.org. See: https://github.com/scikit-learn/scikit-learn/issues/21755 */display: inline-block !important;position: relative;}#sk-container-id-1 div.sk-text-repr-fallback {display: none;}</style><div id=\"sk-container-id-1\" class=\"sk-top-container\"><div class=\"sk-text-repr-fallback\"><pre>LogisticRegression(penalty=&#x27;l1&#x27;, random_state=42, solver=&#x27;liblinear&#x27;)</pre><b>In a Jupyter environment, please rerun this cell to show the HTML representation or trust the notebook. <br />On GitHub, the HTML representation is unable to render, please try loading this page with nbviewer.org.</b></div><div class=\"sk-container\" hidden><div class=\"sk-item\"><div class=\"sk-estimator sk-toggleable\"><input class=\"sk-toggleable__control sk-hidden--visually\" id=\"sk-estimator-id-1\" type=\"checkbox\" checked><label for=\"sk-estimator-id-1\" class=\"sk-toggleable__label sk-toggleable__label-arrow\">LogisticRegression</label><div class=\"sk-toggleable__content\"><pre>LogisticRegression(penalty=&#x27;l1&#x27;, random_state=42, solver=&#x27;liblinear&#x27;)</pre></div></div></div></div></div>"
     },
     "execution_count": 36,
     "metadata": {},
     "output_type": "execute_result"
    }
   ]
  },
  {
   "cell_type": "markdown",
   "source": [
    "### Condition Prediction"
   ],
   "metadata": {
    "id": "1hesV8D58VXW"
   }
  },
  {
   "cell_type": "code",
   "source": [
    "# Select relevant columns and convert to numpy array\n",
    "regressors_in_trait = trait_merged_data[gene_regressors_for_condition].values\n",
    "normalized_regressors_in_trait, _ = normalize_data(regressors_in_trait)\n",
    "predicted_condition = model.predict_proba(normalized_regressors_in_trait)[:, 1]"
   ],
   "metadata": {
    "id": "azEqAitI8uU_",
    "colab": {
     "base_uri": "https://localhost:8080/"
    },
    "outputId": "e569394f-81f3-4241-be3a-d1275b459985",
    "ExecuteTime": {
     "end_time": "2023-12-25T20:26:56.077348952Z",
     "start_time": "2023-12-25T20:26:56.064401617Z"
    }
   },
   "execution_count": 37,
   "outputs": []
  },
  {
   "cell_type": "code",
   "source": [
    "#Add the predicted condition to the gene data for trait\n",
    "trait_merged_data.insert(0, CONDITION, predicted_condition)\n",
    "trait_merged_data = trait_merged_data.drop(columns=gene_regressors_for_condition)\n",
    "trait_merged_data.head()"
   ],
   "metadata": {
    "id": "wmQdncstwUY1",
    "colab": {
     "base_uri": "https://localhost:8080/",
     "height": 392
    },
    "outputId": "166eb67a-25bd-411d-a71b-3d80fc416cb9",
    "ExecuteTime": {
     "end_time": "2023-12-25T20:26:56.077441344Z",
     "start_time": "2023-12-25T20:26:56.064437203Z"
    }
   },
   "execution_count": 38,
   "outputs": [
    {
     "data": {
      "text/plain": "             Obesity      A1BG      A1CF     A2BP1     A2LD1       A2M  \\\nGSM6216198  0.672132  0.498235  0.909286  0.697852  0.849571  0.803357   \nGSM6216199  0.690948  0.479765  0.900571  0.702369  0.864786  0.831571   \nGSM6216200  0.671753  0.490882  0.900000  0.692183  0.846429  0.814643   \nGSM6216201  0.697817  0.527765  0.900857  0.684736  0.859429  0.771929   \nGSM6216202  0.695657  0.485706  0.895857  0.680550  0.820357  0.776429   \n\n               A2ML1    A4GALT     A4GNT    AAA1  ...    ZXDB      ZXDC  \\\nGSM6216198  0.881167  0.454591  0.887167  0.9117  ...  0.5251  0.332605   \nGSM6216199  0.874278  0.437136  0.895333  0.9172  ...  0.2783  0.323442   \nGSM6216200  0.844056  0.437409  0.872500  0.9123  ...  0.3173  0.331791   \nGSM6216201  0.903000  0.440500  0.804333  0.8902  ...  0.6069  0.332116   \nGSM6216202  0.838000  0.438864  0.842500  0.8885  ...  0.4872  0.325698   \n\n              ZYG11A    ZYG11B       ZYX     ZZEF1      ZZZ3  psiTPTE22  \\\nGSM6216198  0.554000  0.519077  0.365947  0.522561  0.162056   0.225000   \nGSM6216199  0.559333  0.517308  0.375368  0.512585  0.139722   0.240278   \nGSM6216200  0.558600  0.508000  0.368316  0.517439  0.149056   0.240167   \nGSM6216201  0.560267  0.528846  0.317737  0.517293  0.157000   0.236278   \nGSM6216202  0.546733  0.519769  0.356000  0.514829  0.158444   0.246667   \n\n             tAKR  Epilepsy  \nGSM6216198  0.919       1.0  \nGSM6216199  0.934       1.0  \nGSM6216200  0.897       1.0  \nGSM6216201  0.933       1.0  \nGSM6216202  0.931       1.0  \n\n[5 rows x 21214 columns]",
      "text/html": "<div>\n<style scoped>\n    .dataframe tbody tr th:only-of-type {\n        vertical-align: middle;\n    }\n\n    .dataframe tbody tr th {\n        vertical-align: top;\n    }\n\n    .dataframe thead th {\n        text-align: right;\n    }\n</style>\n<table border=\"1\" class=\"dataframe\">\n  <thead>\n    <tr style=\"text-align: right;\">\n      <th></th>\n      <th>Obesity</th>\n      <th>A1BG</th>\n      <th>A1CF</th>\n      <th>A2BP1</th>\n      <th>A2LD1</th>\n      <th>A2M</th>\n      <th>A2ML1</th>\n      <th>A4GALT</th>\n      <th>A4GNT</th>\n      <th>AAA1</th>\n      <th>...</th>\n      <th>ZXDB</th>\n      <th>ZXDC</th>\n      <th>ZYG11A</th>\n      <th>ZYG11B</th>\n      <th>ZYX</th>\n      <th>ZZEF1</th>\n      <th>ZZZ3</th>\n      <th>psiTPTE22</th>\n      <th>tAKR</th>\n      <th>Epilepsy</th>\n    </tr>\n  </thead>\n  <tbody>\n    <tr>\n      <th>GSM6216198</th>\n      <td>0.672132</td>\n      <td>0.498235</td>\n      <td>0.909286</td>\n      <td>0.697852</td>\n      <td>0.849571</td>\n      <td>0.803357</td>\n      <td>0.881167</td>\n      <td>0.454591</td>\n      <td>0.887167</td>\n      <td>0.9117</td>\n      <td>...</td>\n      <td>0.5251</td>\n      <td>0.332605</td>\n      <td>0.554000</td>\n      <td>0.519077</td>\n      <td>0.365947</td>\n      <td>0.522561</td>\n      <td>0.162056</td>\n      <td>0.225000</td>\n      <td>0.919</td>\n      <td>1.0</td>\n    </tr>\n    <tr>\n      <th>GSM6216199</th>\n      <td>0.690948</td>\n      <td>0.479765</td>\n      <td>0.900571</td>\n      <td>0.702369</td>\n      <td>0.864786</td>\n      <td>0.831571</td>\n      <td>0.874278</td>\n      <td>0.437136</td>\n      <td>0.895333</td>\n      <td>0.9172</td>\n      <td>...</td>\n      <td>0.2783</td>\n      <td>0.323442</td>\n      <td>0.559333</td>\n      <td>0.517308</td>\n      <td>0.375368</td>\n      <td>0.512585</td>\n      <td>0.139722</td>\n      <td>0.240278</td>\n      <td>0.934</td>\n      <td>1.0</td>\n    </tr>\n    <tr>\n      <th>GSM6216200</th>\n      <td>0.671753</td>\n      <td>0.490882</td>\n      <td>0.900000</td>\n      <td>0.692183</td>\n      <td>0.846429</td>\n      <td>0.814643</td>\n      <td>0.844056</td>\n      <td>0.437409</td>\n      <td>0.872500</td>\n      <td>0.9123</td>\n      <td>...</td>\n      <td>0.3173</td>\n      <td>0.331791</td>\n      <td>0.558600</td>\n      <td>0.508000</td>\n      <td>0.368316</td>\n      <td>0.517439</td>\n      <td>0.149056</td>\n      <td>0.240167</td>\n      <td>0.897</td>\n      <td>1.0</td>\n    </tr>\n    <tr>\n      <th>GSM6216201</th>\n      <td>0.697817</td>\n      <td>0.527765</td>\n      <td>0.900857</td>\n      <td>0.684736</td>\n      <td>0.859429</td>\n      <td>0.771929</td>\n      <td>0.903000</td>\n      <td>0.440500</td>\n      <td>0.804333</td>\n      <td>0.8902</td>\n      <td>...</td>\n      <td>0.6069</td>\n      <td>0.332116</td>\n      <td>0.560267</td>\n      <td>0.528846</td>\n      <td>0.317737</td>\n      <td>0.517293</td>\n      <td>0.157000</td>\n      <td>0.236278</td>\n      <td>0.933</td>\n      <td>1.0</td>\n    </tr>\n    <tr>\n      <th>GSM6216202</th>\n      <td>0.695657</td>\n      <td>0.485706</td>\n      <td>0.895857</td>\n      <td>0.680550</td>\n      <td>0.820357</td>\n      <td>0.776429</td>\n      <td>0.838000</td>\n      <td>0.438864</td>\n      <td>0.842500</td>\n      <td>0.8885</td>\n      <td>...</td>\n      <td>0.4872</td>\n      <td>0.325698</td>\n      <td>0.546733</td>\n      <td>0.519769</td>\n      <td>0.356000</td>\n      <td>0.514829</td>\n      <td>0.158444</td>\n      <td>0.246667</td>\n      <td>0.931</td>\n      <td>1.0</td>\n    </tr>\n  </tbody>\n</table>\n<p>5 rows × 21214 columns</p>\n</div>"
     },
     "execution_count": 38,
     "metadata": {},
     "output_type": "execute_result"
    }
   ]
  },
  {
   "cell_type": "markdown",
   "source": [
    "# 5. The Second Stage Regression Analysis"
   ],
   "metadata": {
    "collapsed": false
   }
  },
  {
   "cell_type": "markdown",
   "source": [
    "###  Preliminary analysis for trait regression"
   ],
   "metadata": {
    "id": "egyEXi3PSivo"
   }
  },
  {
   "cell_type": "code",
   "execution_count": 40,
   "outputs": [
    {
     "data": {
      "text/plain": "<Figure size 1000x600 with 1 Axes>",
      "image/png": "[encoded data removed]"
     },
     "metadata": {},
     "output_type": "display_data"
    },
    {
     "data": {
      "text/plain": "<Figure size 1000x600 with 1 Axes>",
      "image/png": "[encoded data removed]"
     },
     "metadata": {},
     "output_type": "display_data"
    },
    {
     "data": {
      "text/plain": "<Figure size 1000x600 with 1 Axes>",
      "image/png": "[encoded data removed]"
     },
     "metadata": {},
     "output_type": "display_data"
    }
   ],
   "source": [
    "trait_feature_cols = trait_merged_data.columns.tolist()\n",
    "trait_feature_cols.remove(TRAIT)\n",
    "gene_list = [trait_feature_cols[1]]\n",
    "\n",
    "# Sample usage:\n",
    "analyze_distributions(trait_merged_data, numerical_columns=[CONDITION, *gene_list], categorical_columns=[TRAIT])"
   ],
   "metadata": {
    "collapsed": false,
    "ExecuteTime": {
     "end_time": "2023-12-25T20:26:56.426577964Z",
     "start_time": "2023-12-25T20:26:56.066397123Z"
    }
   }
  },
  {
   "cell_type": "markdown",
   "source": [
    "## Do Regression & Cross Validation Over Gene Data for Trait"
   ],
   "metadata": {
    "id": "wcraPrK3Tw5y"
   }
  },
  {
   "cell_type": "code",
   "source": [
    "# Select relevant columns and convert to numpy array\n",
    "X_trait = trait_merged_data.drop(columns=[TRAIT]).values\n",
    "y_trait = trait_merged_data[TRAIT].values\n",
    "cv_mean, cv_std = cross_validation_with_lmm(X_trait, y_trait)\n",
    "print(f'The cross-validation accuracy is {(cv_mean * 100):.2f}% ± {(cv_std * 100):.2f}%')"
   ],
   "metadata": {
    "id": "qspA7f_RT04v",
    "colab": {
     "base_uri": "https://localhost:8080/"
    },
    "outputId": "da2e3475-d538-4bc3-873c-edfde5b275f5",
    "ExecuteTime": {
     "end_time": "2023-12-25T20:27:10.773804998Z",
     "start_time": "2023-12-25T20:26:56.430497664Z"
    }
   },
   "execution_count": 41,
   "outputs": [
    {
     "name": "stdout",
     "output_type": "stream",
     "text": [
      "The cross-validation accuracy is 66.67% ± 17.21%\n"
     ]
    }
   ]
  },
  {
   "cell_type": "code",
   "source": [
    "trait_merged_data"
   ],
   "metadata": {
    "colab": {
     "base_uri": "https://localhost:8080/",
     "height": 392
    },
    "id": "hhOazoiTuFqp",
    "outputId": "299b41cf-717b-4b7e-e6a5-dcd770075972",
    "ExecuteTime": {
     "end_time": "2023-12-25T20:27:10.787504043Z",
     "start_time": "2023-12-25T20:27:10.784948112Z"
    }
   },
   "execution_count": 42,
   "outputs": [
    {
     "data": {
      "text/plain": "             Obesity      A1BG      A1CF     A2BP1     A2LD1       A2M  \\\nGSM6216198  0.672132  0.498235  0.909286  0.697852  0.849571  0.803357   \nGSM6216199  0.690948  0.479765  0.900571  0.702369  0.864786  0.831571   \nGSM6216200  0.671753  0.490882  0.900000  0.692183  0.846429  0.814643   \nGSM6216201  0.697817  0.527765  0.900857  0.684736  0.859429  0.771929   \nGSM6216202  0.695657  0.485706  0.895857  0.680550  0.820357  0.776429   \nGSM6216203  0.750267  0.464529  0.896857  0.679555  0.849429  0.788929   \nGSM6216204  0.497300  0.543765  0.905286  0.668049  0.842357  0.796500   \nGSM6216205  0.534365  0.530529  0.895000  0.678844  0.860214  0.821571   \nGSM6216206  0.496768  0.541882  0.920143  0.676294  0.848786  0.805357   \nGSM6216207  0.637629  0.558471  0.877429  0.700736  0.872500  0.852857   \nGSM6216208  0.517164  0.476412  0.923143  0.665647  0.824286  0.802286   \nGSM6216209  0.563605  0.501294  0.889286  0.671097  0.853857  0.829857   \nGSM6216210  0.564269  0.538529  0.901143  0.694181  0.863643  0.840714   \nGSM6216211  0.498032  0.491588  0.911286  0.677919  0.849214  0.809357   \nGSM6216212  0.545018  0.561706  0.924571  0.680633  0.848429  0.828786   \n\n               A2ML1    A4GALT     A4GNT    AAA1  ...    ZXDB      ZXDC  \\\nGSM6216198  0.881167  0.454591  0.887167  0.9117  ...  0.5251  0.332605   \nGSM6216199  0.874278  0.437136  0.895333  0.9172  ...  0.2783  0.323442   \nGSM6216200  0.844056  0.437409  0.872500  0.9123  ...  0.3173  0.331791   \nGSM6216201  0.903000  0.440500  0.804333  0.8902  ...  0.6069  0.332116   \nGSM6216202  0.838000  0.438864  0.842500  0.8885  ...  0.4872  0.325698   \nGSM6216203  0.863778  0.444364  0.863500  0.9017  ...  0.2949  0.322256   \nGSM6216204  0.889667  0.452727  0.876833  0.9155  ...  0.4943  0.327953   \nGSM6216205  0.890611  0.449409  0.875167  0.9178  ...  0.2748  0.323163   \nGSM6216206  0.851278  0.459182  0.860833  0.9167  ...  0.5138  0.336093   \nGSM6216207  0.864000  0.434091  0.912667  0.9123  ...  0.2312  0.346721   \nGSM6216208  0.875444  0.458727  0.859500  0.9000  ...  0.3280  0.325977   \nGSM6216209  0.853667  0.458227  0.878167  0.9207  ...  0.3379  0.310116   \nGSM6216210  0.884611  0.448136  0.886333  0.9113  ...  0.2945  0.330674   \nGSM6216211  0.887444  0.454500  0.877667  0.9149  ...  0.3454  0.344326   \nGSM6216212  0.905944  0.456045  0.863667  0.9242  ...  0.3608  0.336767   \n\n              ZYG11A    ZYG11B       ZYX     ZZEF1      ZZZ3  psiTPTE22  \\\nGSM6216198  0.554000  0.519077  0.365947  0.522561  0.162056   0.225000   \nGSM6216199  0.559333  0.517308  0.375368  0.512585  0.139722   0.240278   \nGSM6216200  0.558600  0.508000  0.368316  0.517439  0.149056   0.240167   \nGSM6216201  0.560267  0.528846  0.317737  0.517293  0.157000   0.236278   \nGSM6216202  0.546733  0.519769  0.356000  0.514829  0.158444   0.246667   \nGSM6216203  0.548467  0.514000  0.364158  0.513976  0.133444   0.226056   \nGSM6216204  0.554667  0.507000  0.332474  0.512585  0.152444   0.231111   \nGSM6216205  0.553467  0.500308  0.347474  0.516390  0.150389   0.227222   \nGSM6216206  0.566867  0.526615  0.327684  0.525683  0.160889   0.229278   \nGSM6216207  0.576800  0.506615  0.386579  0.515854  0.128111   0.241389   \nGSM6216208  0.561333  0.500000  0.337632  0.508488  0.168667   0.227444   \nGSM6216209  0.564667  0.505538  0.343053  0.518878  0.151000   0.211278   \nGSM6216210  0.551600  0.495692  0.359895  0.521488  0.143611   0.241222   \nGSM6216211  0.561067  0.513385  0.356947  0.514780  0.143611   0.240611   \nGSM6216212  0.544867  0.528462  0.332947  0.520976  0.155500   0.230611   \n\n             tAKR  Epilepsy  \nGSM6216198  0.919       1.0  \nGSM6216199  0.934       1.0  \nGSM6216200  0.897       1.0  \nGSM6216201  0.933       1.0  \nGSM6216202  0.931       1.0  \nGSM6216203  0.950       1.0  \nGSM6216204  0.943       0.0  \nGSM6216205  0.939       0.0  \nGSM6216206  0.955       0.0  \nGSM6216207  0.958       0.0  \nGSM6216208  0.920       0.0  \nGSM6216209  0.968       0.0  \nGSM6216210  0.943       0.0  \nGSM6216211  0.908       0.0  \nGSM6216212  0.933       0.0  \n\n[15 rows x 21214 columns]",
      "text/html": "<div>\n<style scoped>\n    .dataframe tbody tr th:only-of-type {\n        vertical-align: middle;\n    }\n\n    .dataframe tbody tr th {\n        vertical-align: top;\n    }\n\n    .dataframe thead th {\n        text-align: right;\n    }\n</style>\n<table border=\"1\" class=\"dataframe\">\n  <thead>\n    <tr style=\"text-align: right;\">\n      <th></th>\n      <th>Obesity</th>\n      <th>A1BG</th>\n      <th>A1CF</th>\n      <th>A2BP1</th>\n      <th>A2LD1</th>\n      <th>A2M</th>\n      <th>A2ML1</th>\n      <th>A4GALT</th>\n      <th>A4GNT</th>\n      <th>AAA1</th>\n      <th>...</th>\n      <th>ZXDB</th>\n      <th>ZXDC</th>\n      <th>ZYG11A</th>\n      <th>ZYG11B</th>\n      <th>ZYX</th>\n      <th>ZZEF1</th>\n      <th>ZZZ3</th>\n      <th>psiTPTE22</th>\n      <th>tAKR</th>\n      <th>Epilepsy</th>\n    </tr>\n  </thead>\n  <tbody>\n    <tr>\n      <th>GSM6216198</th>\n      <td>0.672132</td>\n      <td>0.498235</td>\n      <td>0.909286</td>\n      <td>0.697852</td>\n      <td>0.849571</td>\n      <td>0.803357</td>\n      <td>0.881167</td>\n      <td>0.454591</td>\n      <td>0.887167</td>\n      <td>0.9117</td>\n      <td>...</td>\n      <td>0.5251</td>\n      <td>0.332605</td>\n      <td>0.554000</td>\n      <td>0.519077</td>\n      <td>0.365947</td>\n      <td>0.522561</td>\n      <td>0.162056</td>\n      <td>0.225000</td>\n      <td>0.919</td>\n      <td>1.0</td>\n    </tr>\n    <tr>\n      <th>GSM6216199</th>\n      <td>0.690948</td>\n      <td>0.479765</td>\n      <td>0.900571</td>\n      <td>0.702369</td>\n      <td>0.864786</td>\n      <td>0.831571</td>\n      <td>0.874278</td>\n      <td>0.437136</td>\n      <td>0.895333</td>\n      <td>0.9172</td>\n      <td>...</td>\n      <td>0.2783</td>\n      <td>0.323442</td>\n      <td>0.559333</td>\n      <td>0.517308</td>\n      <td>0.375368</td>\n      <td>0.512585</td>\n      <td>0.139722</td>\n      <td>0.240278</td>\n      <td>0.934</td>\n      <td>1.0</td>\n    </tr>\n    <tr>\n      <th>GSM6216200</th>\n      <td>0.671753</td>\n      <td>0.490882</td>\n      <td>0.900000</td>\n      <td>0.692183</td>\n      <td>0.846429</td>\n      <td>0.814643</td>\n      <td>0.844056</td>\n      <td>0.437409</td>\n      <td>0.872500</td>\n      <td>0.9123</td>\n      <td>...</td>\n      <td>0.3173</td>\n      <td>0.331791</td>\n      <td>0.558600</td>\n      <td>0.508000</td>\n      <td>0.368316</td>\n      <td>0.517439</td>\n      <td>0.149056</td>\n      <td>0.240167</td>\n      <td>0.897</td>\n      <td>1.0</td>\n    </tr>\n    <tr>\n      <th>GSM6216201</th>\n      <td>0.697817</td>\n      <td>0.527765</td>\n      <td>0.900857</td>\n      <td>0.684736</td>\n      <td>0.859429</td>\n      <td>0.771929</td>\n      <td>0.903000</td>\n      <td>0.440500</td>\n      <td>0.804333</td>\n      <td>0.8902</td>\n      <td>...</td>\n      <td>0.6069</td>\n      <td>0.332116</td>\n      <td>0.560267</td>\n      <td>0.528846</td>\n      <td>0.317737</td>\n      <td>0.517293</td>\n      <td>0.157000</td>\n      <td>0.236278</td>\n      <td>0.933</td>\n      <td>1.0</td>\n    </tr>\n    <tr>\n      <th>GSM6216202</th>\n      <td>0.695657</td>\n      <td>0.485706</td>\n      <td>0.895857</td>\n      <td>0.680550</td>\n      <td>0.820357</td>\n      <td>0.776429</td>\n      <td>0.838000</td>\n      <td>0.438864</td>\n      <td>0.842500</td>\n      <td>0.8885</td>\n      <td>...</td>\n      <td>0.4872</td>\n      <td>0.325698</td>\n      <td>0.546733</td>\n      <td>0.519769</td>\n      <td>0.356000</td>\n      <td>0.514829</td>\n      <td>0.158444</td>\n      <td>0.246667</td>\n      <td>0.931</td>\n      <td>1.0</td>\n    </tr>\n    <tr>\n      <th>GSM6216203</th>\n      <td>0.750267</td>\n      <td>0.464529</td>\n      <td>0.896857</td>\n      <td>0.679555</td>\n      <td>0.849429</td>\n      <td>0.788929</td>\n      <td>0.863778</td>\n      <td>0.444364</td>\n      <td>0.863500</td>\n      <td>0.9017</td>\n      <td>...</td>\n      <td>0.2949</td>\n      <td>0.322256</td>\n      <td>0.548467</td>\n      <td>0.514000</td>\n      <td>0.364158</td>\n      <td>0.513976</td>\n      <td>0.133444</td>\n      <td>0.226056</td>\n      <td>0.950</td>\n      <td>1.0</td>\n    </tr>\n    <tr>\n      <th>GSM6216204</th>\n      <td>0.497300</td>\n      <td>0.543765</td>\n      <td>0.905286</td>\n      <td>0.668049</td>\n      <td>0.842357</td>\n      <td>0.796500</td>\n      <td>0.889667</td>\n      <td>0.452727</td>\n      <td>0.876833</td>\n      <td>0.9155</td>\n      <td>...</td>\n      <td>0.4943</td>\n      <td>0.327953</td>\n      <td>0.554667</td>\n      <td>0.507000</td>\n      <td>0.332474</td>\n      <td>0.512585</td>\n      <td>0.152444</td>\n      <td>0.231111</td>\n      <td>0.943</td>\n      <td>0.0</td>\n    </tr>\n    <tr>\n      <th>GSM6216205</th>\n      <td>0.534365</td>\n      <td>0.530529</td>\n      <td>0.895000</td>\n      <td>0.678844</td>\n      <td>0.860214</td>\n      <td>0.821571</td>\n      <td>0.890611</td>\n      <td>0.449409</td>\n      <td>0.875167</td>\n      <td>0.9178</td>\n      <td>...</td>\n      <td>0.2748</td>\n      <td>0.323163</td>\n      <td>0.553467</td>\n      <td>0.500308</td>\n      <td>0.347474</td>\n      <td>0.516390</td>\n      <td>0.150389</td>\n      <td>0.227222</td>\n      <td>0.939</td>\n      <td>0.0</td>\n    </tr>\n    <tr>\n      <th>GSM6216206</th>\n      <td>0.496768</td>\n      <td>0.541882</td>\n      <td>0.920143</td>\n      <td>0.676294</td>\n      <td>0.848786</td>\n      <td>0.805357</td>\n      <td>0.851278</td>\n      <td>0.459182</td>\n      <td>0.860833</td>\n      <td>0.9167</td>\n      <td>...</td>\n      <td>0.5138</td>\n      <td>0.336093</td>\n      <td>0.566867</td>\n      <td>0.526615</td>\n      <td>0.327684</td>\n      <td>0.525683</td>\n      <td>0.160889</td>\n      <td>0.229278</td>\n      <td>0.955</td>\n      <td>0.0</td>\n    </tr>\n    <tr>\n      <th>GSM6216207</th>\n      <td>0.637629</td>\n      <td>0.558471</td>\n      <td>0.877429</td>\n      <td>0.700736</td>\n      <td>0.872500</td>\n      <td>0.852857</td>\n      <td>0.864000</td>\n      <td>0.434091</td>\n      <td>0.912667</td>\n      <td>0.9123</td>\n      <td>...</td>\n      <td>0.2312</td>\n      <td>0.346721</td>\n      <td>0.576800</td>\n      <td>0.506615</td>\n      <td>0.386579</td>\n      <td>0.515854</td>\n      <td>0.128111</td>\n      <td>0.241389</td>\n      <td>0.958</td>\n      <td>0.0</td>\n    </tr>\n    <tr>\n      <th>GSM6216208</th>\n      <td>0.517164</td>\n      <td>0.476412</td>\n      <td>0.923143</td>\n      <td>0.665647</td>\n      <td>0.824286</td>\n      <td>0.802286</td>\n      <td>0.875444</td>\n      <td>0.458727</td>\n      <td>0.859500</td>\n      <td>0.9000</td>\n      <td>...</td>\n      <td>0.3280</td>\n      <td>0.325977</td>\n      <td>0.561333</td>\n      <td>0.500000</td>\n      <td>0.337632</td>\n      <td>0.508488</td>\n      <td>0.168667</td>\n      <td>0.227444</td>\n      <td>0.920</td>\n      <td>0.0</td>\n    </tr>\n    <tr>\n      <th>GSM6216209</th>\n      <td>0.563605</td>\n      <td>0.501294</td>\n      <td>0.889286</td>\n      <td>0.671097</td>\n      <td>0.853857</td>\n      <td>0.829857</td>\n      <td>0.853667</td>\n      <td>0.458227</td>\n      <td>0.878167</td>\n      <td>0.9207</td>\n      <td>...</td>\n      <td>0.3379</td>\n      <td>0.310116</td>\n      <td>0.564667</td>\n      <td>0.505538</td>\n      <td>0.343053</td>\n      <td>0.518878</td>\n      <td>0.151000</td>\n      <td>0.211278</td>\n      <td>0.968</td>\n      <td>0.0</td>\n    </tr>\n    <tr>\n      <th>GSM6216210</th>\n      <td>0.564269</td>\n      <td>0.538529</td>\n      <td>0.901143</td>\n      <td>0.694181</td>\n      <td>0.863643</td>\n      <td>0.840714</td>\n      <td>0.884611</td>\n      <td>0.448136</td>\n      <td>0.886333</td>\n      <td>0.9113</td>\n      <td>...</td>\n      <td>0.2945</td>\n      <td>0.330674</td>\n      <td>0.551600</td>\n      <td>0.495692</td>\n      <td>0.359895</td>\n      <td>0.521488</td>\n      <td>0.143611</td>\n      <td>0.241222</td>\n      <td>0.943</td>\n      <td>0.0</td>\n    </tr>\n    <tr>\n      <th>GSM6216211</th>\n      <td>0.498032</td>\n      <td>0.491588</td>\n      <td>0.911286</td>\n      <td>0.677919</td>\n      <td>0.849214</td>\n      <td>0.809357</td>\n      <td>0.887444</td>\n      <td>0.454500</td>\n      <td>0.877667</td>\n      <td>0.9149</td>\n      <td>...</td>\n      <td>0.3454</td>\n      <td>0.344326</td>\n      <td>0.561067</td>\n      <td>0.513385</td>\n      <td>0.356947</td>\n      <td>0.514780</td>\n      <td>0.143611</td>\n      <td>0.240611</td>\n      <td>0.908</td>\n      <td>0.0</td>\n    </tr>\n    <tr>\n      <th>GSM6216212</th>\n      <td>0.545018</td>\n      <td>0.561706</td>\n      <td>0.924571</td>\n      <td>0.680633</td>\n      <td>0.848429</td>\n      <td>0.828786</td>\n      <td>0.905944</td>\n      <td>0.456045</td>\n      <td>0.863667</td>\n      <td>0.9242</td>\n      <td>...</td>\n      <td>0.3608</td>\n      <td>0.336767</td>\n      <td>0.544867</td>\n      <td>0.528462</td>\n      <td>0.332947</td>\n      <td>0.520976</td>\n      <td>0.155500</td>\n      <td>0.230611</td>\n      <td>0.933</td>\n      <td>0.0</td>\n    </tr>\n  </tbody>\n</table>\n<p>15 rows × 21214 columns</p>\n</div>"
     },
     "execution_count": 42,
     "metadata": {},
     "output_type": "execute_result"
    }
   ]
  },
  {
   "cell_type": "code",
   "source": [
    "# Conduct regression on the whole dataset\n",
    "model = VariableSelection()\n",
    "\n",
    "normalized_X_trait, _ = normalize_data(X_trait)\n",
    "model.fit(normalized_X_trait, y_trait)\n",
    "\n",
    "# Retrieve the coefficients\n",
    "coefficients = model.getBeta().reshape(-1).tolist()\n",
    "nlog_p_values = model.getNegLogP().reshape(-1).tolist()\n",
    "p_values = [np.exp(-p) for p in nlog_p_values]"
   ],
   "metadata": {
    "id": "44M-oojOUWvE",
    "ExecuteTime": {
     "end_time": "2023-12-25T20:27:13.622044762Z",
     "start_time": "2023-12-25T20:27:10.787995248Z"
    }
   },
   "execution_count": 43,
   "outputs": []
  },
  {
   "cell_type": "markdown",
   "source": [
    "## 6. Discussion"
   ],
   "metadata": {
    "id": "g74qlNVPU-k1"
   }
  },
  {
   "cell_type": "code",
   "source": [
    "import pandas as pd\n",
    "from statsmodels.stats.multitest import multipletests\n",
    "\n",
    "# Create a DataFrame for the regression results\n",
    "regression_df = pd.DataFrame({\n",
    "    'Variable': trait_feature_cols,\n",
    "    'Coefficient': coefficients,\n",
    "    'p_value': p_values\n",
    "})\n",
    "\n",
    "# Extract information about the lifestyle condition's effect\n",
    "#condition_effect = regression_df.iloc[0]\n",
    "condition_effect = regression_df[regression_df['Variable'] == CONDITION]\n",
    "\n",
    "# Report the effect of the lifestyle condition\n",
    "print(f\"Effect of the condition on the target variable:\")\n",
    "print(f\"Variable: {CONDITION}\")\n",
    "print(f\"Coefficient: {condition_effect['Coefficient']:.4f}\")\n",
    "print(f\"p-value: {condition_effect['p_value']:.4g}\\n\")"
   ],
   "metadata": {
    "colab": {
     "base_uri": "https://localhost:8080/"
    },
    "id": "4uIGB9D8yxiO",
    "outputId": "8a80c42f-7c77-4a33-8ac9-87e2811ec2b7",
    "ExecuteTime": {
     "end_time": "2023-12-25T20:27:13.982294629Z",
     "start_time": "2023-12-25T20:27:13.624107795Z"
    }
   },
   "execution_count": 44,
   "outputs": [
    {
     "name": "stdout",
     "output_type": "stream",
     "text": [
      "Effect of the condition on the target variable:\n",
      "Variable: Obesity\n"
     ]
    },
    {
     "ename": "TypeError",
     "evalue": "unsupported format string passed to Series.__format__",
     "output_type": "error",
     "traceback": [
      "\u001B[0;31m---------------------------------------------------------------------------\u001B[0m",
      "\u001B[0;31mTypeError\u001B[0m                                 Traceback (most recent call last)",
      "Cell \u001B[0;32mIn[44], line 18\u001B[0m\n\u001B[1;32m     16\u001B[0m \u001B[38;5;28mprint\u001B[39m(\u001B[38;5;124mf\u001B[39m\u001B[38;5;124m\"\u001B[39m\u001B[38;5;124mEffect of the condition on the target variable:\u001B[39m\u001B[38;5;124m\"\u001B[39m)\n\u001B[1;32m     17\u001B[0m \u001B[38;5;28mprint\u001B[39m(\u001B[38;5;124mf\u001B[39m\u001B[38;5;124m\"\u001B[39m\u001B[38;5;124mVariable: \u001B[39m\u001B[38;5;132;01m{\u001B[39;00mCONDITION\u001B[38;5;132;01m}\u001B[39;00m\u001B[38;5;124m\"\u001B[39m)\n\u001B[0;32m---> 18\u001B[0m \u001B[38;5;28mprint\u001B[39m(\u001B[38;5;124mf\u001B[39m\u001B[38;5;124m\"\u001B[39m\u001B[38;5;124mCoefficient: \u001B[39m\u001B[38;5;132;01m{\u001B[39;00mcondition_effect[\u001B[38;5;124m'\u001B[39m\u001B[38;5;124mCoefficient\u001B[39m\u001B[38;5;124m'\u001B[39m]\u001B[38;5;132;01m:\u001B[39;00m\u001B[38;5;124m.4f\u001B[39m\u001B[38;5;132;01m}\u001B[39;00m\u001B[38;5;124m\"\u001B[39m)\n\u001B[1;32m     19\u001B[0m \u001B[38;5;28mprint\u001B[39m(\u001B[38;5;124mf\u001B[39m\u001B[38;5;124m\"\u001B[39m\u001B[38;5;124mp-value: \u001B[39m\u001B[38;5;132;01m{\u001B[39;00mcondition_effect[\u001B[38;5;124m'\u001B[39m\u001B[38;5;124mp_value\u001B[39m\u001B[38;5;124m'\u001B[39m]\u001B[38;5;132;01m:\u001B[39;00m\u001B[38;5;124m.4g\u001B[39m\u001B[38;5;132;01m}\u001B[39;00m\u001B[38;5;130;01m\\n\u001B[39;00m\u001B[38;5;124m\"\u001B[39m)\n",
      "\u001B[0;31mTypeError\u001B[0m: unsupported format string passed to Series.__format__"
     ]
    }
   ]
  },
  {
   "cell_type": "code",
   "execution_count": null,
   "outputs": [],
   "source": [
    "regression_df"
   ],
   "metadata": {
    "collapsed": false,
    "ExecuteTime": {
     "start_time": "2023-12-25T20:27:13.962386670Z"
    }
   }
  },
  {
   "cell_type": "code",
   "execution_count": null,
   "outputs": [],
   "source": [
    "gene_regression_df = regression_df[regression_df['Variable'] != CONDITION]\n",
    "gene_regression_df"
   ],
   "metadata": {
    "collapsed": false,
    "ExecuteTime": {
     "start_time": "2023-12-25T20:27:13.965588704Z"
    }
   }
  },
  {
   "cell_type": "code",
   "source": [
    "threshold = 0.05\n",
    "\n",
    "# Apply the Benjamini-Hochberg correction, to get the corrected p-values\n",
    "corrected_p_values = multipletests(gene_regression_df['p_value'], alpha=threshold, method='fdr_bh')[1]\n",
    "gene_regression_df.loc[:, 'corrected_p_value'] = corrected_p_values\n",
    "\n",
    "significant_genes = gene_regression_df.loc[gene_regression_df['corrected_p_value'] < threshold]\n",
    "significant_genes_sorted = significant_genes.sort_values('corrected_p_value')\n",
    "\n",
    "print(f\"Found {len(significant_genes_sorted)} significant genes affecting the trait '{TRAIT}' conditional on the factor '{CONDITION}', with corrected p-value < {threshold}:\")\n",
    "\n",
    "print(significant_genes_sorted[['Variable', 'Coefficient', 'corrected_p_value']].to_string(index=False))\n",
    "\n",
    "# Optionally, save this to a CSV file\n",
    "os.makedirs(output_dir, exist_ok=True)\n",
    "significant_genes_sorted.to_csv(os.path.join(output_dir, f'{TRAIT}_{CONDITION}_significant_genes.csv'), index=False)"
   ],
   "metadata": {
    "colab": {
     "base_uri": "https://localhost:8080/"
    },
    "id": "nut03XxhyxpB",
    "outputId": "707285d5-42e0-40d2-aefd-c38bc54ba989",
    "ExecuteTime": {
     "start_time": "2023-12-25T20:27:13.967770788Z"
    }
   },
   "execution_count": null,
   "outputs": []
  },
  {
   "cell_type": "code",
   "execution_count": null,
   "outputs": [],
   "source": [
    "print(significant_genes_sorted[\"Variable\"].tolist())"
   ],
   "metadata": {
    "collapsed": false,
    "ExecuteTime": {
     "start_time": "2023-12-25T20:27:13.969250744Z"
    }
   }
  },
  {
   "cell_type": "code",
   "execution_count": null,
   "outputs": [],
   "source": [],
   "metadata": {
    "collapsed": false
   }
  }
 ],
 "metadata": {
  "colab": {
   "provenance": []
  },
  "kernelspec": {
   "name": "python3",
   "language": "python",
   "display_name": "Python 3 (ipykernel)"
  },
  "language_info": {
   "name": "python"
  }
 },
 "nbformat": 4,
 "nbformat_minor": 0
}
