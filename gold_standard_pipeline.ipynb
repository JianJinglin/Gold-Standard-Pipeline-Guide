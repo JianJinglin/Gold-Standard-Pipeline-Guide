{
 "cells": [
  {
   "cell_type": "markdown",
   "metadata": {},
   "source": [
    "# Gold standard Example 1"
   ]
  },
  {
   "cell_type": "code",
   "execution_count": 8,
   "metadata": {
    "ExecuteTime": {
     "end_time": "2023-12-23T04:20:17.146480216Z",
     "start_time": "2023-12-23T04:20:17.144703674Z"
    }
   },
   "outputs": [
    {
     "name": "stdout",
     "output_type": "stream",
     "text": [
      "Studied question: What are the genetic factors related to Breast Cancer when considering the influence of age?\n"
     ]
    }
   ],
   "source": [
    "TRAIT = 'Breast Cancer'\n",
    "CONDITION = 'age'\n",
    "QUESTION = f'What are the genetic factors related to {TRAIT} when considering the influence of {CONDITION}?'\n",
    "print(f\"Studied question: {QUESTION}\")"
   ]
  },
  {
   "cell_type": "markdown",
   "metadata": {},
   "source": []
  },
  {
   "cell_type": "code",
   "execution_count": 2,
   "metadata": {
    "ExecuteTime": {
     "end_time": "2023-12-23T04:20:17.194601731Z",
     "start_time": "2023-12-23T04:20:17.147142073Z"
    },
    "colab": {
     "base_uri": "https://localhost:8080/"
    },
    "id": "jMTdsU43vVg3",
    "outputId": "38886111-f442-44b4-8398-96bf384d7abd"
   },
   "outputs": [
    {
     "data": {
      "text/plain": [
       "\"# This cell is only for use on Google Colab. Skip it if you run your code in other environments\\n\\nimport os\\nfrom google.colab import drive\\ndrive.mount('/content/drive', force_remount=True)\\ndata_root = '/content/drive/MyDrive/AI4Science_Public/data'\\nos.chdir(data_root)\\n!ls\""
      ]
     },
     "execution_count": 2,
     "metadata": {},
     "output_type": "execute_result"
    }
   ],
   "source": [
    "\"\"\"# This cell is only for use on Google Colab. Skip it if you run your code in other environments\n",
    "\n",
    "import os\n",
    "from google.colab import drive\n",
    "drive.mount('/content/drive', force_remount=True)\n",
    "data_root = '/content/drive/MyDrive/AI4Science_Public/data'\n",
    "os.chdir(data_root)\n",
    "!ls\"\"\""
   ]
  },
  {
   "cell_type": "markdown",
   "metadata": {},
   "source": [
    "### Select the data files\n",
    "Set the paths to relevant data directories and files\n",
    "We know that in TCGA Xena, the gene expression data are stored in the PANCAN files, while the trait and condition information are stored in the clinicalMatrix files. In a clinicalMatrix file, the condition information is recorded in one of its columns, and the trait information can be obtained from sample IDs."
   ]
  },
  {
   "cell_type": "code",
   "execution_count": 3,
   "metadata": {
    "ExecuteTime": {
     "end_time": "2023-12-23T04:20:17.194707108Z",
     "start_time": "2023-12-23T04:20:17.188277404Z"
    }
   },
   "outputs": [],
   "source": [
    "import os\n",
    "\n",
    "data_root = './data'\n",
    "dataset = 'TCGA'\n",
    "trait_subdir = \"TCGA_Breast_Cancer_(BRCA)\"\n",
    "clinical_data_file = os.path.join(data_root, dataset, trait_subdir, 'TCGA.BRCA.sampleMap_BRCA_clinicalMatrix')\n",
    "genetic_data_file = os.path.join(data_root, dataset, trait_subdir, 'TCGA.BRCA.sampleMap_HiSeqV2_PANCAN.gz')"
   ]
  },
  {
   "cell_type": "markdown",
   "metadata": {},
   "source": [
    "### 1. Data Preprocessing"
   ]
  },
  {
   "cell_type": "code",
   "execution_count": 4,
   "metadata": {
    "ExecuteTime": {
     "end_time": "2023-12-23T04:20:20.241661227Z",
     "start_time": "2023-12-23T04:20:17.188329892Z"
    },
    "id": "MudwB-_iz7sc"
   },
   "outputs": [],
   "source": [
    "import pandas as pd\n",
    "\n",
    "clinical_data = pd.read_csv(clinical_data_file, sep='\\t', index_col=0)\n",
    "genetic_data = pd.read_csv(genetic_data_file, compression='gzip', sep='\\t', index_col=0)"
   ]
  },
  {
   "cell_type": "code",
   "execution_count": 5,
   "metadata": {
    "ExecuteTime": {
     "end_time": "2023-12-23T04:20:20.245328484Z",
     "start_time": "2023-12-23T04:20:20.242720448Z"
    }
   },
   "outputs": [],
   "source": [
    "def check_rows_and_columns(dataframe):\n",
    "    dataframe_rows = dataframe.index.tolist()\n",
    "    print(f\"The dataset has {len(dataframe_rows)} rows, such as {dataframe_rows[:20]}\")\n",
    "    dataframe_cols = dataframe.columns.tolist()\n",
    "    print(f\"\\nThe dataset has {len(dataframe_cols)} columns, such as {dataframe_cols[:20]}\")\n",
    "    return dataframe_rows, dataframe_cols"
   ]
  },
  {
   "cell_type": "code",
   "execution_count": 6,
   "metadata": {
    "ExecuteTime": {
     "end_time": "2023-12-23T04:20:20.288994829Z",
     "start_time": "2023-12-23T04:20:20.245079108Z"
    }
   },
   "outputs": [
    {
     "name": "stdout",
     "output_type": "stream",
     "text": [
      "The dataset has 1247 rows, such as ['TCGA-3C-AAAU-01', 'TCGA-3C-AALI-01', 'TCGA-3C-AALJ-01', 'TCGA-3C-AALK-01', 'TCGA-4H-AAAK-01', 'TCGA-5L-AAT0-01', 'TCGA-5L-AAT1-01', 'TCGA-5T-A9QA-01', 'TCGA-A1-A0SB-01', 'TCGA-A1-A0SD-01', 'TCGA-A1-A0SE-01', 'TCGA-A1-A0SF-01', 'TCGA-A1-A0SG-01', 'TCGA-A1-A0SH-01', 'TCGA-A1-A0SI-01', 'TCGA-A1-A0SJ-01', 'TCGA-A1-A0SK-01', 'TCGA-A1-A0SM-01', 'TCGA-A1-A0SN-01', 'TCGA-A1-A0SO-01']\n",
      "\n",
      "The dataset has 193 columns, such as ['AJCC_Stage_nature2012', 'Age_at_Initial_Pathologic_Diagnosis_nature2012', 'CN_Clusters_nature2012', 'Converted_Stage_nature2012', 'Days_to_Date_of_Last_Contact_nature2012', 'Days_to_date_of_Death_nature2012', 'ER_Status_nature2012', 'Gender_nature2012', 'HER2_Final_Status_nature2012', 'Integrated_Clusters_no_exp__nature2012', 'Integrated_Clusters_unsup_exp__nature2012', 'Integrated_Clusters_with_PAM50__nature2012', 'Metastasis_Coded_nature2012', 'Metastasis_nature2012', 'Node_Coded_nature2012', 'Node_nature2012', 'OS_Time_nature2012', 'OS_event_nature2012', 'PAM50Call_RNAseq', 'PAM50_mRNA_nature2012']\n"
     ]
    }
   ],
   "source": [
    "clinical_data_rows, clinical_data_cols = check_rows_and_columns(clinical_data)"
   ]
  },
  {
   "cell_type": "code",
   "execution_count": 7,
   "metadata": {
    "ExecuteTime": {
     "end_time": "2023-12-23T04:20:20.289068146Z",
     "start_time": "2023-12-23T04:20:20.288399957Z"
    }
   },
   "outputs": [
    {
     "name": "stdout",
     "output_type": "stream",
     "text": [
      "The dataset has 20530 rows, such as ['ARHGEF10L', 'HIF3A', 'RNF17', 'RNF10', 'RNF11', 'RNF13', 'GTF2IP1', 'REM1', 'MTVR2', 'RTN4RL2', 'C16orf13', 'C16orf11', 'FGFR1OP2', 'TSKS', 'ATRX', 'PMM2', 'LOC100272146', 'ASS1', 'NCBP1', 'ZNF709']\n",
      "\n",
      "The dataset has 1218 columns, such as ['TCGA-AR-A5QQ-01', 'TCGA-D8-A1JA-01', 'TCGA-BH-A0BQ-01', 'TCGA-BH-A0BT-01', 'TCGA-A8-A06X-01', 'TCGA-A8-A096-01', 'TCGA-BH-A0C7-01', 'TCGA-AC-A5XU-01', 'TCGA-PE-A5DE-01', 'TCGA-PE-A5DC-01', 'TCGA-AR-A0TV-01', 'TCGA-GM-A3XG-01', 'TCGA-BH-A18J-01', 'TCGA-BH-A0W7-01', 'TCGA-E9-A3QA-01', 'TCGA-A7-A4SD-01', 'TCGA-BH-A0HA-01', 'TCGA-AR-A5QN-01', 'TCGA-A7-A0CH-11', 'TCGA-A7-A0CE-01']\n"
     ]
    }
   ],
   "source": [
    "genetic_data_rows, genetic_data_cols = check_rows_and_columns(genetic_data)"
   ]
  },
  {
   "cell_type": "code",
   "execution_count": 8,
   "metadata": {
    "ExecuteTime": {
     "end_time": "2023-12-23T04:20:20.289102661Z",
     "start_time": "2023-12-23T04:20:20.288522075Z"
    }
   },
   "outputs": [],
   "source": [
    "gene_list = genetic_data_rows\n",
    "genetic_data = genetic_data.T"
   ]
  },
  {
   "cell_type": "markdown",
   "metadata": {},
   "source": [
    "Read all the features names of the clinical dataset, 'clinical_data_cols' in this case, and select the variable recording information about the condition."
   ]
  },
  {
   "cell_type": "code",
   "execution_count": 9,
   "metadata": {
    "ExecuteTime": {
     "end_time": "2023-12-23T04:20:20.289132988Z",
     "start_time": "2023-12-23T04:20:20.288551751Z"
    }
   },
   "outputs": [],
   "source": [
    "CONDITION_COL = 'days_to_birth'"
   ]
  },
  {
   "cell_type": "markdown",
   "metadata": {},
   "source": [
    "The target variable about the trait is binary, meaning \"whether the sample shows the trait\", and we need to decode it from sample IDs."
   ]
  },
  {
   "cell_type": "code",
   "execution_count": 10,
   "metadata": {
    "ExecuteTime": {
     "end_time": "2023-12-23T04:20:20.380266421Z",
     "start_time": "2023-12-23T04:20:20.288573101Z"
    }
   },
   "outputs": [],
   "source": [
    "# Only select the column of condition feature in the clinical data\n",
    "clinical_data = clinical_data[[CONDITION_COL]]\n",
    "# Merge clinical_data and gene_data on their indices - sample_ID, corresponding to each person\n",
    "merged_data = clinical_data.join(genetic_data).dropna()"
   ]
  },
  {
   "cell_type": "code",
   "execution_count": 11,
   "metadata": {
    "ExecuteTime": {
     "end_time": "2023-12-23T04:20:20.424379079Z",
     "start_time": "2023-12-23T04:20:20.382978723Z"
    },
    "colab": {
     "base_uri": "https://localhost:8080/",
     "height": 373
    },
    "id": "PfniG6D4T46D",
    "outputId": "2fafecb9-48af-4b8c-d82d-355751933284"
   },
   "outputs": [],
   "source": [
    "# Decode the trait information from Sample IDs depending on the last two digits.\n",
    "# Tumor types range from 01 - 09, normal types from 10 - 19.\n",
    "\n",
    "def mark_label(row_index):\n",
    "    last_two_digits = int(row_index[-2:])\n",
    "\n",
    "    if 1 <= last_two_digits <= 9:\n",
    "        return 1\n",
    "    elif 10 <= last_two_digits <= 19:\n",
    "        return 0\n",
    "    else:\n",
    "        return -1\n",
    "\n",
    "# Use the apply function to add the trait column to merged_data\n",
    "merged_data[TRAIT] = merged_data.index.to_series().apply(mark_label)\n",
    "merged_data = merged_data.loc[merged_data[TRAIT] >= 0]"
   ]
  },
  {
   "cell_type": "code",
   "execution_count": 12,
   "metadata": {
    "ExecuteTime": {
     "end_time": "2023-12-23T04:20:20.426468236Z",
     "start_time": "2023-12-23T04:20:20.424481010Z"
    }
   },
   "outputs": [],
   "source": [
    "def judge_binary_variable_biased(dataframe, col_name, min_proportion, min_num):\n",
    "    label_counter = dataframe[col_name].value_counts()\n",
    "    total_samples = len(dataframe)\n",
    "    rare_label_num = label_counter.min()\n",
    "    rare_label = label_counter.idxmin()\n",
    "    rare_label_proportion = rare_label_num / total_samples\n",
    "\n",
    "    print(f\"The least common label is '{rare_label}' with {rare_label_num} occurrences. This represents {rare_label_proportion:.2%} of the dataset.\")\n",
    "\n",
    "    biased = (len(label_counter) < 2) or ((rare_label_proportion < min_proportion) and (rare_label_num < min_num))\n",
    "    return biased"
   ]
  },
  {
   "cell_type": "code",
   "execution_count": 13,
   "metadata": {
    "ExecuteTime": {
     "end_time": "2023-12-23T04:20:20.426540732Z",
     "start_time": "2023-12-23T04:20:20.424562643Z"
    }
   },
   "outputs": [],
   "source": [
    "def judge_continuous_variable_biased(dataframe, col_name):\n",
    "    # Calculate the quartiles of the continuous variable\n",
    "    quartiles = dataframe[col_name].quantile([0.25, 0.5, 0.75])\n",
    "    min_value = dataframe[col_name].min()\n",
    "    max_value = dataframe[col_name].max()\n",
    "\n",
    "    # Printing quartile information\n",
    "    print(f\"Quartiles for '{col_name}':\")\n",
    "    print(f\"  25%: {quartiles[0.25]}\")\n",
    "    print(f\"  50% (Median): {quartiles[0.5]}\")\n",
    "    print(f\"  75%: {quartiles[0.75]}\")\n",
    "    print(f\"Min: {min_value}\")\n",
    "    print(f\"Max: {max_value}\")\n",
    "\n",
    "    # Check if the variable is too biased for regression analysis.\n",
    "    # As a starting point, we consider it biased if all values are the same\n",
    "    # For the next step, maybe ask GPT to judge based on the quartile statistics combined with its common sense knowledge about this feature.\n",
    "    biased = min_value == max_value\n",
    "\n",
    "    return biased"
   ]
  },
  {
   "cell_type": "code",
   "execution_count": 14,
   "metadata": {
    "ExecuteTime": {
     "end_time": "2023-12-23T04:20:20.468411708Z",
     "start_time": "2023-12-23T04:20:20.424595344Z"
    }
   },
   "outputs": [
    {
     "name": "stdout",
     "output_type": "stream",
     "text": [
      "The merged dataset contains 1199 samples.\n"
     ]
    }
   ],
   "source": [
    "print(f\"The merged dataset contains {len(merged_data)} samples.\")"
   ]
  },
  {
   "cell_type": "code",
   "execution_count": 15,
   "metadata": {
    "ExecuteTime": {
     "end_time": "2023-12-23T04:20:20.468570164Z",
     "start_time": "2023-12-23T04:20:20.468322611Z"
    }
   },
   "outputs": [
    {
     "name": "stdout",
     "output_type": "stream",
     "text": [
      "The least common label is '0' with 112 occurrences. This represents 9.34% of the dataset.\n",
      "The distribution of the trait 'Breast Cancer' in this dataset is fine.\n"
     ]
    }
   ],
   "source": [
    "biased = judge_binary_variable_biased(merged_data, TRAIT, 0.1, 10)\n",
    "if biased:\n",
    "    print(f\"The distribution of the trait \\'{TRAIT}\\' in this dataset is severely biased.\")\n",
    "else:\n",
    "    print(f\"The distribution of the trait \\'{TRAIT}\\' in this dataset is fine.\")"
   ]
  },
  {
   "cell_type": "code",
   "execution_count": 16,
   "metadata": {
    "ExecuteTime": {
     "end_time": "2023-12-23T04:20:20.468673958Z",
     "start_time": "2023-12-23T04:20:20.468487510Z"
    }
   },
   "outputs": [
    {
     "name": "stdout",
     "output_type": "stream",
     "text": [
      "Quartiles for 'days_to_birth':\n",
      "  25%: -24819.5\n",
      "  50% (Median): -21488.0\n",
      "  75%: -17793.0\n",
      "Min: -32873.0\n",
      "Max: -9706.0\n",
      "The distribution of the condition 'age' in this dataset is fine.\n"
     ]
    }
   ],
   "source": [
    "biased = judge_continuous_variable_biased(merged_data, CONDITION_COL)\n",
    "if biased:\n",
    "    print(f\"The distribution of the condition \\'{CONDITION}\\' in this dataset is severely biased.\")\n",
    "else:\n",
    "    print(f\"The distribution of the condition \\'{CONDITION}\\' in this dataset is fine.\")"
   ]
  },
  {
   "cell_type": "markdown",
   "metadata": {},
   "source": [
    "### 2. Preliminary analysis"
   ]
  },
  {
   "cell_type": "markdown",
   "metadata": {},
   "source": [
    "Plot the distributions of the target and important regressors"
   ]
  },
  {
   "cell_type": "code",
   "execution_count": 17,
   "metadata": {
    "ExecuteTime": {
     "end_time": "2023-12-23T04:20:21.067694767Z",
     "start_time": "2023-12-23T04:20:20.468547412Z"
    }
   },
   "outputs": [
    {
     "data": {
      "image/png": "[encoded data removed]",
      "text/plain": [
       "<Figure size 1000x600 with 1 Axes>"
      ]
     },
     "metadata": {},
     "output_type": "display_data"
    },
    {
     "data": {
      "image/png": "[encoded data removed]",
      "text/plain": [
       "<Figure size 1000x600 with 1 Axes>"
      ]
     },
     "metadata": {},
     "output_type": "display_data"
    },
    {
     "data": {
      "image/png": "[encoded data removed]",
      "text/plain": [
       "<Figure size 1000x600 with 1 Axes>"
      ]
     },
     "metadata": {},
     "output_type": "display_data"
    },
    {
     "data": {
      "image/png": "[encoded data removed]",
      "text/plain": [
       "<Figure size 1000x600 with 1 Axes>"
      ]
     },
     "metadata": {},
     "output_type": "display_data"
    }
   ],
   "source": [
    "import seaborn as sns\n",
    "import matplotlib.pyplot as plt\n",
    "\n",
    "def plot_numeric_distribution(df, column):\n",
    "    plt.figure(figsize=(10, 6))\n",
    "    sns.histplot(df[column], kde=True, bins=30)\n",
    "    plt.title(f'Distribution of {column.capitalize()}')\n",
    "    plt.xlabel('')\n",
    "    plt.ylabel('Frequency')\n",
    "    plt.show()\n",
    "\n",
    "def plot_categorical_distribution(df, column):\n",
    "    plt.figure(figsize=(10, 6))\n",
    "    sns.countplot(y=column, data=df, order=df[column].value_counts().index)\n",
    "    plt.title(f'Distribution of {column.capitalize()}')\n",
    "    plt.xlabel('Frequency')\n",
    "    plt.ylabel('')\n",
    "    plt.show()\n",
    "\n",
    "def analyze_distributions(df, numerical_columns, categorical_columns):\n",
    "    for col in numerical_columns:\n",
    "        plot_numeric_distribution(df, col)\n",
    "\n",
    "    for col in categorical_columns:\n",
    "        plot_categorical_distribution(df, col)\n",
    "\n",
    "# For example, we may want to choose a few genes we are interested in for visualization:\n",
    "interested_genes = [col for col in gene_list if 'brca' in col.lower()]\n",
    "analyze_distributions(merged_data, numerical_columns=[CONDITION_COL, *interested_genes], categorical_columns=[TRAIT])"
   ]
  },
  {
   "cell_type": "markdown",
   "metadata": {},
   "source": [
    "As can be seen from the histogram of \"Days_to_birth\", the data are not within the expected range of age.\n",
    "This is also indicated by the variable name.\n",
    "\n",
    "Then, draw scatter plots to visualize the relationship between pairs of variables (Optional)"
   ]
  },
  {
   "cell_type": "code",
   "execution_count": 10,
   "metadata": {
    "ExecuteTime": {
     "end_time": "2023-12-23T04:20:21.324869641Z",
     "start_time": "2023-12-23T04:20:21.315985177Z"
    }
   },
   "outputs": [
    {
     "data": {
      "text/html": [
       "<div>\n",
       "<style scoped>\n",
       "    .dataframe tbody tr th:only-of-type {\n",
       "        vertical-align: middle;\n",
       "    }\n",
       "\n",
       "    .dataframe tbody tr th {\n",
       "        vertical-align: top;\n",
       "    }\n",
       "\n",
       "    .dataframe thead th {\n",
       "        text-align: right;\n",
       "    }\n",
       "</style>\n",
       "<table border=\"1\" class=\"dataframe\">\n",
       "  <thead>\n",
       "    <tr style=\"text-align: right;\">\n",
       "      <th></th>\n",
       "      <th>sampleID</th>\n",
       "      <th>days_to_birth</th>\n",
       "      <th>ARHGEF10L</th>\n",
       "      <th>HIF3A</th>\n",
       "      <th>RNF17</th>\n",
       "      <th>RNF10</th>\n",
       "      <th>RNF11</th>\n",
       "      <th>RNF13</th>\n",
       "      <th>GTF2IP1</th>\n",
       "      <th>REM1</th>\n",
       "      <th>...</th>\n",
       "      <th>NPY5R</th>\n",
       "      <th>GNGT2</th>\n",
       "      <th>GNGT1</th>\n",
       "      <th>TULP3</th>\n",
       "      <th>PTRF</th>\n",
       "      <th>BCL6B</th>\n",
       "      <th>GSTK1</th>\n",
       "      <th>SELP</th>\n",
       "      <th>SELS</th>\n",
       "      <th>Tumor</th>\n",
       "    </tr>\n",
       "  </thead>\n",
       "  <tbody>\n",
       "    <tr>\n",
       "      <th>0</th>\n",
       "      <td>TCGA-3C-AAAU-01</td>\n",
       "      <td>0</td>\n",
       "      <td>0.607308</td>\n",
       "      <td>-3.194126</td>\n",
       "      <td>-0.531035</td>\n",
       "      <td>-0.145872</td>\n",
       "      <td>0.237422</td>\n",
       "      <td>-0.29921</td>\n",
       "      <td>-0.142694</td>\n",
       "      <td>-0.217446</td>\n",
       "      <td>...</td>\n",
       "      <td>0.565583</td>\n",
       "      <td>-0.767233</td>\n",
       "      <td>-1.28139</td>\n",
       "      <td>-0.271377</td>\n",
       "      <td>-0.492286</td>\n",
       "      <td>0.360373</td>\n",
       "      <td>1.067905</td>\n",
       "      <td>0.076267</td>\n",
       "      <td>-0.392212</td>\n",
       "      <td>1</td>\n",
       "    </tr>\n",
       "    <tr>\n",
       "      <th>1</th>\n",
       "      <td>TCGA-3C-AALI-01</td>\n",
       "      <td>0</td>\n",
       "      <td>-0.641192</td>\n",
       "      <td>-4.928226</td>\n",
       "      <td>0.095465</td>\n",
       "      <td>0.098128</td>\n",
       "      <td>-0.541978</td>\n",
       "      <td>-0.32291</td>\n",
       "      <td>-0.044694</td>\n",
       "      <td>-0.148846</td>\n",
       "      <td>...</td>\n",
       "      <td>0.079683</td>\n",
       "      <td>0.475267</td>\n",
       "      <td>1.99661</td>\n",
       "      <td>0.161423</td>\n",
       "      <td>0.273714</td>\n",
       "      <td>0.644673</td>\n",
       "      <td>-0.428695</td>\n",
       "      <td>0.068667</td>\n",
       "      <td>-0.043812</td>\n",
       "      <td>1</td>\n",
       "    </tr>\n",
       "    <tr>\n",
       "      <th>2</th>\n",
       "      <td>TCGA-3C-AALJ-01</td>\n",
       "      <td>0</td>\n",
       "      <td>1.082808</td>\n",
       "      <td>-4.623726</td>\n",
       "      <td>-0.531035</td>\n",
       "      <td>0.484028</td>\n",
       "      <td>-0.183678</td>\n",
       "      <td>-0.91901</td>\n",
       "      <td>0.261106</td>\n",
       "      <td>0.687754</td>\n",
       "      <td>...</td>\n",
       "      <td>-0.656117</td>\n",
       "      <td>-0.216733</td>\n",
       "      <td>0.21081</td>\n",
       "      <td>0.101023</td>\n",
       "      <td>0.660514</td>\n",
       "      <td>1.295073</td>\n",
       "      <td>0.915105</td>\n",
       "      <td>0.168567</td>\n",
       "      <td>0.047788</td>\n",
       "      <td>1</td>\n",
       "    </tr>\n",
       "    <tr>\n",
       "      <th>3</th>\n",
       "      <td>TCGA-3C-AALK-01</td>\n",
       "      <td>0</td>\n",
       "      <td>0.121608</td>\n",
       "      <td>-2.881526</td>\n",
       "      <td>-0.531035</td>\n",
       "      <td>0.179128</td>\n",
       "      <td>0.039222</td>\n",
       "      <td>-0.45491</td>\n",
       "      <td>0.180306</td>\n",
       "      <td>0.775554</td>\n",
       "      <td>...</td>\n",
       "      <td>-0.178417</td>\n",
       "      <td>-0.211233</td>\n",
       "      <td>-1.28139</td>\n",
       "      <td>0.108023</td>\n",
       "      <td>1.132814</td>\n",
       "      <td>0.496773</td>\n",
       "      <td>0.240105</td>\n",
       "      <td>3.099767</td>\n",
       "      <td>0.112888</td>\n",
       "      <td>1</td>\n",
       "    </tr>\n",
       "    <tr>\n",
       "      <th>4</th>\n",
       "      <td>TCGA-4H-AAAK-01</td>\n",
       "      <td>0</td>\n",
       "      <td>0.420208</td>\n",
       "      <td>-3.282726</td>\n",
       "      <td>-0.531035</td>\n",
       "      <td>-0.020972</td>\n",
       "      <td>-0.117978</td>\n",
       "      <td>-0.55781</td>\n",
       "      <td>-0.173794</td>\n",
       "      <td>-1.079146</td>\n",
       "      <td>...</td>\n",
       "      <td>-0.698717</td>\n",
       "      <td>-0.484233</td>\n",
       "      <td>-1.28139</td>\n",
       "      <td>-0.223577</td>\n",
       "      <td>1.222714</td>\n",
       "      <td>0.225573</td>\n",
       "      <td>-0.301995</td>\n",
       "      <td>0.200067</td>\n",
       "      <td>-0.080212</td>\n",
       "      <td>1</td>\n",
       "    </tr>\n",
       "  </tbody>\n",
       "</table>\n",
       "<p>5 rows × 20533 columns</p>\n",
       "</div>"
      ],
      "text/plain": [
       "          sampleID  days_to_birth  ARHGEF10L     HIF3A     RNF17     RNF10  \\\n",
       "0  TCGA-3C-AAAU-01              0   0.607308 -3.194126 -0.531035 -0.145872   \n",
       "1  TCGA-3C-AALI-01              0  -0.641192 -4.928226  0.095465  0.098128   \n",
       "2  TCGA-3C-AALJ-01              0   1.082808 -4.623726 -0.531035  0.484028   \n",
       "3  TCGA-3C-AALK-01              0   0.121608 -2.881526 -0.531035  0.179128   \n",
       "4  TCGA-4H-AAAK-01              0   0.420208 -3.282726 -0.531035 -0.020972   \n",
       "\n",
       "      RNF11    RNF13   GTF2IP1      REM1  ...     NPY5R     GNGT2    GNGT1  \\\n",
       "0  0.237422 -0.29921 -0.142694 -0.217446  ...  0.565583 -0.767233 -1.28139   \n",
       "1 -0.541978 -0.32291 -0.044694 -0.148846  ...  0.079683  0.475267  1.99661   \n",
       "2 -0.183678 -0.91901  0.261106  0.687754  ... -0.656117 -0.216733  0.21081   \n",
       "3  0.039222 -0.45491  0.180306  0.775554  ... -0.178417 -0.211233 -1.28139   \n",
       "4 -0.117978 -0.55781 -0.173794 -1.079146  ... -0.698717 -0.484233 -1.28139   \n",
       "\n",
       "      TULP3      PTRF     BCL6B     GSTK1      SELP      SELS  Tumor  \n",
       "0 -0.271377 -0.492286  0.360373  1.067905  0.076267 -0.392212      1  \n",
       "1  0.161423  0.273714  0.644673 -0.428695  0.068667 -0.043812      1  \n",
       "2  0.101023  0.660514  1.295073  0.915105  0.168567  0.047788      1  \n",
       "3  0.108023  1.132814  0.496773  0.240105  3.099767  0.112888      1  \n",
       "4 -0.223577  1.222714  0.225573 -0.301995  0.200067 -0.080212      1  \n",
       "\n",
       "[5 rows x 20533 columns]"
      ]
     },
     "execution_count": 10,
     "metadata": {},
     "output_type": "execute_result"
    }
   ],
   "source": [
    "# Convert \"day_to_birth\" to age in years\n",
    "merged_data[CONDITION_COL] = (- merged_data[CONDITION_COL] / 365.25).astype(int)\n",
    "feature_cols = merged_data.columns.tolist()[:-1]\n",
    "\n",
    "merged_data.head()"
   ]
  },
  {
   "cell_type": "code",
   "execution_count": 11,
   "metadata": {},
   "outputs": [
    {
     "ename": "AttributeError",
     "evalue": "'int' object has no attribute 'split'",
     "output_type": "error",
     "traceback": [
      "\u001b[0;31m---------------------------------------------------------------------------\u001b[0m",
      "\u001b[0;31mAttributeError\u001b[0m                            Traceback (most recent call last)",
      "Cell \u001b[0;32mIn[11], line 10\u001b[0m\n\u001b[1;32m      7\u001b[0m \u001b[38;5;28;01mimport\u001b[39;00m \u001b[38;5;21;01mstatsmodels\u001b[39;00m\u001b[38;5;21;01m.\u001b[39;00m\u001b[38;5;21;01mapi\u001b[39;00m \u001b[38;5;28;01mas\u001b[39;00m \u001b[38;5;21;01msm\u001b[39;00m\n\u001b[1;32m      9\u001b[0m \u001b[38;5;66;03m# Step 1: find a potential factors\u001b[39;00m\n\u001b[0;32m---> 10\u001b[0m merged_data[\u001b[38;5;124m'\u001b[39m\u001b[38;5;124mTSS\u001b[39m\u001b[38;5;124m'\u001b[39m] \u001b[38;5;241m=\u001b[39m merged_data\u001b[38;5;241m.\u001b[39mindex\u001b[38;5;241m.\u001b[39mto_series()\u001b[38;5;241m.\u001b[39mapply(\u001b[38;5;28;01mlambda\u001b[39;00m x: x\u001b[38;5;241m.\u001b[39msplit(\u001b[38;5;124m'\u001b[39m\u001b[38;5;124m-\u001b[39m\u001b[38;5;124m'\u001b[39m)[\u001b[38;5;241m1\u001b[39m])\n\u001b[1;32m     12\u001b[0m expression_data \u001b[38;5;241m=\u001b[39m merged_data\u001b[38;5;241m.\u001b[39mdrop([TRAIT, \u001b[38;5;124m'\u001b[39m\u001b[38;5;124mTSS\u001b[39m\u001b[38;5;124m'\u001b[39m], axis\u001b[38;5;241m=\u001b[39m\u001b[38;5;241m1\u001b[39m)\n\u001b[1;32m     14\u001b[0m \u001b[38;5;66;03m# Step 2: Perform PCA\u001b[39;00m\n",
      "File \u001b[0;32m~/anaconda3/lib/python3.11/site-packages/pandas/core/series.py:4630\u001b[0m, in \u001b[0;36mSeries.apply\u001b[0;34m(self, func, convert_dtype, args, **kwargs)\u001b[0m\n\u001b[1;32m   4520\u001b[0m \u001b[38;5;28;01mdef\u001b[39;00m \u001b[38;5;21mapply\u001b[39m(\n\u001b[1;32m   4521\u001b[0m     \u001b[38;5;28mself\u001b[39m,\n\u001b[1;32m   4522\u001b[0m     func: AggFuncType,\n\u001b[0;32m   (...)\u001b[0m\n\u001b[1;32m   4525\u001b[0m     \u001b[38;5;241m*\u001b[39m\u001b[38;5;241m*\u001b[39mkwargs,\n\u001b[1;32m   4526\u001b[0m ) \u001b[38;5;241m-\u001b[39m\u001b[38;5;241m>\u001b[39m DataFrame \u001b[38;5;241m|\u001b[39m Series:\n\u001b[1;32m   4527\u001b[0m \u001b[38;5;250m    \u001b[39m\u001b[38;5;124;03m\"\"\"\u001b[39;00m\n\u001b[1;32m   4528\u001b[0m \u001b[38;5;124;03m    Invoke function on values of Series.\u001b[39;00m\n\u001b[1;32m   4529\u001b[0m \n\u001b[0;32m   (...)\u001b[0m\n\u001b[1;32m   4628\u001b[0m \u001b[38;5;124;03m    dtype: float64\u001b[39;00m\n\u001b[1;32m   4629\u001b[0m \u001b[38;5;124;03m    \"\"\"\u001b[39;00m\n\u001b[0;32m-> 4630\u001b[0m     \u001b[38;5;28;01mreturn\u001b[39;00m SeriesApply(\u001b[38;5;28mself\u001b[39m, func, convert_dtype, args, kwargs)\u001b[38;5;241m.\u001b[39mapply()\n",
      "File \u001b[0;32m~/anaconda3/lib/python3.11/site-packages/pandas/core/apply.py:1025\u001b[0m, in \u001b[0;36mSeriesApply.apply\u001b[0;34m(self)\u001b[0m\n\u001b[1;32m   1022\u001b[0m     \u001b[38;5;28;01mreturn\u001b[39;00m \u001b[38;5;28mself\u001b[39m\u001b[38;5;241m.\u001b[39mapply_str()\n\u001b[1;32m   1024\u001b[0m \u001b[38;5;66;03m# self.f is Callable\u001b[39;00m\n\u001b[0;32m-> 1025\u001b[0m \u001b[38;5;28;01mreturn\u001b[39;00m \u001b[38;5;28mself\u001b[39m\u001b[38;5;241m.\u001b[39mapply_standard()\n",
      "File \u001b[0;32m~/anaconda3/lib/python3.11/site-packages/pandas/core/apply.py:1076\u001b[0m, in \u001b[0;36mSeriesApply.apply_standard\u001b[0;34m(self)\u001b[0m\n\u001b[1;32m   1074\u001b[0m     \u001b[38;5;28;01melse\u001b[39;00m:\n\u001b[1;32m   1075\u001b[0m         values \u001b[38;5;241m=\u001b[39m obj\u001b[38;5;241m.\u001b[39mastype(\u001b[38;5;28mobject\u001b[39m)\u001b[38;5;241m.\u001b[39m_values\n\u001b[0;32m-> 1076\u001b[0m         mapped \u001b[38;5;241m=\u001b[39m lib\u001b[38;5;241m.\u001b[39mmap_infer(\n\u001b[1;32m   1077\u001b[0m             values,\n\u001b[1;32m   1078\u001b[0m             f,\n\u001b[1;32m   1079\u001b[0m             convert\u001b[38;5;241m=\u001b[39m\u001b[38;5;28mself\u001b[39m\u001b[38;5;241m.\u001b[39mconvert_dtype,\n\u001b[1;32m   1080\u001b[0m         )\n\u001b[1;32m   1082\u001b[0m \u001b[38;5;28;01mif\u001b[39;00m \u001b[38;5;28mlen\u001b[39m(mapped) \u001b[38;5;129;01mand\u001b[39;00m \u001b[38;5;28misinstance\u001b[39m(mapped[\u001b[38;5;241m0\u001b[39m], ABCSeries):\n\u001b[1;32m   1083\u001b[0m     \u001b[38;5;66;03m# GH#43986 Need to do list(mapped) in order to get treated as nested\u001b[39;00m\n\u001b[1;32m   1084\u001b[0m     \u001b[38;5;66;03m#  See also GH#25959 regarding EA support\u001b[39;00m\n\u001b[1;32m   1085\u001b[0m     \u001b[38;5;28;01mreturn\u001b[39;00m obj\u001b[38;5;241m.\u001b[39m_constructor_expanddim(\u001b[38;5;28mlist\u001b[39m(mapped), index\u001b[38;5;241m=\u001b[39mobj\u001b[38;5;241m.\u001b[39mindex)\n",
      "File \u001b[0;32m~/anaconda3/lib/python3.11/site-packages/pandas/_libs/lib.pyx:2834\u001b[0m, in \u001b[0;36mpandas._libs.lib.map_infer\u001b[0;34m()\u001b[0m\n",
      "Cell \u001b[0;32mIn[11], line 10\u001b[0m, in \u001b[0;36m<lambda>\u001b[0;34m(x)\u001b[0m\n\u001b[1;32m      7\u001b[0m \u001b[38;5;28;01mimport\u001b[39;00m \u001b[38;5;21;01mstatsmodels\u001b[39;00m\u001b[38;5;21;01m.\u001b[39;00m\u001b[38;5;21;01mapi\u001b[39;00m \u001b[38;5;28;01mas\u001b[39;00m \u001b[38;5;21;01msm\u001b[39;00m\n\u001b[1;32m      9\u001b[0m \u001b[38;5;66;03m# Step 1: find a potential factors\u001b[39;00m\n\u001b[0;32m---> 10\u001b[0m merged_data[\u001b[38;5;124m'\u001b[39m\u001b[38;5;124mTSS\u001b[39m\u001b[38;5;124m'\u001b[39m] \u001b[38;5;241m=\u001b[39m merged_data\u001b[38;5;241m.\u001b[39mindex\u001b[38;5;241m.\u001b[39mto_series()\u001b[38;5;241m.\u001b[39mapply(\u001b[38;5;28;01mlambda\u001b[39;00m x: x\u001b[38;5;241m.\u001b[39msplit(\u001b[38;5;124m'\u001b[39m\u001b[38;5;124m-\u001b[39m\u001b[38;5;124m'\u001b[39m)[\u001b[38;5;241m1\u001b[39m])\n\u001b[1;32m     12\u001b[0m expression_data \u001b[38;5;241m=\u001b[39m merged_data\u001b[38;5;241m.\u001b[39mdrop([TRAIT, \u001b[38;5;124m'\u001b[39m\u001b[38;5;124mTSS\u001b[39m\u001b[38;5;124m'\u001b[39m], axis\u001b[38;5;241m=\u001b[39m\u001b[38;5;241m1\u001b[39m)\n\u001b[1;32m     14\u001b[0m \u001b[38;5;66;03m# Step 2: Perform PCA\u001b[39;00m\n",
      "\u001b[0;31mAttributeError\u001b[0m: 'int' object has no attribute 'split'"
     ]
    }
   ],
   "source": [
    "# Diagnose the batch effect\n",
    "import pandas as pd\n",
    "from sklearn.decomposition import PCA\n",
    "import matplotlib.pyplot as plt\n",
    "import seaborn as sns\n",
    "from statsmodels.formula.api import ols\n",
    "import statsmodels.api as sm\n",
    "\n",
    "# Step 1: find a potential factors\n",
    "merged_data['TSS'] = merged_data.index.to_series().apply(lambda x: x.split('-')[1])\n",
    "\n",
    "expression_data = merged_data.drop([TRAIT, 'TSS'], axis=1)\n",
    "\n",
    "# Step 2: Perform PCA\n",
    "pca = PCA(n_components=2)\n",
    "pca_result = pca.fit_transform(expression_data)\n",
    "\n",
    "# Add PCA results to the DataFrame\n",
    "merged_data['pca_one'] = pca_result[:,0]\n",
    "merged_data['pca_two'] = pca_result[:,1]\n",
    "\n",
    "# Visualize PCA results\n",
    "plt.figure(figsize=(10,8))\n",
    "sns.scatterplot(\n",
    "    x='pca_one', y='pca_two',\n",
    "    hue='TSS',\n",
    "    palette=sns.color_palette(\"hsv\", len(merged_data['TSS'].unique())),\n",
    "    data=merged_data,\n",
    "    legend=\"full\",\n",
    "    alpha=0.7\n",
    ")\n",
    "plt.title('PCA by TSS')\n",
    "plt.show()\n",
    "\n",
    "# Step 3: Use ANOVA to check for batch effects\n",
    "# For ANOVA, we will use the first principal component 'pca_one'\n",
    "model = ols('pca_one ~ C(TSS)', data=merged_data).fit()\n",
    "anova_results = sm.stats.anova_lm(model, typ=2)\n",
    "\n",
    "significance_level = 0.05\n",
    "batch_effect = int(anova_results['PR(>F)'][0] < significance_level)\n",
    "\n",
    "# Display the ANOVA results\n",
    "print(anova_results)"
   ]
  },
  {
   "cell_type": "markdown",
   "metadata": {},
   "source": [
    "Based on the PCA scatter plot and the results from the ANOVA test you've provided, here's the analysis:\n",
    "\n",
    "1. PCA Scatter Plot Analysis:\n",
    "The plot shows the distribution of samples from different TSS (tissue source sites) across the first two principal components.\n",
    "The dispersion of points does not form completely separate clusters; however, we can observe that points of certain colors (representing specific TSS) tend to group together.\n",
    "This suggests that there is some variation between different TSS, which could be indicative of batch effects.\n",
    "ANOVA Test Results Analysis:\n",
    "\n",
    "2. The purpose of the ANOVA test is to check for significant differences in gene expression between different TSS groups.\n",
    "The F-statistic is 10.564247, indicating that the variance between groups is significant compared to the variance within groups.\n",
    "The p-value (PR(>F)) is extremely small (5.053513e-32), far below common significance levels (such as 0.01 or 0.05), which strongly suggests significant differences between the TSS groups.\n",
    "\n",
    "Conclusion:\n",
    "Combining these two sets of results, we can conclude that there is a batch effect present in your dataset."
   ]
  },
  {
   "cell_type": "markdown",
   "metadata": {
    "ExecuteTime": {
     "end_time": "2023-10-14T04:50:36.637789138Z",
     "start_time": "2023-10-14T04:50:36.624540289Z"
    },
    "id": "-MTPhRGxJV7I"
   },
   "source": [
    "### 3. Do regression & Cross Validation"
   ]
  },
  {
   "cell_type": "code",
   "execution_count": 20,
   "metadata": {
    "ExecuteTime": {
     "end_time": "2023-12-23T04:20:21.328365057Z",
     "start_time": "2023-12-23T04:20:21.326570411Z"
    }
   },
   "outputs": [],
   "source": [
    "import numpy as np\n",
    "from sparse_lmm import VariableSelection\n",
    "\n",
    "def normalize_data(X_train, X_test=None):\n",
    "    mean = np.mean(X_train, axis=0)\n",
    "    std = np.std(X_train, axis=0)\n",
    "\n",
    "    # Handling columns with std = 0\n",
    "    std_no_zero = np.where(std == 0, 1, std)\n",
    "\n",
    "    # Normalize X_train\n",
    "    X_train_normalized = (X_train - mean) / std_no_zero\n",
    "    # Set normalized values to 0 where std was 0\n",
    "    X_train_normalized[:, std == 0] = 0\n",
    "\n",
    "    if X_test is not None:\n",
    "        X_test_normalized = (X_test - mean) / std_no_zero\n",
    "        X_test_normalized[:, std == 0] = 0\n",
    "    else:\n",
    "        X_test_normalized = None\n",
    "\n",
    "    return X_train_normalized, X_test_normalized\n",
    "\n"
   ]
  },
  {
   "cell_type": "code",
   "execution_count": 21,
   "metadata": {
    "ExecuteTime": {
     "end_time": "2023-12-23T04:20:21.474383033Z",
     "start_time": "2023-12-23T04:20:21.330480623Z"
    }
   },
   "outputs": [],
   "source": [
    "def cross_validation(X, y, k=5):\n",
    "    indices = np.arange(X.shape[0])\n",
    "    np.random.shuffle(indices)\n",
    "\n",
    "    fold_size = len(X) // k\n",
    "    accuracies = []\n",
    "\n",
    "    for i in range(k):\n",
    "        # Split data into train and test based on the current fold\n",
    "        test_indices = indices[i*fold_size : (i+1)*fold_size]\n",
    "        train_indices = np.setdiff1d(indices, test_indices)\n",
    "\n",
    "        X_train, X_test = X[train_indices], X[test_indices]\n",
    "        y_train, y_test = y[train_indices], y[test_indices]\n",
    "\n",
    "        # Preprocess the train and test data\n",
    "        X_train, X_test = normalize_data(X_train, X_test)\n",
    "\n",
    "        # Use the precision_lasso package for regression\n",
    "        var_select = VariableSelection()\n",
    "        var_select.fit(X_train, y_train)\n",
    "        predictions = var_select.predict(X_test)\n",
    "\n",
    "        # Turn the predictions into binary values using a threshold of 0.5\n",
    "        binary_predictions = (predictions > 0.5).astype(int)\n",
    "\n",
    "        # Calculate accuracy for this fold\n",
    "        accuracy = np.mean(binary_predictions == y_test)\n",
    "        accuracies.append(accuracy)\n",
    "\n",
    "    return np.mean(accuracies), np.std(accuracies)"
   ]
  },
  {
   "cell_type": "code",
   "execution_count": 22,
   "metadata": {
    "ExecuteTime": {
     "end_time": "2023-12-23T04:20:41.526533133Z",
     "start_time": "2023-12-23T04:20:21.422105657Z"
    }
   },
   "outputs": [
    {
     "name": "stderr",
     "output_type": "stream",
     "text": [
      "/home/techt/anaconda3/envs/hl/lib/python3.8/site-packages/sparse_lmm/helpingMethods.py:49: RuntimeWarning: invalid value encountered in divide\n",
      "  ts = beta / np.sqrt(var * sigma)\n",
      "/home/techt/anaconda3/envs/hl/lib/python3.8/site-packages/sparse_lmm/VariableSelection.py:183: RuntimeWarning: divide by zero encountered in log\n",
      "  return -np.log(p), np.array(betas)\n"
     ]
    },
    {
     "name": "stdout",
     "output_type": "stream",
     "text": [
      "The cross-validation accuracy is 88.98% ± 0.68%\n"
     ]
    }
   ],
   "source": [
    "# Select relevant columns and convert to numpy array\n",
    "y = merged_data[TRAIT].values\n",
    "X = merged_data.drop(columns=[TRAIT]).values\n",
    "\n",
    "cv_mean, cv_std = cross_validation(X, y)\n",
    "print(f'The cross-validation accuracy is {(cv_mean * 100):.2f}% ± {(cv_std * 100):.2f}%')"
   ]
  },
  {
   "cell_type": "code",
   "execution_count": 2,
   "metadata": {
    "ExecuteTime": {
     "end_time": "2023-12-23T04:20:45.934102634Z",
     "start_time": "2023-12-23T04:20:41.527815231Z"
    }
   },
   "outputs": [
    {
     "ename": "NameError",
     "evalue": "name 'VariableSelection' is not defined",
     "output_type": "error",
     "traceback": [
      "\u001b[0;31m---------------------------------------------------------------------------\u001b[0m",
      "\u001b[0;31mNameError\u001b[0m                                 Traceback (most recent call last)",
      "Cell \u001b[0;32mIn[2], line 3\u001b[0m\n\u001b[1;32m      1\u001b[0m \u001b[38;5;66;03m# Conduct regression on the whole dataset\u001b[39;00m\n\u001b[0;32m----> 3\u001b[0m var_select \u001b[38;5;241m=\u001b[39m VariableSelection()\n\u001b[1;32m      5\u001b[0m y \u001b[38;5;241m=\u001b[39m merged_data[TRAIT]\u001b[38;5;241m.\u001b[39mvalues\n\u001b[1;32m      6\u001b[0m X \u001b[38;5;241m=\u001b[39m merged_data\u001b[38;5;241m.\u001b[39mdrop(columns\u001b[38;5;241m=\u001b[39m[TRAIT])\u001b[38;5;241m.\u001b[39mvalues\n",
      "\u001b[0;31mNameError\u001b[0m: name 'VariableSelection' is not defined"
     ]
    }
   ],
   "source": [
    "import numpy as np\n",
    "from sklearn.linear_model import LassoCV\n",
    "from sparse_lmm import VariableSelection\n",
    "\n",
    "# Conduct regression on the whole dataset\n",
    "y = merged_data[TRAIT].values\n",
    "X = merged_data.drop(columns=[TRAIT]).values\n",
    "\n",
    "X, _ = normalize_data(X)\n",
    "\n",
    "if batch_effect == 1:\n",
    "    # If there is batch effect, perform lmm for variable selection\n",
    "    # Fit the model\n",
    "    var_select = VariableSelection()\n",
    "    var_select.fit(X, y)\n",
    "    \n",
    "    # Retrieve the coefficients\n",
    "    coefficients = var_select.getBeta().reshape(-1).tolist()\n",
    "    nlog_p_values = var_select.getNegLogP().reshape(-1).tolist()\n",
    "    p_values = [np.exp(-p) for p in nlog_p_values]\n",
    "else:\n",
    "    # If there is no batch effect, perform Lasso regression for variable selection\n",
    "    # Initialize LassoCV to perform Lasso regression with cross-validation\n",
    "    lasso = LassoCV(cv=5, random_state=0) #LassoCV: automatically select the best lambda\n",
    "    # Fit the Lasso model\n",
    "    lasso.fit(X, y)\n",
    "    # Retrieve the coefficients\n",
    "    lassocoefficients = lasso.coef_"
   ]
  },
  {
   "cell_type": "markdown",
   "metadata": {
    "ExecuteTime": {
     "end_time": "2023-10-14T04:50:59.072075075Z",
     "start_time": "2023-10-14T04:50:38.739499998Z"
    },
    "id": "EjJrxbvb4nlj"
   },
   "source": [
    "### 4. Discussion"
   ]
  },
  {
   "cell_type": "code",
   "execution_count": 24,
   "metadata": {
    "ExecuteTime": {
     "end_time": "2023-12-23T04:20:45.942392445Z",
     "start_time": "2023-12-23T04:20:45.934490589Z"
    }
   },
   "outputs": [
    {
     "name": "stdout",
     "output_type": "stream",
     "text": [
      "Effect of the condition on the target variable:\n",
      "Variable: age\n",
      "Coefficient: -0.0028\n",
      "p-value: 0.5624\n",
      "\n"
     ]
    }
   ],
   "source": [
    "from statsmodels.stats.multitest import multipletests\n",
    "\n",
    "if batch_effect == 1:\n",
    "    # Create a DataFrame for the regression results\n",
    "    regression_df = pd.DataFrame({\n",
    "        'Variable': feature_cols,\n",
    "        'Coefficient': coefficients,\n",
    "        'p_value': p_values\n",
    "    })\n",
    "\n",
    "    # Extract information about the condition's effect\n",
    "    condition_effect = regression_df.iloc[0]\n",
    "\n",
    "    # Report the effect of the condition\n",
    "    print(f\"Effect of the condition on the target variable:\")\n",
    "    print(f\"Variable: {CONDITION}\")\n",
    "    print(f\"Coefficient: {condition_effect['Coefficient']:.4f}\")\n",
    "    print(f\"p-value: {condition_effect['p_value']:.4g}\\n\")\n",
    "else:\n",
    "    # Report the significant variables\n",
    "    print(f\"Effect of the condition on the target variable:\")\n",
    "    print(f\"Variable: {CONDITION}\")\n",
    "    print(f\"Coefficient: {condition_effect['Coefficient']:.4f}\")"
   ]
  },
  {
   "cell_type": "code",
   "execution_count": 3,
   "metadata": {
    "ExecuteTime": {
     "end_time": "2023-12-23T04:20:45.976703879Z",
     "start_time": "2023-12-23T04:20:45.949770853Z"
    }
   },
   "outputs": [
    {
     "ename": "NameError",
     "evalue": "name 'batch_effect' is not defined",
     "output_type": "error",
     "traceback": [
      "\u001b[0;31m---------------------------------------------------------------------------\u001b[0m",
      "\u001b[0;31mNameError\u001b[0m                                 Traceback (most recent call last)",
      "Cell \u001b[0;32mIn[3], line 1\u001b[0m\n\u001b[0;32m----> 1\u001b[0m \u001b[38;5;28;01mif\u001b[39;00m batch_effect \u001b[38;5;241m==\u001b[39m \u001b[38;5;241m1\u001b[39m:\n\u001b[1;32m      2\u001b[0m     \u001b[38;5;66;03m# Apply the Benjamini-Hochberg correction to get the corrected p-values\u001b[39;00m\n\u001b[1;32m      3\u001b[0m     corrected_p_values \u001b[38;5;241m=\u001b[39m multipletests(p_values, alpha\u001b[38;5;241m=\u001b[39mthreshold, method\u001b[38;5;241m=\u001b[39m\u001b[38;5;124m'\u001b[39m\u001b[38;5;124mfdr_bh\u001b[39m\u001b[38;5;124m'\u001b[39m)[\u001b[38;5;241m1\u001b[39m]\n\u001b[1;32m      4\u001b[0m     regression_df[\u001b[38;5;124m'\u001b[39m\u001b[38;5;124mcorrected_p_value\u001b[39m\u001b[38;5;124m'\u001b[39m] \u001b[38;5;241m=\u001b[39m corrected_p_values\n",
      "\u001b[0;31mNameError\u001b[0m: name 'batch_effect' is not defined"
     ]
    }
   ],
   "source": [
    "threshold = 0.05\n",
    "if batch_effect == 1:\n",
    "    regression_df = pd.DataFrame({\n",
    "        'Variable': feature_cols,\n",
    "        'Coefficient': coefficients,\n",
    "        'p_value': p_values\n",
    "    })\n",
    "\n",
    "    # Apply the Benjamini-Hochberg correction to get the corrected p-values\n",
    "    corrected_p_values = multipletests(p_values, alpha=threshold, method='fdr_bh')[1]\n",
    "    regression_df['corrected_p_value'] = corrected_p_values\n",
    "\n",
    "    # Filter for significant genes\n",
    "    significant_genes = regression_df.loc[regression_df['corrected_p_value'] < threshold]\n",
    "    significant_genes_sorted = significant_genes.sort_values('corrected_p_value')\n",
    "\n",
    "    # Print out the number of significant genes\n",
    "    print(f\"Found {len(significant_genes_sorted)} significant genes affecting the trait '{TRAIT}' conditional on the factor '{CONDITION}', with corrected p-value < {threshold}:\")\n",
    "    print(significant_genes_sorted[['Variable', 'Coefficient', 'corrected_p_value']].to_string(index=False))\n",
    "\n",
    "    # Save to a CSV file\n",
    "    output_path = f'./output/{TRAIT}_{CONDITION}_significant_genes.csv'\n",
    "    os.makedirs(os.path.dirname(output_path), exist_ok=True)\n",
    "    significant_genes_sorted.to_csv(output_path, index=False)\n",
    "    \n",
    "else: \n",
    "    # Filter for significant features\n",
    "    significant_features = [feature for coef, feature in zip(lasso_coefficients, feature_cols) if coef > 0]\n",
    "    significant_variables_df = pd.DataFrame({\n",
    "        'Variable': significant_features,\n",
    "        'Coefficient': [coef for coef in lasso_coefficients if coef > 0]\n",
    "    })\n",
    "\n",
    "    # Print out the significant variables\n",
    "    print(f\"Significant variables affecting the trait '{TRAIT}'\")\n",
    "    print(significant_variables_df.to_string(index=False))\n",
    "\n",
    "    # Save to a CSV file\n",
    "    output_path = f'./output/{TRAIT}_significant_genes.csv'\n",
    "    os.makedirs(os.path.dirname(output_path), exist_ok=True)\n",
    "    significant_variables_df.to_csv(output_path, index=False)"
   ]
  },
  {
   "cell_type": "code",
   "execution_count": 26,
   "metadata": {
    "ExecuteTime": {
     "end_time": "2023-12-23T04:20:46.428483529Z",
     "start_time": "2023-12-23T04:20:45.960114817Z"
    }
   },
   "outputs": [],
   "source": []
  }
 ],
 "metadata": {
  "colab": {
   "provenance": []
  },
  "kernelspec": {
   "display_name": "Python 3 (ipykernel)",
   "language": "python",
   "name": "python3"
  },
  "language_info": {
   "codemirror_mode": {
    "name": "ipython",
    "version": 3
   },
   "file_extension": ".py",
   "mimetype": "text/x-python",
   "name": "python",
   "nbconvert_exporter": "python",
   "pygments_lexer": "ipython3",
   "version": "3.11.4"
  }
 },
 "nbformat": 4,
 "nbformat_minor": 1
}
